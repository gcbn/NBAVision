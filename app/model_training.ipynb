{
  "nbformat": 4,
  "nbformat_minor": 0,
  "metadata": {
    "colab": {
      "provenance": [],
      "gpuType": "T4",
      "collapsed_sections": [
        "gzTLxLOqbg88",
        "D_uXB9LUMVCj",
        "I5bZOBcPbm4d"
      ],
      "include_colab_link": true
    },
    "kernelspec": {
      "name": "python3",
      "display_name": "Python 3"
    },
    "language_info": {
      "name": "python"
    },
    "accelerator": "GPU"
  },
  "cells": [
    {
      "cell_type": "markdown",
      "metadata": {
        "id": "view-in-github",
        "colab_type": "text"
      },
      "source": [
        "<a href=\"https://colab.research.google.com/github/gcbn/NBAVision/blob/main/app/model_training.ipynb\" target=\"_parent\"><img src=\"https://colab.research.google.com/assets/colab-badge.svg\" alt=\"Open In Colab\"/></a>"
      ]
    },
    {
      "cell_type": "markdown",
      "source": [
        "# Runtime Setup"
      ],
      "metadata": {
        "id": "gzTLxLOqbg88"
      }
    },
    {
      "cell_type": "code",
      "execution_count": null,
      "metadata": {
        "id": "5AB2QaxIbCJ9"
      },
      "outputs": [],
      "source": [
        "# Not required in Colab\n",
        "!pip install torch torchvision\n",
        "!pip install opencv-contrib-python"
      ]
    },
    {
      "cell_type": "code",
      "source": [
        "!pip install ultralytics\n",
        "!pip install roboflow"
      ],
      "metadata": {
        "id": "kAUVPljE1Kh4",
        "colab": {
          "base_uri": "https://localhost:8080/",
          "height": 1000
        },
        "outputId": "3fa4823f-33c3-4998-a7a5-16c4e97776f0"
      },
      "execution_count": 1,
      "outputs": [
        {
          "output_type": "stream",
          "name": "stdout",
          "text": [
            "Collecting ultralytics\n",
            "  Downloading ultralytics-8.0.231-py3-none-any.whl (663 kB)\n",
            "\u001b[2K     \u001b[90m━━━━━━━━━━━━━━━━━━━━━━━━━━━━━━━━━━━━━━━━\u001b[0m \u001b[32m663.2/663.2 kB\u001b[0m \u001b[31m4.2 MB/s\u001b[0m eta \u001b[36m0:00:00\u001b[0m\n",
            "\u001b[?25hRequirement already satisfied: matplotlib>=3.3.0 in /usr/local/lib/python3.10/dist-packages (from ultralytics) (3.7.1)\n",
            "Requirement already satisfied: numpy>=1.22.2 in /usr/local/lib/python3.10/dist-packages (from ultralytics) (1.23.5)\n",
            "Requirement already satisfied: opencv-python>=4.6.0 in /usr/local/lib/python3.10/dist-packages (from ultralytics) (4.8.0.76)\n",
            "Requirement already satisfied: pillow>=7.1.2 in /usr/local/lib/python3.10/dist-packages (from ultralytics) (9.4.0)\n",
            "Requirement already satisfied: pyyaml>=5.3.1 in /usr/local/lib/python3.10/dist-packages (from ultralytics) (6.0.1)\n",
            "Requirement already satisfied: requests>=2.23.0 in /usr/local/lib/python3.10/dist-packages (from ultralytics) (2.31.0)\n",
            "Requirement already satisfied: scipy>=1.4.1 in /usr/local/lib/python3.10/dist-packages (from ultralytics) (1.11.4)\n",
            "Requirement already satisfied: torch>=1.8.0 in /usr/local/lib/python3.10/dist-packages (from ultralytics) (2.1.0+cu121)\n",
            "Requirement already satisfied: torchvision>=0.9.0 in /usr/local/lib/python3.10/dist-packages (from ultralytics) (0.16.0+cu121)\n",
            "Requirement already satisfied: tqdm>=4.64.0 in /usr/local/lib/python3.10/dist-packages (from ultralytics) (4.66.1)\n",
            "Requirement already satisfied: psutil in /usr/local/lib/python3.10/dist-packages (from ultralytics) (5.9.5)\n",
            "Requirement already satisfied: py-cpuinfo in /usr/local/lib/python3.10/dist-packages (from ultralytics) (9.0.0)\n",
            "Collecting thop>=0.1.1 (from ultralytics)\n",
            "  Downloading thop-0.1.1.post2209072238-py3-none-any.whl (15 kB)\n",
            "Requirement already satisfied: pandas>=1.1.4 in /usr/local/lib/python3.10/dist-packages (from ultralytics) (1.5.3)\n",
            "Requirement already satisfied: seaborn>=0.11.0 in /usr/local/lib/python3.10/dist-packages (from ultralytics) (0.12.2)\n",
            "Requirement already satisfied: contourpy>=1.0.1 in /usr/local/lib/python3.10/dist-packages (from matplotlib>=3.3.0->ultralytics) (1.2.0)\n",
            "Requirement already satisfied: cycler>=0.10 in /usr/local/lib/python3.10/dist-packages (from matplotlib>=3.3.0->ultralytics) (0.12.1)\n",
            "Requirement already satisfied: fonttools>=4.22.0 in /usr/local/lib/python3.10/dist-packages (from matplotlib>=3.3.0->ultralytics) (4.46.0)\n",
            "Requirement already satisfied: kiwisolver>=1.0.1 in /usr/local/lib/python3.10/dist-packages (from matplotlib>=3.3.0->ultralytics) (1.4.5)\n",
            "Requirement already satisfied: packaging>=20.0 in /usr/local/lib/python3.10/dist-packages (from matplotlib>=3.3.0->ultralytics) (23.2)\n",
            "Requirement already satisfied: pyparsing>=2.3.1 in /usr/local/lib/python3.10/dist-packages (from matplotlib>=3.3.0->ultralytics) (3.1.1)\n",
            "Requirement already satisfied: python-dateutil>=2.7 in /usr/local/lib/python3.10/dist-packages (from matplotlib>=3.3.0->ultralytics) (2.8.2)\n",
            "Requirement already satisfied: pytz>=2020.1 in /usr/local/lib/python3.10/dist-packages (from pandas>=1.1.4->ultralytics) (2023.3.post1)\n",
            "Requirement already satisfied: charset-normalizer<4,>=2 in /usr/local/lib/python3.10/dist-packages (from requests>=2.23.0->ultralytics) (3.3.2)\n",
            "Requirement already satisfied: idna<4,>=2.5 in /usr/local/lib/python3.10/dist-packages (from requests>=2.23.0->ultralytics) (3.6)\n",
            "Requirement already satisfied: urllib3<3,>=1.21.1 in /usr/local/lib/python3.10/dist-packages (from requests>=2.23.0->ultralytics) (2.0.7)\n",
            "Requirement already satisfied: certifi>=2017.4.17 in /usr/local/lib/python3.10/dist-packages (from requests>=2.23.0->ultralytics) (2023.11.17)\n",
            "Requirement already satisfied: filelock in /usr/local/lib/python3.10/dist-packages (from torch>=1.8.0->ultralytics) (3.13.1)\n",
            "Requirement already satisfied: typing-extensions in /usr/local/lib/python3.10/dist-packages (from torch>=1.8.0->ultralytics) (4.5.0)\n",
            "Requirement already satisfied: sympy in /usr/local/lib/python3.10/dist-packages (from torch>=1.8.0->ultralytics) (1.12)\n",
            "Requirement already satisfied: networkx in /usr/local/lib/python3.10/dist-packages (from torch>=1.8.0->ultralytics) (3.2.1)\n",
            "Requirement already satisfied: jinja2 in /usr/local/lib/python3.10/dist-packages (from torch>=1.8.0->ultralytics) (3.1.2)\n",
            "Requirement already satisfied: fsspec in /usr/local/lib/python3.10/dist-packages (from torch>=1.8.0->ultralytics) (2023.6.0)\n",
            "Requirement already satisfied: triton==2.1.0 in /usr/local/lib/python3.10/dist-packages (from torch>=1.8.0->ultralytics) (2.1.0)\n",
            "Requirement already satisfied: six>=1.5 in /usr/local/lib/python3.10/dist-packages (from python-dateutil>=2.7->matplotlib>=3.3.0->ultralytics) (1.16.0)\n",
            "Requirement already satisfied: MarkupSafe>=2.0 in /usr/local/lib/python3.10/dist-packages (from jinja2->torch>=1.8.0->ultralytics) (2.1.3)\n",
            "Requirement already satisfied: mpmath>=0.19 in /usr/local/lib/python3.10/dist-packages (from sympy->torch>=1.8.0->ultralytics) (1.3.0)\n",
            "Installing collected packages: thop, ultralytics\n",
            "Successfully installed thop-0.1.1.post2209072238 ultralytics-8.0.231\n",
            "Collecting roboflow\n",
            "  Downloading roboflow-1.1.14-py3-none-any.whl (68 kB)\n",
            "\u001b[2K     \u001b[90m━━━━━━━━━━━━━━━━━━━━━━━━━━━━━━━━━━━━━━━━\u001b[0m \u001b[32m69.0/69.0 kB\u001b[0m \u001b[31m1.8 MB/s\u001b[0m eta \u001b[36m0:00:00\u001b[0m\n",
            "\u001b[?25hCollecting certifi==2023.7.22 (from roboflow)\n",
            "  Downloading certifi-2023.7.22-py3-none-any.whl (158 kB)\n",
            "\u001b[2K     \u001b[90m━━━━━━━━━━━━━━━━━━━━━━━━━━━━━━━━━━━━━━━━\u001b[0m \u001b[32m158.3/158.3 kB\u001b[0m \u001b[31m7.2 MB/s\u001b[0m eta \u001b[36m0:00:00\u001b[0m\n",
            "\u001b[?25hCollecting chardet==4.0.0 (from roboflow)\n",
            "  Downloading chardet-4.0.0-py2.py3-none-any.whl (178 kB)\n",
            "\u001b[2K     \u001b[90m━━━━━━━━━━━━━━━━━━━━━━━━━━━━━━━━━━━━━━━━\u001b[0m \u001b[32m178.7/178.7 kB\u001b[0m \u001b[31m26.0 MB/s\u001b[0m eta \u001b[36m0:00:00\u001b[0m\n",
            "\u001b[?25hCollecting cycler==0.10.0 (from roboflow)\n",
            "  Downloading cycler-0.10.0-py2.py3-none-any.whl (6.5 kB)\n",
            "Collecting idna==2.10 (from roboflow)\n",
            "  Downloading idna-2.10-py2.py3-none-any.whl (58 kB)\n",
            "\u001b[2K     \u001b[90m━━━━━━━━━━━━━━━━━━━━━━━━━━━━━━━━━━━━━━━━\u001b[0m \u001b[32m58.8/58.8 kB\u001b[0m \u001b[31m9.0 MB/s\u001b[0m eta \u001b[36m0:00:00\u001b[0m\n",
            "\u001b[?25hRequirement already satisfied: kiwisolver>=1.3.1 in /usr/local/lib/python3.10/dist-packages (from roboflow) (1.4.5)\n",
            "Requirement already satisfied: matplotlib in /usr/local/lib/python3.10/dist-packages (from roboflow) (3.7.1)\n",
            "Requirement already satisfied: numpy>=1.18.5 in /usr/local/lib/python3.10/dist-packages (from roboflow) (1.23.5)\n",
            "Collecting opencv-python-headless==4.8.0.74 (from roboflow)\n",
            "  Downloading opencv_python_headless-4.8.0.74-cp37-abi3-manylinux_2_17_x86_64.manylinux2014_x86_64.whl (49.1 MB)\n",
            "\u001b[2K     \u001b[90m━━━━━━━━━━━━━━━━━━━━━━━━━━━━━━━━━━━━━━━━\u001b[0m \u001b[32m49.1/49.1 MB\u001b[0m \u001b[31m12.8 MB/s\u001b[0m eta \u001b[36m0:00:00\u001b[0m\n",
            "\u001b[?25hRequirement already satisfied: Pillow>=7.1.2 in /usr/local/lib/python3.10/dist-packages (from roboflow) (9.4.0)\n",
            "Collecting pyparsing==2.4.7 (from roboflow)\n",
            "  Downloading pyparsing-2.4.7-py2.py3-none-any.whl (67 kB)\n",
            "\u001b[2K     \u001b[90m━━━━━━━━━━━━━━━━━━━━━━━━━━━━━━━━━━━━━━━━\u001b[0m \u001b[32m67.8/67.8 kB\u001b[0m \u001b[31m10.6 MB/s\u001b[0m eta \u001b[36m0:00:00\u001b[0m\n",
            "\u001b[?25hRequirement already satisfied: python-dateutil in /usr/local/lib/python3.10/dist-packages (from roboflow) (2.8.2)\n",
            "Collecting python-dotenv (from roboflow)\n",
            "  Downloading python_dotenv-1.0.0-py3-none-any.whl (19 kB)\n",
            "Requirement already satisfied: requests in /usr/local/lib/python3.10/dist-packages (from roboflow) (2.31.0)\n",
            "Requirement already satisfied: six in /usr/local/lib/python3.10/dist-packages (from roboflow) (1.16.0)\n",
            "Collecting supervision (from roboflow)\n",
            "  Downloading supervision-0.17.1-py3-none-any.whl (77 kB)\n",
            "\u001b[2K     \u001b[90m━━━━━━━━━━━━━━━━━━━━━━━━━━━━━━━━━━━━━━━━\u001b[0m \u001b[32m77.5/77.5 kB\u001b[0m \u001b[31m11.1 MB/s\u001b[0m eta \u001b[36m0:00:00\u001b[0m\n",
            "\u001b[?25hRequirement already satisfied: urllib3>=1.26.6 in /usr/local/lib/python3.10/dist-packages (from roboflow) (2.0.7)\n",
            "Requirement already satisfied: tqdm>=4.41.0 in /usr/local/lib/python3.10/dist-packages (from roboflow) (4.66.1)\n",
            "Requirement already satisfied: PyYAML>=5.3.1 in /usr/local/lib/python3.10/dist-packages (from roboflow) (6.0.1)\n",
            "Collecting requests-toolbelt (from roboflow)\n",
            "  Downloading requests_toolbelt-1.0.0-py2.py3-none-any.whl (54 kB)\n",
            "\u001b[2K     \u001b[90m━━━━━━━━━━━━━━━━━━━━━━━━━━━━━━━━━━━━━━━━\u001b[0m \u001b[32m54.5/54.5 kB\u001b[0m \u001b[31m8.2 MB/s\u001b[0m eta \u001b[36m0:00:00\u001b[0m\n",
            "\u001b[?25hCollecting python-magic (from roboflow)\n",
            "  Downloading python_magic-0.4.27-py2.py3-none-any.whl (13 kB)\n",
            "Requirement already satisfied: contourpy>=1.0.1 in /usr/local/lib/python3.10/dist-packages (from matplotlib->roboflow) (1.2.0)\n",
            "Requirement already satisfied: fonttools>=4.22.0 in /usr/local/lib/python3.10/dist-packages (from matplotlib->roboflow) (4.46.0)\n",
            "Requirement already satisfied: packaging>=20.0 in /usr/local/lib/python3.10/dist-packages (from matplotlib->roboflow) (23.2)\n",
            "Requirement already satisfied: charset-normalizer<4,>=2 in /usr/local/lib/python3.10/dist-packages (from requests->roboflow) (3.3.2)\n",
            "Requirement already satisfied: scipy>=1.9.0 in /usr/local/lib/python3.10/dist-packages (from supervision->roboflow) (1.11.4)\n",
            "Installing collected packages: python-magic, python-dotenv, pyparsing, opencv-python-headless, idna, cycler, chardet, certifi, supervision, requests-toolbelt, roboflow\n",
            "  Attempting uninstall: pyparsing\n",
            "    Found existing installation: pyparsing 3.1.1\n",
            "    Uninstalling pyparsing-3.1.1:\n",
            "      Successfully uninstalled pyparsing-3.1.1\n",
            "  Attempting uninstall: opencv-python-headless\n",
            "    Found existing installation: opencv-python-headless 4.8.1.78\n",
            "    Uninstalling opencv-python-headless-4.8.1.78:\n",
            "      Successfully uninstalled opencv-python-headless-4.8.1.78\n",
            "  Attempting uninstall: idna\n",
            "    Found existing installation: idna 3.6\n",
            "    Uninstalling idna-3.6:\n",
            "      Successfully uninstalled idna-3.6\n",
            "  Attempting uninstall: cycler\n",
            "    Found existing installation: cycler 0.12.1\n",
            "    Uninstalling cycler-0.12.1:\n",
            "      Successfully uninstalled cycler-0.12.1\n",
            "  Attempting uninstall: chardet\n",
            "    Found existing installation: chardet 5.2.0\n",
            "    Uninstalling chardet-5.2.0:\n",
            "      Successfully uninstalled chardet-5.2.0\n",
            "  Attempting uninstall: certifi\n",
            "    Found existing installation: certifi 2023.11.17\n",
            "    Uninstalling certifi-2023.11.17:\n",
            "      Successfully uninstalled certifi-2023.11.17\n",
            "\u001b[31mERROR: pip's dependency resolver does not currently take into account all the packages that are installed. This behaviour is the source of the following dependency conflicts.\n",
            "lida 0.0.10 requires fastapi, which is not installed.\n",
            "lida 0.0.10 requires kaleido, which is not installed.\n",
            "lida 0.0.10 requires python-multipart, which is not installed.\n",
            "lida 0.0.10 requires uvicorn, which is not installed.\u001b[0m\u001b[31m\n",
            "\u001b[0mSuccessfully installed certifi-2023.7.22 chardet-4.0.0 cycler-0.10.0 idna-2.10 opencv-python-headless-4.8.0.74 pyparsing-2.4.7 python-dotenv-1.0.0 python-magic-0.4.27 requests-toolbelt-1.0.0 roboflow-1.1.14 supervision-0.17.1\n"
          ]
        },
        {
          "output_type": "display_data",
          "data": {
            "application/vnd.colab-display-data+json": {
              "pip_warning": {
                "packages": [
                  "certifi",
                  "cycler",
                  "pyparsing"
                ]
              }
            }
          },
          "metadata": {}
        }
      ]
    },
    {
      "cell_type": "code",
      "source": [
        "import os\n",
        "HOME = os.getcwd()"
      ],
      "metadata": {
        "id": "DmtSXVggx-S5"
      },
      "execution_count": 2,
      "outputs": []
    },
    {
      "cell_type": "markdown",
      "source": [
        "# Train"
      ],
      "metadata": {
        "id": "D_uXB9LUMVCj"
      }
    },
    {
      "cell_type": "code",
      "source": [
        "!mkdir {HOME}/datasets\n",
        "%cd {HOME}/datasets\n",
        "\n",
        "from roboflow import Roboflow\n",
        "rf = Roboflow(api_key=\"eK6t7ZUXNjLQBiKVTyvG\")\n",
        "project = rf.workspace(\"roboflow-universe-projects\").project(\"basketball-players-fy4c2\")\n",
        "dataset = project.version(16).download(\"yolov8\")"
      ],
      "metadata": {
        "id": "mZdUXUZO3Skb",
        "outputId": "aeff6941-135f-4bc6-f2ac-dfe3747bef65",
        "colab": {
          "base_uri": "https://localhost:8080/"
        }
      },
      "execution_count": 3,
      "outputs": [
        {
          "output_type": "stream",
          "name": "stdout",
          "text": [
            "/content/datasets\n",
            "loading Roboflow workspace...\n",
            "loading Roboflow project...\n",
            "Dependency ultralytics==8.0.196 is required but found version=8.0.231, to fix: `pip install ultralytics==8.0.196`\n"
          ]
        },
        {
          "output_type": "stream",
          "name": "stderr",
          "text": [
            "Downloading Dataset Version Zip in Basketball-Players-16 to yolov8:: 100%|██████████| 57458/57458 [00:03<00:00, 15603.01it/s]"
          ]
        },
        {
          "output_type": "stream",
          "name": "stdout",
          "text": [
            "\n"
          ]
        },
        {
          "output_type": "stream",
          "name": "stderr",
          "text": [
            "\n",
            "Extracting Dataset Version Zip to Basketball-Players-16 in yolov8:: 100%|██████████| 2070/2070 [00:00<00:00, 5736.33it/s]\n"
          ]
        }
      ]
    },
    {
      "cell_type": "code",
      "source": [
        "from ultralytics import YOLO\n",
        "\n",
        "# Load a model\n",
        "model = YOLO(\"yolov8x.pt\")\n",
        "\n",
        "# Use the model\n",
        "%cd {HOME}\n",
        "model.train(data=f\"{dataset.location}/data.yaml\", epochs=10)  # train the model\n",
        "metrics = model.val()  # evaluate model performance on the validation set\n",
        "path = model.export(format=\"onnx\")  # export the model to ONNX format"
      ],
      "metadata": {
        "id": "L8frYCEfMWgc",
        "outputId": "c00a5e30-78f9-4389-d6b9-9a2f06c41678",
        "colab": {
          "base_uri": "https://localhost:8080/"
        }
      },
      "execution_count": 5,
      "outputs": [
        {
          "output_type": "stream",
          "name": "stdout",
          "text": [
            "Downloading https://github.com/ultralytics/assets/releases/download/v0.0.0/yolov8x.pt to 'yolov8x.pt'...\n"
          ]
        },
        {
          "output_type": "stream",
          "name": "stderr",
          "text": [
            "100%|██████████| 131M/131M [00:00<00:00, 334MB/s]\n"
          ]
        },
        {
          "output_type": "stream",
          "name": "stdout",
          "text": [
            "/content\n",
            "Ultralytics YOLOv8.0.231 🚀 Python-3.10.12 torch-2.1.0+cu121 CUDA:0 (Tesla T4, 15102MiB)\n",
            "\u001b[34m\u001b[1mengine/trainer: \u001b[0mtask=detect, mode=train, model=yolov8x.pt, data=/content/datasets/Basketball-Players-16/data.yaml, epochs=10, time=None, patience=50, batch=16, imgsz=640, save=True, save_period=-1, cache=False, device=None, workers=8, project=None, name=train2, exist_ok=False, pretrained=True, optimizer=auto, verbose=True, seed=0, deterministic=True, single_cls=False, rect=False, cos_lr=False, close_mosaic=10, resume=False, amp=True, fraction=1.0, profile=False, freeze=None, overlap_mask=True, mask_ratio=4, dropout=0.0, val=True, split=val, save_json=False, save_hybrid=False, conf=None, iou=0.7, max_det=300, half=False, dnn=False, plots=True, source=None, vid_stride=1, stream_buffer=False, visualize=False, augment=False, agnostic_nms=False, classes=None, retina_masks=False, embed=None, show=False, save_frames=False, save_txt=False, save_conf=False, save_crop=False, show_labels=True, show_conf=True, show_boxes=True, line_width=None, format=torchscript, keras=False, optimize=False, int8=False, dynamic=False, simplify=False, opset=None, workspace=4, nms=False, lr0=0.01, lrf=0.01, momentum=0.937, weight_decay=0.0005, warmup_epochs=3.0, warmup_momentum=0.8, warmup_bias_lr=0.1, box=7.5, cls=0.5, dfl=1.5, pose=12.0, kobj=1.0, label_smoothing=0.0, nbs=64, hsv_h=0.015, hsv_s=0.7, hsv_v=0.4, degrees=0.0, translate=0.1, scale=0.5, shear=0.0, perspective=0.0, flipud=0.0, fliplr=0.5, mosaic=1.0, mixup=0.0, copy_paste=0.0, cfg=None, tracker=botsort.yaml, save_dir=runs/detect/train2\n",
            "Downloading https://ultralytics.com/assets/Arial.ttf to '/root/.config/Ultralytics/Arial.ttf'...\n"
          ]
        },
        {
          "output_type": "stream",
          "name": "stderr",
          "text": [
            "100%|██████████| 755k/755k [00:00<00:00, 107MB/s]\n"
          ]
        },
        {
          "output_type": "stream",
          "name": "stdout",
          "text": [
            "Overriding model.yaml nc=80 with nc=9\n",
            "\n",
            "                   from  n    params  module                                       arguments                     \n",
            "  0                  -1  1      2320  ultralytics.nn.modules.conv.Conv             [3, 80, 3, 2]                 \n",
            "  1                  -1  1    115520  ultralytics.nn.modules.conv.Conv             [80, 160, 3, 2]               \n",
            "  2                  -1  3    436800  ultralytics.nn.modules.block.C2f             [160, 160, 3, True]           \n",
            "  3                  -1  1    461440  ultralytics.nn.modules.conv.Conv             [160, 320, 3, 2]              \n",
            "  4                  -1  6   3281920  ultralytics.nn.modules.block.C2f             [320, 320, 6, True]           \n",
            "  5                  -1  1   1844480  ultralytics.nn.modules.conv.Conv             [320, 640, 3, 2]              \n",
            "  6                  -1  6  13117440  ultralytics.nn.modules.block.C2f             [640, 640, 6, True]           \n",
            "  7                  -1  1   3687680  ultralytics.nn.modules.conv.Conv             [640, 640, 3, 2]              \n",
            "  8                  -1  3   6969600  ultralytics.nn.modules.block.C2f             [640, 640, 3, True]           \n",
            "  9                  -1  1   1025920  ultralytics.nn.modules.block.SPPF            [640, 640, 5]                 \n",
            " 10                  -1  1         0  torch.nn.modules.upsampling.Upsample         [None, 2, 'nearest']          \n",
            " 11             [-1, 6]  1         0  ultralytics.nn.modules.conv.Concat           [1]                           \n",
            " 12                  -1  3   7379200  ultralytics.nn.modules.block.C2f             [1280, 640, 3]                \n",
            " 13                  -1  1         0  torch.nn.modules.upsampling.Upsample         [None, 2, 'nearest']          \n",
            " 14             [-1, 4]  1         0  ultralytics.nn.modules.conv.Concat           [1]                           \n",
            " 15                  -1  3   1948800  ultralytics.nn.modules.block.C2f             [960, 320, 3]                 \n",
            " 16                  -1  1    922240  ultralytics.nn.modules.conv.Conv             [320, 320, 3, 2]              \n",
            " 17            [-1, 12]  1         0  ultralytics.nn.modules.conv.Concat           [1]                           \n",
            " 18                  -1  3   7174400  ultralytics.nn.modules.block.C2f             [960, 640, 3]                 \n",
            " 19                  -1  1   3687680  ultralytics.nn.modules.conv.Conv             [640, 640, 3, 2]              \n",
            " 20             [-1, 9]  1         0  ultralytics.nn.modules.conv.Concat           [1]                           \n",
            " 21                  -1  3   7379200  ultralytics.nn.modules.block.C2f             [1280, 640, 3]                \n",
            " 22        [15, 18, 21]  1   8726635  ultralytics.nn.modules.head.Detect           [9, [320, 640, 640]]          \n",
            "Model summary: 365 layers, 68161275 parameters, 68161259 gradients, 258.2 GFLOPs\n",
            "\n",
            "Transferred 589/595 items from pretrained weights\n",
            "\u001b[34m\u001b[1mTensorBoard: \u001b[0mStart with 'tensorboard --logdir runs/detect/train2', view at http://localhost:6006/\n",
            "Freezing layer 'model.22.dfl.conv.weight'\n",
            "\u001b[34m\u001b[1mAMP: \u001b[0mrunning Automatic Mixed Precision (AMP) checks with YOLOv8n...\n",
            "Downloading https://github.com/ultralytics/assets/releases/download/v0.0.0/yolov8n.pt to 'yolov8n.pt'...\n"
          ]
        },
        {
          "output_type": "stream",
          "name": "stderr",
          "text": [
            "100%|██████████| 6.23M/6.23M [00:00<00:00, 240MB/s]\n"
          ]
        },
        {
          "output_type": "stream",
          "name": "stdout",
          "text": [
            "WARNING ⚠️ NMS time limit 0.550s exceeded\n",
            "\u001b[34m\u001b[1mAMP: \u001b[0mchecks passed ✅\n"
          ]
        },
        {
          "output_type": "stream",
          "name": "stderr",
          "text": [
            "\u001b[34m\u001b[1mtrain: \u001b[0mScanning /content/datasets/Basketball-Players-16/train/labels... 980 images, 1 backgrounds, 0 corrupt: 100%|██████████| 980/980 [00:00<00:00, 1734.92it/s]"
          ]
        },
        {
          "output_type": "stream",
          "name": "stdout",
          "text": [
            "\u001b[34m\u001b[1mtrain: \u001b[0mNew cache created: /content/datasets/Basketball-Players-16/train/labels.cache\n"
          ]
        },
        {
          "output_type": "stream",
          "name": "stderr",
          "text": [
            "\n"
          ]
        },
        {
          "output_type": "stream",
          "name": "stdout",
          "text": [
            "\u001b[34m\u001b[1malbumentations: \u001b[0mBlur(p=0.01, blur_limit=(3, 7)), MedianBlur(p=0.01, blur_limit=(3, 7)), ToGray(p=0.01), CLAHE(p=0.01, clip_limit=(1, 4.0), tile_grid_size=(8, 8))\n"
          ]
        },
        {
          "output_type": "stream",
          "name": "stderr",
          "text": [
            "\u001b[34m\u001b[1mval: \u001b[0mScanning /content/datasets/Basketball-Players-16/valid/labels... 28 images, 0 backgrounds, 0 corrupt: 100%|██████████| 28/28 [00:00<00:00, 570.29it/s]"
          ]
        },
        {
          "output_type": "stream",
          "name": "stdout",
          "text": [
            "\u001b[34m\u001b[1mval: \u001b[0mNew cache created: /content/datasets/Basketball-Players-16/valid/labels.cache\n"
          ]
        },
        {
          "output_type": "stream",
          "name": "stderr",
          "text": [
            "\n"
          ]
        },
        {
          "output_type": "stream",
          "name": "stdout",
          "text": [
            "Plotting labels to runs/detect/train2/labels.jpg... \n",
            "\u001b[34m\u001b[1moptimizer:\u001b[0m 'optimizer=auto' found, ignoring 'lr0=0.01' and 'momentum=0.937' and determining best 'optimizer', 'lr0' and 'momentum' automatically... \n",
            "\u001b[34m\u001b[1moptimizer:\u001b[0m AdamW(lr=0.000769, momentum=0.9) with parameter groups 97 weight(decay=0.0), 104 weight(decay=0.0005), 103 bias(decay=0.0)\n",
            "10 epochs...\n",
            "Closing dataloader mosaic\n",
            "\u001b[34m\u001b[1malbumentations: \u001b[0mBlur(p=0.01, blur_limit=(3, 7)), MedianBlur(p=0.01, blur_limit=(3, 7)), ToGray(p=0.01), CLAHE(p=0.01, clip_limit=(1, 4.0), tile_grid_size=(8, 8))\n",
            "\n",
            "      Epoch    GPU_mem   box_loss   cls_loss   dfl_loss  Instances       Size\n"
          ]
        },
        {
          "output_type": "stream",
          "name": "stderr",
          "text": [
            "       1/10      13.4G       1.56      1.615      1.415         41        640: 100%|██████████| 62/62 [01:23<00:00,  1.35s/it]\n",
            "                 Class     Images  Instances      Box(P          R      mAP50  mAP50-95): 100%|██████████| 1/1 [00:01<00:00,  2.00s/it]"
          ]
        },
        {
          "output_type": "stream",
          "name": "stdout",
          "text": [
            "                   all         28        432       0.62      0.578      0.687      0.374\n"
          ]
        },
        {
          "output_type": "stream",
          "name": "stderr",
          "text": [
            "\n"
          ]
        },
        {
          "output_type": "stream",
          "name": "stdout",
          "text": [
            "\n",
            "      Epoch    GPU_mem   box_loss   cls_loss   dfl_loss  Instances       Size\n"
          ]
        },
        {
          "output_type": "stream",
          "name": "stderr",
          "text": [
            "       2/10        14G      1.363     0.9726      1.268         35        640: 100%|██████████| 62/62 [01:15<00:00,  1.22s/it]\n",
            "                 Class     Images  Instances      Box(P          R      mAP50  mAP50-95): 100%|██████████| 1/1 [00:01<00:00,  1.27s/it]"
          ]
        },
        {
          "output_type": "stream",
          "name": "stdout",
          "text": [
            "                   all         28        432      0.758      0.765      0.814      0.448\n"
          ]
        },
        {
          "output_type": "stream",
          "name": "stderr",
          "text": [
            "\n"
          ]
        },
        {
          "output_type": "stream",
          "name": "stdout",
          "text": [
            "\n",
            "      Epoch    GPU_mem   box_loss   cls_loss   dfl_loss  Instances       Size\n"
          ]
        },
        {
          "output_type": "stream",
          "name": "stderr",
          "text": [
            "       3/10        14G      1.318      0.869       1.24         46        640: 100%|██████████| 62/62 [01:15<00:00,  1.21s/it]\n",
            "                 Class     Images  Instances      Box(P          R      mAP50  mAP50-95): 100%|██████████| 1/1 [00:01<00:00,  1.21s/it]"
          ]
        },
        {
          "output_type": "stream",
          "name": "stdout",
          "text": [
            "                   all         28        432      0.806      0.639      0.733      0.409\n"
          ]
        },
        {
          "output_type": "stream",
          "name": "stderr",
          "text": [
            "\n"
          ]
        },
        {
          "output_type": "stream",
          "name": "stdout",
          "text": [
            "\n",
            "      Epoch    GPU_mem   box_loss   cls_loss   dfl_loss  Instances       Size\n"
          ]
        },
        {
          "output_type": "stream",
          "name": "stderr",
          "text": [
            "       4/10        14G      1.294     0.8164      1.232         50        640: 100%|██████████| 62/62 [01:14<00:00,  1.21s/it]\n",
            "                 Class     Images  Instances      Box(P          R      mAP50  mAP50-95): 100%|██████████| 1/1 [00:01<00:00,  1.11s/it]"
          ]
        },
        {
          "output_type": "stream",
          "name": "stdout",
          "text": [
            "                   all         28        432      0.776      0.719      0.781      0.452\n"
          ]
        },
        {
          "output_type": "stream",
          "name": "stderr",
          "text": [
            "\n"
          ]
        },
        {
          "output_type": "stream",
          "name": "stdout",
          "text": [
            "\n",
            "      Epoch    GPU_mem   box_loss   cls_loss   dfl_loss  Instances       Size\n"
          ]
        },
        {
          "output_type": "stream",
          "name": "stderr",
          "text": [
            "       5/10        14G      1.251      0.746      1.201         42        640: 100%|██████████| 62/62 [01:15<00:00,  1.21s/it]\n",
            "                 Class     Images  Instances      Box(P          R      mAP50  mAP50-95): 100%|██████████| 1/1 [00:01<00:00,  1.12s/it]"
          ]
        },
        {
          "output_type": "stream",
          "name": "stdout",
          "text": [
            "                   all         28        432      0.779      0.773       0.81      0.478\n"
          ]
        },
        {
          "output_type": "stream",
          "name": "stderr",
          "text": [
            "\n"
          ]
        },
        {
          "output_type": "stream",
          "name": "stdout",
          "text": [
            "\n",
            "      Epoch    GPU_mem   box_loss   cls_loss   dfl_loss  Instances       Size\n"
          ]
        },
        {
          "output_type": "stream",
          "name": "stderr",
          "text": [
            "       6/10        14G      1.169      0.669      1.158         56        640: 100%|██████████| 62/62 [01:15<00:00,  1.21s/it]\n",
            "                 Class     Images  Instances      Box(P          R      mAP50  mAP50-95): 100%|██████████| 1/1 [00:01<00:00,  1.27s/it]"
          ]
        },
        {
          "output_type": "stream",
          "name": "stdout",
          "text": [
            "                   all         28        432      0.767      0.812      0.834      0.515\n"
          ]
        },
        {
          "output_type": "stream",
          "name": "stderr",
          "text": [
            "\n"
          ]
        },
        {
          "output_type": "stream",
          "name": "stdout",
          "text": [
            "\n",
            "      Epoch    GPU_mem   box_loss   cls_loss   dfl_loss  Instances       Size\n"
          ]
        },
        {
          "output_type": "stream",
          "name": "stderr",
          "text": [
            "       7/10        14G      1.148     0.6396      1.145         39        640: 100%|██████████| 62/62 [01:15<00:00,  1.21s/it]\n",
            "                 Class     Images  Instances      Box(P          R      mAP50  mAP50-95): 100%|██████████| 1/1 [00:01<00:00,  1.12s/it]"
          ]
        },
        {
          "output_type": "stream",
          "name": "stdout",
          "text": [
            "                   all         28        432      0.843      0.824      0.866      0.517\n"
          ]
        },
        {
          "output_type": "stream",
          "name": "stderr",
          "text": [
            "\n"
          ]
        },
        {
          "output_type": "stream",
          "name": "stdout",
          "text": [
            "\n",
            "      Epoch    GPU_mem   box_loss   cls_loss   dfl_loss  Instances       Size\n"
          ]
        },
        {
          "output_type": "stream",
          "name": "stderr",
          "text": [
            "       8/10        14G      1.071      0.577      1.104         56        640: 100%|██████████| 62/62 [01:15<00:00,  1.22s/it]\n",
            "                 Class     Images  Instances      Box(P          R      mAP50  mAP50-95): 100%|██████████| 1/1 [00:01<00:00,  1.15s/it]"
          ]
        },
        {
          "output_type": "stream",
          "name": "stdout",
          "text": [
            "                   all         28        432      0.847      0.883      0.872      0.562\n"
          ]
        },
        {
          "output_type": "stream",
          "name": "stderr",
          "text": [
            "\n"
          ]
        },
        {
          "output_type": "stream",
          "name": "stdout",
          "text": [
            "\n",
            "      Epoch    GPU_mem   box_loss   cls_loss   dfl_loss  Instances       Size\n"
          ]
        },
        {
          "output_type": "stream",
          "name": "stderr",
          "text": [
            "       9/10        14G       1.01     0.5282      1.069         72        640: 100%|██████████| 62/62 [01:15<00:00,  1.21s/it]\n",
            "                 Class     Images  Instances      Box(P          R      mAP50  mAP50-95): 100%|██████████| 1/1 [00:01<00:00,  1.17s/it]"
          ]
        },
        {
          "output_type": "stream",
          "name": "stdout",
          "text": [
            "                   all         28        432      0.895      0.828      0.892      0.584\n"
          ]
        },
        {
          "output_type": "stream",
          "name": "stderr",
          "text": [
            "\n"
          ]
        },
        {
          "output_type": "stream",
          "name": "stdout",
          "text": [
            "\n",
            "      Epoch    GPU_mem   box_loss   cls_loss   dfl_loss  Instances       Size\n"
          ]
        },
        {
          "output_type": "stream",
          "name": "stderr",
          "text": [
            "      10/10        14G      0.961     0.4846       1.04         47        640: 100%|██████████| 62/62 [01:15<00:00,  1.21s/it]\n",
            "                 Class     Images  Instances      Box(P          R      mAP50  mAP50-95): 100%|██████████| 1/1 [00:01<00:00,  1.10s/it]"
          ]
        },
        {
          "output_type": "stream",
          "name": "stdout",
          "text": [
            "                   all         28        432      0.868      0.846      0.887      0.592\n"
          ]
        },
        {
          "output_type": "stream",
          "name": "stderr",
          "text": [
            "\n"
          ]
        },
        {
          "output_type": "stream",
          "name": "stdout",
          "text": [
            "\n",
            "10 epochs completed in 0.257 hours.\n",
            "Optimizer stripped from runs/detect/train2/weights/last.pt, 136.7MB\n",
            "Optimizer stripped from runs/detect/train2/weights/best.pt, 136.7MB\n",
            "\n",
            "Validating runs/detect/train2/weights/best.pt...\n",
            "Ultralytics YOLOv8.0.231 🚀 Python-3.10.12 torch-2.1.0+cu121 CUDA:0 (Tesla T4, 15102MiB)\n",
            "Model summary (fused): 268 layers, 68132235 parameters, 0 gradients, 257.4 GFLOPs\n"
          ]
        },
        {
          "output_type": "stream",
          "name": "stderr",
          "text": [
            "                 Class     Images  Instances      Box(P          R      mAP50  mAP50-95): 100%|██████████| 1/1 [00:00<00:00,  1.01it/s]\n"
          ]
        },
        {
          "output_type": "stream",
          "name": "stdout",
          "text": [
            "                   all         28        432      0.869      0.847      0.887      0.591\n",
            "                  Ball         28         17          1      0.534      0.703      0.435\n",
            "                  Hoop         28         18      0.853      0.968      0.929      0.689\n",
            "                Period         28         23      0.848      0.783      0.871      0.588\n",
            "                Player         28        219      0.927      0.845      0.921      0.532\n",
            "                   Ref         28         49      0.892      0.839      0.861      0.488\n",
            "            Shot Clock         28         19      0.948      0.955      0.985      0.626\n",
            "             Team Name         28         20       0.63        0.9      0.897      0.659\n",
            "           Team Points         28         45      0.889      0.978      0.914      0.675\n",
            "        Time Remaining         28         22      0.831      0.818        0.9      0.629\n",
            "Speed: 0.4ms preprocess, 27.2ms inference, 0.0ms loss, 1.1ms postprocess per image\n",
            "Results saved to \u001b[1mruns/detect/train2\u001b[0m\n",
            "Ultralytics YOLOv8.0.231 🚀 Python-3.10.12 torch-2.1.0+cu121 CUDA:0 (Tesla T4, 15102MiB)\n",
            "Model summary (fused): 268 layers, 68132235 parameters, 0 gradients, 257.4 GFLOPs\n"
          ]
        },
        {
          "output_type": "stream",
          "name": "stderr",
          "text": [
            "\u001b[34m\u001b[1mval: \u001b[0mScanning /content/datasets/Basketball-Players-16/valid/labels.cache... 28 images, 0 backgrounds, 0 corrupt: 100%|██████████| 28/28 [00:00<?, ?it/s]\n",
            "                 Class     Images  Instances      Box(P          R      mAP50  mAP50-95): 100%|██████████| 2/2 [00:04<00:00,  2.06s/it]\n"
          ]
        },
        {
          "output_type": "stream",
          "name": "stdout",
          "text": [
            "                   all         28        432      0.869      0.846      0.887      0.591\n",
            "                  Ball         28         17          1      0.534      0.702      0.446\n",
            "                  Hoop         28         18      0.853      0.968      0.929      0.681\n",
            "                Period         28         23      0.848      0.783       0.87      0.582\n",
            "                Player         28        219      0.932      0.845      0.921      0.535\n",
            "                   Ref         28         49      0.891      0.838      0.861      0.493\n",
            "            Shot Clock         28         19      0.948      0.955      0.985      0.598\n",
            "             Team Name         28         20      0.631        0.9        0.9      0.664\n",
            "           Team Points         28         45      0.889      0.978      0.914      0.689\n",
            "        Time Remaining         28         22      0.832      0.818        0.9      0.628\n",
            "Speed: 0.6ms preprocess, 66.4ms inference, 0.0ms loss, 6.3ms postprocess per image\n",
            "Results saved to \u001b[1mruns/detect/train22\u001b[0m\n",
            "Ultralytics YOLOv8.0.231 🚀 Python-3.10.12 torch-2.1.0+cu121 CPU (Intel Xeon 2.00GHz)\n",
            "\n",
            "\u001b[34m\u001b[1mPyTorch:\u001b[0m starting from 'runs/detect/train2/weights/best.pt' with input shape (1, 3, 640, 640) BCHW and output shape(s) (1, 13, 8400) (130.4 MB)\n",
            "\u001b[31m\u001b[1mrequirements:\u001b[0m Ultralytics requirement ['onnx>=1.12.0'] not found, attempting AutoUpdate...\n",
            "Collecting onnx>=1.12.0\n",
            "  Downloading onnx-1.15.0-cp310-cp310-manylinux_2_17_x86_64.manylinux2014_x86_64.whl (15.7 MB)\n",
            "     ━━━━━━━━━━━━━━━━━━━━━━━━━━━━━━━━━━━━━━━━ 15.7/15.7 MB 110.9 MB/s eta 0:00:00\n",
            "Requirement already satisfied: numpy in /usr/local/lib/python3.10/dist-packages (from onnx>=1.12.0) (1.23.5)\n",
            "Requirement already satisfied: protobuf>=3.20.2 in /usr/local/lib/python3.10/dist-packages (from onnx>=1.12.0) (3.20.3)\n",
            "Installing collected packages: onnx\n",
            "Successfully installed onnx-1.15.0\n",
            "\n",
            "\u001b[31m\u001b[1mrequirements:\u001b[0m AutoUpdate success ✅ 9.0s, installed 1 package: ['onnx>=1.12.0']\n",
            "\u001b[31m\u001b[1mrequirements:\u001b[0m ⚠️ \u001b[1mRestart runtime or rerun command for updates to take effect\u001b[0m\n",
            "\n",
            "\n",
            "\u001b[34m\u001b[1mONNX:\u001b[0m starting export with onnx 1.15.0 opset 17...\n",
            "\u001b[34m\u001b[1mONNX:\u001b[0m export success ✅ 21.5s, saved as 'runs/detect/train2/weights/best.onnx' (260.1 MB)\n",
            "\n",
            "Export complete (29.5s)\n",
            "Results saved to \u001b[1m/content/runs/detect/train2/weights\u001b[0m\n",
            "Predict:         yolo predict task=detect model=runs/detect/train2/weights/best.onnx imgsz=640  \n",
            "Validate:        yolo val task=detect model=runs/detect/train2/weights/best.onnx imgsz=640 data=/content/datasets/Basketball-Players-16/data.yaml  \n",
            "Visualize:       https://netron.app\n"
          ]
        }
      ]
    },
    {
      "cell_type": "markdown",
      "source": [
        "# Custom Data Testing"
      ],
      "metadata": {
        "id": "I5bZOBcPbm4d"
      }
    },
    {
      "cell_type": "code",
      "source": [
        "import locale\n",
        "locale.getpreferredencoding = lambda: \"UTF-8\"\n",
        "!yolo task=detect mode=predict model=runs/detect/train2/weights/best.pt conf=0.5 source='stop.jpg' save=True"
      ],
      "metadata": {
        "colab": {
          "base_uri": "https://localhost:8080/"
        },
        "id": "khc8JtCS-8Mp",
        "outputId": "3eecb417-3e18-4836-e950-251447e96d36"
      },
      "execution_count": 7,
      "outputs": [
        {
          "output_type": "stream",
          "name": "stdout",
          "text": [
            "Ultralytics YOLOv8.0.231 🚀 Python-3.10.12 torch-2.1.0+cu121 CPU (Intel Xeon 2.00GHz)\n",
            "Model summary (fused): 268 layers, 68132235 parameters, 0 gradients, 257.4 GFLOPs\n",
            "\n",
            "image 1/1 /content/stop.jpg: 384x640 1 Hoop, 9 Players, 3 Refs, 1 Team Name, 2 Team Pointss, 4 Time Remainings, 1687.3ms\n",
            "Speed: 5.2ms preprocess, 1687.3ms inference, 22.7ms postprocess per image at shape (1, 3, 384, 640)\n",
            "Results saved to \u001b[1mruns/detect/predict\u001b[0m\n",
            "💡 Learn more at https://docs.ultralytics.com/modes/predict\n"
          ]
        }
      ]
    },
    {
      "cell_type": "code",
      "source": [
        "from ultralytics import YOLO\n",
        "model = YOLO('runs/detect/train2/weights/best.pt')\n",
        "results = model.track(source='play.mp4', save=True)  # Tracking with default tracker"
      ],
      "metadata": {
        "colab": {
          "base_uri": "https://localhost:8080/"
        },
        "id": "fdujC0f5CSQ6",
        "outputId": "54035383-6882-448f-f1bc-b81a6571f844"
      },
      "execution_count": 9,
      "outputs": [
        {
          "output_type": "stream",
          "name": "stdout",
          "text": [
            "\u001b[31m\u001b[1mrequirements:\u001b[0m Ultralytics requirement ['lapx>=0.5.2'] not found, attempting AutoUpdate...\n",
            "Collecting lapx>=0.5.2\n",
            "  Downloading lapx-0.5.5-cp310-cp310-manylinux_2_5_x86_64.manylinux1_x86_64.manylinux_2_17_x86_64.manylinux2014_x86_64.whl (1.7 MB)\n",
            "     ━━━━━━━━━━━━━━━━━━━━━━━━━━━━━━━━━━━━━━━━ 1.7/1.7 MB 28.1 MB/s eta 0:00:00\n",
            "Requirement already satisfied: Cython>=0.29.32 in /usr/local/lib/python3.10/dist-packages (from lapx>=0.5.2) (3.0.6)\n",
            "Requirement already satisfied: numpy>=1.21.6 in /usr/local/lib/python3.10/dist-packages (from lapx>=0.5.2) (1.23.5)\n",
            "Installing collected packages: lapx\n",
            "Successfully installed lapx-0.5.5\n",
            "\n",
            "\u001b[31m\u001b[1mrequirements:\u001b[0m AutoUpdate success ✅ 7.0s, installed 1 package: ['lapx>=0.5.2']\n",
            "\u001b[31m\u001b[1mrequirements:\u001b[0m ⚠️ \u001b[1mRestart runtime or rerun command for updates to take effect\u001b[0m\n",
            "\n",
            "\n",
            "\n",
            "WARNING ⚠️ inference results will accumulate in RAM unless `stream=True` is passed, causing potential out-of-memory\n",
            "errors for large sources or long-running streams and videos. See https://docs.ultralytics.com/modes/predict/ for help.\n",
            "\n",
            "Example:\n",
            "    results = model(source=..., stream=True)  # generator of Results objects\n",
            "    for r in results:\n",
            "        boxes = r.boxes  # Boxes object for bbox outputs\n",
            "        masks = r.masks  # Masks object for segment masks outputs\n",
            "        probs = r.probs  # Class probabilities for classification outputs\n",
            "\n",
            "video 1/1 (1/402) /content/play.mp4: 384x640 1 Hoop, 8 Players, 3 Refs, 1 Team Name, 2 Time Remainings, 133.2ms\n",
            "video 1/1 (2/402) /content/play.mp4: 384x640 1 Hoop, 8 Players, 3 Refs, 1 Team Name, 2 Time Remainings, 52.4ms\n",
            "video 1/1 (3/402) /content/play.mp4: 384x640 1 Hoop, 8 Players, 3 Refs, 1 Team Name, 2 Time Remainings, 52.6ms\n",
            "video 1/1 (4/402) /content/play.mp4: 384x640 1 Hoop, 8 Players, 3 Refs, 1 Team Name, 2 Time Remainings, 51.9ms\n",
            "video 1/1 (5/402) /content/play.mp4: 384x640 1 Hoop, 8 Players, 3 Refs, 1 Team Name, 2 Time Remainings, 42.8ms\n",
            "video 1/1 (6/402) /content/play.mp4: 384x640 1 Hoop, 8 Players, 3 Refs, 1 Team Name, 2 Time Remainings, 41.0ms\n",
            "video 1/1 (7/402) /content/play.mp4: 384x640 1 Hoop, 9 Players, 2 Refs, 1 Team Name, 2 Time Remainings, 41.7ms\n",
            "video 1/1 (8/402) /content/play.mp4: 384x640 1 Hoop, 8 Players, 3 Refs, 1 Team Name, 2 Time Remainings, 40.1ms\n",
            "video 1/1 (9/402) /content/play.mp4: 384x640 1 Hoop, 8 Players, 3 Refs, 1 Team Name, 2 Time Remainings, 39.9ms\n",
            "video 1/1 (10/402) /content/play.mp4: 384x640 1 Hoop, 9 Players, 3 Refs, 1 Team Name, 2 Time Remainings, 40.0ms\n",
            "video 1/1 (11/402) /content/play.mp4: 384x640 1 Hoop, 9 Players, 3 Refs, 1 Team Name, 2 Time Remainings, 39.4ms\n",
            "video 1/1 (12/402) /content/play.mp4: 384x640 1 Hoop, 9 Players, 3 Refs, 1 Team Name, 2 Time Remainings, 38.1ms\n",
            "video 1/1 (13/402) /content/play.mp4: 384x640 1 Hoop, 9 Players, 3 Refs, 1 Team Name, 2 Time Remainings, 38.2ms\n",
            "video 1/1 (14/402) /content/play.mp4: 384x640 1 Hoop, 9 Players, 3 Refs, 1 Team Name, 3 Time Remainings, 38.1ms\n",
            "video 1/1 (15/402) /content/play.mp4: 384x640 1 Hoop, 9 Players, 3 Refs, 1 Team Name, 3 Time Remainings, 38.1ms\n",
            "video 1/1 (16/402) /content/play.mp4: 384x640 1 Hoop, 9 Players, 3 Refs, 1 Team Name, 3 Time Remainings, 38.5ms\n",
            "video 1/1 (17/402) /content/play.mp4: 384x640 1 Hoop, 9 Players, 3 Refs, 1 Team Name, 3 Time Remainings, 38.1ms\n",
            "video 1/1 (18/402) /content/play.mp4: 384x640 1 Hoop, 9 Players, 3 Refs, 1 Team Name, 3 Time Remainings, 38.1ms\n",
            "video 1/1 (19/402) /content/play.mp4: 384x640 1 Hoop, 9 Players, 3 Refs, 1 Team Name, 3 Time Remainings, 38.2ms\n",
            "video 1/1 (20/402) /content/play.mp4: 384x640 1 Hoop, 9 Players, 3 Refs, 1 Team Name, 3 Time Remainings, 38.2ms\n",
            "video 1/1 (21/402) /content/play.mp4: 384x640 1 Hoop, 9 Players, 3 Refs, 1 Team Name, 3 Time Remainings, 38.0ms\n",
            "video 1/1 (22/402) /content/play.mp4: 384x640 1 Hoop, 9 Players, 3 Refs, 1 Team Name, 4 Time Remainings, 38.1ms\n",
            "video 1/1 (23/402) /content/play.mp4: 384x640 1 Hoop, 9 Players, 3 Refs, 1 Team Name, 4 Time Remainings, 38.2ms\n",
            "video 1/1 (24/402) /content/play.mp4: 384x640 1 Hoop, 9 Players, 3 Refs, 1 Team Name, 4 Time Remainings, 38.7ms\n",
            "video 1/1 (25/402) /content/play.mp4: 384x640 1 Hoop, 9 Players, 3 Refs, 1 Team Name, 4 Time Remainings, 38.3ms\n",
            "video 1/1 (26/402) /content/play.mp4: 384x640 1 Hoop, 9 Players, 3 Refs, 1 Team Name, 4 Time Remainings, 39.1ms\n",
            "video 1/1 (27/402) /content/play.mp4: 384x640 1 Hoop, 9 Players, 3 Refs, 1 Team Name, 4 Time Remainings, 38.1ms\n",
            "video 1/1 (28/402) /content/play.mp4: 384x640 1 Hoop, 9 Players, 3 Refs, 1 Team Name, 4 Time Remainings, 41.6ms\n",
            "video 1/1 (29/402) /content/play.mp4: 384x640 1 Hoop, 9 Players, 3 Refs, 1 Team Name, 4 Time Remainings, 39.9ms\n",
            "video 1/1 (30/402) /content/play.mp4: 384x640 1 Hoop, 10 Players, 3 Refs, 1 Team Name, 4 Time Remainings, 40.0ms\n",
            "video 1/1 (31/402) /content/play.mp4: 384x640 1 Hoop, 10 Players, 3 Refs, 1 Team Name, 4 Time Remainings, 41.1ms\n",
            "video 1/1 (32/402) /content/play.mp4: 384x640 1 Hoop, 10 Players, 3 Refs, 1 Team Name, 4 Time Remainings, 41.2ms\n",
            "video 1/1 (33/402) /content/play.mp4: 384x640 1 Hoop, 10 Players, 3 Refs, 1 Team Name, 4 Time Remainings, 39.8ms\n",
            "video 1/1 (34/402) /content/play.mp4: 384x640 1 Hoop, 10 Players, 3 Refs, 1 Team Name, 4 Time Remainings, 40.0ms\n",
            "video 1/1 (35/402) /content/play.mp4: 384x640 1 Hoop, 10 Players, 3 Refs, 1 Team Name, 5 Time Remainings, 39.9ms\n",
            "video 1/1 (36/402) /content/play.mp4: 384x640 1 Hoop, 10 Players, 3 Refs, 1 Team Name, 5 Time Remainings, 39.9ms\n",
            "video 1/1 (37/402) /content/play.mp4: 384x640 1 Hoop, 10 Players, 3 Refs, 1 Team Name, 5 Time Remainings, 39.9ms\n",
            "video 1/1 (38/402) /content/play.mp4: 384x640 1 Hoop, 10 Players, 3 Refs, 1 Team Name, 5 Time Remainings, 39.9ms\n",
            "video 1/1 (39/402) /content/play.mp4: 384x640 1 Hoop, 11 Players, 3 Refs, 1 Team Name, 5 Time Remainings, 39.7ms\n",
            "video 1/1 (40/402) /content/play.mp4: 384x640 1 Hoop, 10 Players, 3 Refs, 1 Team Name, 5 Time Remainings, 39.7ms\n",
            "video 1/1 (41/402) /content/play.mp4: 384x640 1 Hoop, 11 Players, 3 Refs, 1 Team Name, 5 Time Remainings, 39.9ms\n",
            "video 1/1 (42/402) /content/play.mp4: 384x640 1 Hoop, 10 Players, 3 Refs, 1 Team Name, 5 Time Remainings, 40.3ms\n",
            "video 1/1 (43/402) /content/play.mp4: 384x640 1 Hoop, 10 Players, 3 Refs, 1 Team Name, 5 Time Remainings, 39.6ms\n",
            "video 1/1 (44/402) /content/play.mp4: 384x640 1 Hoop, 10 Players, 3 Refs, 1 Team Name, 5 Time Remainings, 40.2ms\n",
            "video 1/1 (45/402) /content/play.mp4: 384x640 1 Hoop, 10 Players, 3 Refs, 1 Team Name, 5 Time Remainings, 40.5ms\n",
            "video 1/1 (46/402) /content/play.mp4: 384x640 1 Hoop, 10 Players, 3 Refs, 1 Team Name, 5 Time Remainings, 39.8ms\n",
            "video 1/1 (47/402) /content/play.mp4: 384x640 1 Hoop, 10 Players, 3 Refs, 1 Team Name, 5 Time Remainings, 39.8ms\n",
            "video 1/1 (48/402) /content/play.mp4: 384x640 1 Hoop, 10 Players, 3 Refs, 1 Team Name, 5 Time Remainings, 39.7ms\n",
            "video 1/1 (49/402) /content/play.mp4: 384x640 1 Hoop, 10 Players, 3 Refs, 1 Team Name, 5 Time Remainings, 39.6ms\n",
            "video 1/1 (50/402) /content/play.mp4: 384x640 1 Hoop, 10 Players, 3 Refs, 1 Team Name, 5 Time Remainings, 39.9ms\n",
            "video 1/1 (51/402) /content/play.mp4: 384x640 1 Hoop, 10 Players, 3 Refs, 1 Team Name, 5 Time Remainings, 40.1ms\n",
            "video 1/1 (52/402) /content/play.mp4: 384x640 1 Hoop, 10 Players, 3 Refs, 1 Team Name, 5 Time Remainings, 39.1ms\n",
            "video 1/1 (53/402) /content/play.mp4: 384x640 1 Hoop, 10 Players, 3 Refs, 1 Team Name, 5 Time Remainings, 39.2ms\n",
            "video 1/1 (54/402) /content/play.mp4: 384x640 1 Hoop, 10 Players, 3 Refs, 1 Team Name, 5 Time Remainings, 39.0ms\n",
            "video 1/1 (55/402) /content/play.mp4: 384x640 1 Hoop, 10 Players, 3 Refs, 1 Team Name, 5 Time Remainings, 38.9ms\n",
            "video 1/1 (56/402) /content/play.mp4: 384x640 1 Hoop, 10 Players, 3 Refs, 1 Team Name, 5 Time Remainings, 39.2ms\n",
            "video 1/1 (57/402) /content/play.mp4: 384x640 1 Hoop, 10 Players, 3 Refs, 1 Team Name, 5 Time Remainings, 39.0ms\n",
            "video 1/1 (58/402) /content/play.mp4: 384x640 1 Hoop, 10 Players, 3 Refs, 1 Team Name, 5 Time Remainings, 39.5ms\n",
            "video 1/1 (59/402) /content/play.mp4: 384x640 1 Hoop, 10 Players, 3 Refs, 1 Team Name, 5 Time Remainings, 40.9ms\n",
            "video 1/1 (60/402) /content/play.mp4: 384x640 1 Hoop, 10 Players, 3 Refs, 1 Team Name, 5 Time Remainings, 39.8ms\n",
            "video 1/1 (61/402) /content/play.mp4: 384x640 1 Hoop, 10 Players, 3 Refs, 1 Team Name, 5 Time Remainings, 39.7ms\n",
            "video 1/1 (62/402) /content/play.mp4: 384x640 1 Hoop, 10 Players, 3 Refs, 1 Team Name, 5 Time Remainings, 39.7ms\n",
            "video 1/1 (63/402) /content/play.mp4: 384x640 1 Hoop, 10 Players, 3 Refs, 1 Team Name, 5 Time Remainings, 39.9ms\n",
            "video 1/1 (64/402) /content/play.mp4: 384x640 1 Hoop, 10 Players, 3 Refs, 1 Team Name, 5 Time Remainings, 40.1ms\n",
            "video 1/1 (65/402) /content/play.mp4: 384x640 1 Hoop, 10 Players, 3 Refs, 1 Team Name, 5 Time Remainings, 40.0ms\n",
            "video 1/1 (66/402) /content/play.mp4: 384x640 1 Hoop, 10 Players, 3 Refs, 1 Team Name, 5 Time Remainings, 39.7ms\n",
            "video 1/1 (67/402) /content/play.mp4: 384x640 1 Hoop, 10 Players, 3 Refs, 1 Team Name, 5 Time Remainings, 39.9ms\n",
            "video 1/1 (68/402) /content/play.mp4: 384x640 1 Hoop, 10 Players, 3 Refs, 1 Team Name, 5 Time Remainings, 40.5ms\n",
            "video 1/1 (69/402) /content/play.mp4: 384x640 1 Hoop, 10 Players, 3 Refs, 1 Team Name, 5 Time Remainings, 39.8ms\n",
            "video 1/1 (70/402) /content/play.mp4: 384x640 1 Hoop, 10 Players, 3 Refs, 1 Team Name, 5 Time Remainings, 43.8ms\n",
            "video 1/1 (71/402) /content/play.mp4: 384x640 1 Hoop, 10 Players, 3 Refs, 1 Team Name, 5 Time Remainings, 39.7ms\n",
            "video 1/1 (72/402) /content/play.mp4: 384x640 1 Hoop, 10 Players, 3 Refs, 1 Team Name, 5 Time Remainings, 41.2ms\n",
            "video 1/1 (73/402) /content/play.mp4: 384x640 1 Hoop, 10 Players, 3 Refs, 1 Team Name, 5 Time Remainings, 39.8ms\n",
            "video 1/1 (74/402) /content/play.mp4: 384x640 1 Hoop, 10 Players, 3 Refs, 1 Team Name, 5 Time Remainings, 39.8ms\n",
            "video 1/1 (75/402) /content/play.mp4: 384x640 1 Hoop, 10 Players, 3 Refs, 1 Team Name, 5 Time Remainings, 39.3ms\n",
            "video 1/1 (76/402) /content/play.mp4: 384x640 1 Hoop, 10 Players, 3 Refs, 1 Team Name, 5 Time Remainings, 42.6ms\n",
            "video 1/1 (77/402) /content/play.mp4: 384x640 1 Hoop, 10 Players, 3 Refs, 1 Team Name, 5 Time Remainings, 41.3ms\n",
            "video 1/1 (78/402) /content/play.mp4: 384x640 1 Hoop, 10 Players, 3 Refs, 1 Team Name, 5 Time Remainings, 41.1ms\n",
            "video 1/1 (79/402) /content/play.mp4: 384x640 1 Hoop, 10 Players, 3 Refs, 1 Team Name, 5 Time Remainings, 44.3ms\n",
            "video 1/1 (80/402) /content/play.mp4: 384x640 1 Hoop, 10 Players, 3 Refs, 1 Team Name, 5 Time Remainings, 44.6ms\n",
            "video 1/1 (81/402) /content/play.mp4: 384x640 1 Hoop, 10 Players, 3 Refs, 1 Team Name, 5 Time Remainings, 43.9ms\n",
            "video 1/1 (82/402) /content/play.mp4: 384x640 1 Hoop, 9 Players, 3 Refs, 1 Team Name, 5 Time Remainings, 41.5ms\n",
            "video 1/1 (83/402) /content/play.mp4: 384x640 1 Hoop, 9 Players, 3 Refs, 1 Team Name, 5 Time Remainings, 40.2ms\n",
            "video 1/1 (84/402) /content/play.mp4: 384x640 1 Hoop, 9 Players, 3 Refs, 1 Team Name, 5 Time Remainings, 41.3ms\n",
            "video 1/1 (85/402) /content/play.mp4: 384x640 1 Hoop, 9 Players, 3 Refs, 1 Team Name, 5 Time Remainings, 42.6ms\n",
            "video 1/1 (86/402) /content/play.mp4: 384x640 1 Hoop, 10 Players, 3 Refs, 1 Team Name, 5 Time Remainings, 40.3ms\n",
            "video 1/1 (87/402) /content/play.mp4: 384x640 1 Hoop, 10 Players, 3 Refs, 1 Team Name, 5 Time Remainings, 42.6ms\n",
            "video 1/1 (88/402) /content/play.mp4: 384x640 1 Hoop, 10 Players, 3 Refs, 1 Team Name, 5 Time Remainings, 42.4ms\n",
            "video 1/1 (89/402) /content/play.mp4: 384x640 1 Hoop, 10 Players, 3 Refs, 1 Team Name, 5 Time Remainings, 40.2ms\n",
            "video 1/1 (90/402) /content/play.mp4: 384x640 1 Hoop, 10 Players, 3 Refs, 1 Team Name, 5 Time Remainings, 42.0ms\n",
            "video 1/1 (91/402) /content/play.mp4: 384x640 1 Hoop, 10 Players, 3 Refs, 1 Team Name, 5 Time Remainings, 40.8ms\n",
            "video 1/1 (92/402) /content/play.mp4: 384x640 1 Hoop, 10 Players, 3 Refs, 1 Team Name, 5 Time Remainings, 39.7ms\n",
            "video 1/1 (93/402) /content/play.mp4: 384x640 1 Ball, 1 Hoop, 9 Players, 3 Refs, 1 Team Name, 5 Time Remainings, 39.8ms\n",
            "video 1/1 (94/402) /content/play.mp4: 384x640 1 Ball, 1 Hoop, 9 Players, 3 Refs, 1 Team Name, 5 Time Remainings, 41.0ms\n",
            "video 1/1 (95/402) /content/play.mp4: 384x640 1 Ball, 1 Hoop, 9 Players, 3 Refs, 1 Team Name, 5 Time Remainings, 39.9ms\n",
            "video 1/1 (96/402) /content/play.mp4: 384x640 1 Ball, 1 Hoop, 10 Players, 2 Refs, 1 Team Name, 5 Time Remainings, 39.9ms\n",
            "video 1/1 (97/402) /content/play.mp4: 384x640 1 Ball, 1 Hoop, 10 Players, 2 Refs, 1 Team Name, 5 Time Remainings, 39.8ms\n",
            "video 1/1 (98/402) /content/play.mp4: 384x640 1 Ball, 1 Hoop, 9 Players, 3 Refs, 1 Team Name, 5 Time Remainings, 39.7ms\n",
            "video 1/1 (99/402) /content/play.mp4: 384x640 1 Ball, 1 Hoop, 11 Players, 2 Refs, 1 Team Name, 5 Time Remainings, 39.8ms\n",
            "video 1/1 (100/402) /content/play.mp4: 384x640 1 Ball, 1 Hoop, 10 Players, 2 Refs, 1 Team Name, 5 Time Remainings, 40.1ms\n",
            "video 1/1 (101/402) /content/play.mp4: 384x640 1 Hoop, 10 Players, 2 Refs, 1 Team Name, 5 Time Remainings, 39.9ms\n",
            "video 1/1 (102/402) /content/play.mp4: 384x640 1 Hoop, 9 Players, 3 Refs, 1 Team Name, 5 Time Remainings, 39.7ms\n",
            "video 1/1 (103/402) /content/play.mp4: 384x640 1 Ball, 1 Hoop, 10 Players, 2 Refs, 1 Team Name, 5 Time Remainings, 42.1ms\n",
            "video 1/1 (104/402) /content/play.mp4: 384x640 1 Ball, 1 Hoop, 10 Players, 2 Refs, 1 Team Name, 1 Team Points, 5 Time Remainings, 40.7ms\n",
            "video 1/1 (105/402) /content/play.mp4: 384x640 1 Ball, 1 Hoop, 10 Players, 2 Refs, 1 Team Name, 1 Team Points, 5 Time Remainings, 40.9ms\n",
            "video 1/1 (106/402) /content/play.mp4: 384x640 1 Ball, 1 Hoop, 9 Players, 3 Refs, 1 Team Name, 1 Team Points, 5 Time Remainings, 39.7ms\n",
            "video 1/1 (107/402) /content/play.mp4: 384x640 1 Ball, 1 Hoop, 9 Players, 3 Refs, 1 Team Name, 5 Time Remainings, 40.2ms\n",
            "video 1/1 (108/402) /content/play.mp4: 384x640 1 Ball, 1 Hoop, 10 Players, 3 Refs, 1 Team Name, 5 Time Remainings, 39.6ms\n",
            "video 1/1 (109/402) /content/play.mp4: 384x640 1 Ball, 1 Hoop, 9 Players, 3 Refs, 1 Team Name, 5 Time Remainings, 39.8ms\n",
            "video 1/1 (110/402) /content/play.mp4: 384x640 1 Ball, 1 Hoop, 9 Players, 3 Refs, 1 Team Name, 5 Time Remainings, 40.2ms\n",
            "video 1/1 (111/402) /content/play.mp4: 384x640 1 Ball, 1 Hoop, 9 Players, 3 Refs, 1 Team Name, 5 Time Remainings, 39.8ms\n",
            "video 1/1 (112/402) /content/play.mp4: 384x640 1 Ball, 1 Hoop, 9 Players, 3 Refs, 1 Team Name, 5 Time Remainings, 39.6ms\n",
            "video 1/1 (113/402) /content/play.mp4: 384x640 1 Hoop, 10 Players, 3 Refs, 1 Team Name, 5 Time Remainings, 40.0ms\n",
            "video 1/1 (114/402) /content/play.mp4: 384x640 1 Hoop, 10 Players, 3 Refs, 1 Team Name, 5 Time Remainings, 40.4ms\n",
            "video 1/1 (115/402) /content/play.mp4: 384x640 1 Hoop, 9 Players, 3 Refs, 1 Team Name, 5 Time Remainings, 39.7ms\n",
            "video 1/1 (116/402) /content/play.mp4: 384x640 1 Hoop, 8 Players, 3 Refs, 1 Team Name, 5 Time Remainings, 39.7ms\n",
            "video 1/1 (117/402) /content/play.mp4: 384x640 1 Hoop, 9 Players, 3 Refs, 1 Team Name, 5 Time Remainings, 39.8ms\n",
            "video 1/1 (118/402) /content/play.mp4: 384x640 1 Hoop, 10 Players, 3 Refs, 1 Team Name, 5 Time Remainings, 39.8ms\n",
            "video 1/1 (119/402) /content/play.mp4: 384x640 1 Hoop, 9 Players, 3 Refs, 1 Team Name, 5 Time Remainings, 40.0ms\n",
            "video 1/1 (120/402) /content/play.mp4: 384x640 1 Hoop, 10 Players, 3 Refs, 1 Team Name, 5 Time Remainings, 39.8ms\n",
            "video 1/1 (121/402) /content/play.mp4: 384x640 1 Hoop, 10 Players, 3 Refs, 1 Team Name, 5 Time Remainings, 39.7ms\n",
            "video 1/1 (122/402) /content/play.mp4: 384x640 1 Hoop, 10 Players, 3 Refs, 1 Team Name, 5 Time Remainings, 40.0ms\n",
            "video 1/1 (123/402) /content/play.mp4: 384x640 1 Hoop, 10 Players, 3 Refs, 1 Team Name, 5 Time Remainings, 39.9ms\n",
            "video 1/1 (124/402) /content/play.mp4: 384x640 1 Hoop, 10 Players, 3 Refs, 1 Team Name, 5 Time Remainings, 41.4ms\n",
            "video 1/1 (125/402) /content/play.mp4: 384x640 1 Hoop, 10 Players, 3 Refs, 1 Team Name, 5 Time Remainings, 41.2ms\n",
            "video 1/1 (126/402) /content/play.mp4: 384x640 1 Hoop, 9 Players, 3 Refs, 1 Team Name, 5 Time Remainings, 40.7ms\n",
            "video 1/1 (127/402) /content/play.mp4: 384x640 1 Hoop, 9 Players, 3 Refs, 1 Team Name, 5 Time Remainings, 40.5ms\n",
            "video 1/1 (128/402) /content/play.mp4: 384x640 1 Hoop, 9 Players, 3 Refs, 1 Team Name, 5 Time Remainings, 41.1ms\n",
            "video 1/1 (129/402) /content/play.mp4: 384x640 1 Hoop, 9 Players, 3 Refs, 1 Team Name, 5 Time Remainings, 40.4ms\n",
            "video 1/1 (130/402) /content/play.mp4: 384x640 1 Hoop, 9 Players, 3 Refs, 1 Team Name, 5 Time Remainings, 39.7ms\n",
            "video 1/1 (131/402) /content/play.mp4: 384x640 1 Hoop, 9 Players, 3 Refs, 1 Team Name, 5 Time Remainings, 40.0ms\n",
            "video 1/1 (132/402) /content/play.mp4: 384x640 1 Hoop, 9 Players, 3 Refs, 1 Team Name, 5 Time Remainings, 39.8ms\n",
            "video 1/1 (133/402) /content/play.mp4: 384x640 1 Hoop, 8 Players, 3 Refs, 1 Team Name, 5 Time Remainings, 39.8ms\n",
            "video 1/1 (134/402) /content/play.mp4: 384x640 1 Hoop, 8 Players, 3 Refs, 1 Team Name, 5 Time Remainings, 40.0ms\n",
            "video 1/1 (135/402) /content/play.mp4: 384x640 1 Hoop, 8 Players, 3 Refs, 1 Team Name, 5 Time Remainings, 39.9ms\n",
            "video 1/1 (136/402) /content/play.mp4: 384x640 1 Hoop, 8 Players, 3 Refs, 1 Team Name, 5 Time Remainings, 40.1ms\n",
            "video 1/1 (137/402) /content/play.mp4: 384x640 1 Hoop, 8 Players, 3 Refs, 1 Team Name, 5 Time Remainings, 39.9ms\n",
            "video 1/1 (138/402) /content/play.mp4: 384x640 1 Hoop, 8 Players, 3 Refs, 1 Team Name, 5 Time Remainings, 40.0ms\n",
            "video 1/1 (139/402) /content/play.mp4: 384x640 1 Hoop, 8 Players, 3 Refs, 1 Team Name, 5 Time Remainings, 39.7ms\n",
            "video 1/1 (140/402) /content/play.mp4: 384x640 1 Hoop, 8 Players, 3 Refs, 1 Team Name, 5 Time Remainings, 39.7ms\n",
            "video 1/1 (141/402) /content/play.mp4: 384x640 1 Hoop, 8 Players, 3 Refs, 1 Team Name, 5 Time Remainings, 39.9ms\n",
            "video 1/1 (142/402) /content/play.mp4: 384x640 1 Hoop, 8 Players, 3 Refs, 1 Team Name, 5 Time Remainings, 39.8ms\n",
            "video 1/1 (143/402) /content/play.mp4: 384x640 1 Hoop, 8 Players, 3 Refs, 1 Team Name, 5 Time Remainings, 39.8ms\n",
            "video 1/1 (144/402) /content/play.mp4: 384x640 1 Hoop, 8 Players, 3 Refs, 1 Team Name, 5 Time Remainings, 39.8ms\n",
            "video 1/1 (145/402) /content/play.mp4: 384x640 1 Hoop, 6 Players, 5 Refs, 1 Team Name, 5 Time Remainings, 39.9ms\n",
            "video 1/1 (146/402) /content/play.mp4: 384x640 1 Hoop, 8 Players, 3 Refs, 1 Team Name, 5 Time Remainings, 39.7ms\n",
            "video 1/1 (147/402) /content/play.mp4: 384x640 1 Hoop, 8 Players, 3 Refs, 1 Team Name, 5 Time Remainings, 40.3ms\n",
            "video 1/1 (148/402) /content/play.mp4: 384x640 1 Hoop, 9 Players, 3 Refs, 1 Team Name, 5 Time Remainings, 39.1ms\n",
            "video 1/1 (149/402) /content/play.mp4: 384x640 1 Hoop, 9 Players, 3 Refs, 1 Team Name, 5 Time Remainings, 38.9ms\n",
            "video 1/1 (150/402) /content/play.mp4: 384x640 1 Hoop, 10 Players, 3 Refs, 1 Team Name, 5 Time Remainings, 38.9ms\n",
            "video 1/1 (151/402) /content/play.mp4: 384x640 1 Hoop, 9 Players, 3 Refs, 1 Team Name, 5 Time Remainings, 39.0ms\n",
            "video 1/1 (152/402) /content/play.mp4: 384x640 1 Hoop, 8 Players, 3 Refs, 1 Team Name, 5 Time Remainings, 39.2ms\n",
            "video 1/1 (153/402) /content/play.mp4: 384x640 1 Hoop, 8 Players, 3 Refs, 1 Team Name, 5 Time Remainings, 39.0ms\n",
            "video 1/1 (154/402) /content/play.mp4: 384x640 1 Hoop, 7 Players, 3 Refs, 1 Team Name, 5 Time Remainings, 42.6ms\n",
            "video 1/1 (155/402) /content/play.mp4: 384x640 1 Hoop, 7 Players, 3 Refs, 1 Team Name, 5 Time Remainings, 40.5ms\n",
            "video 1/1 (156/402) /content/play.mp4: 384x640 1 Hoop, 7 Players, 3 Refs, 1 Team Name, 4 Time Remainings, 41.0ms\n",
            "video 1/1 (157/402) /content/play.mp4: 384x640 1 Hoop, 7 Players, 3 Refs, 1 Team Name, 4 Time Remainings, 40.4ms\n",
            "video 1/1 (158/402) /content/play.mp4: 384x640 1 Hoop, 8 Players, 3 Refs, 1 Team Name, 4 Time Remainings, 39.7ms\n",
            "video 1/1 (159/402) /content/play.mp4: 384x640 1 Hoop, 8 Players, 3 Refs, 1 Team Name, 4 Time Remainings, 39.7ms\n",
            "video 1/1 (160/402) /content/play.mp4: 384x640 1 Hoop, 8 Players, 3 Refs, 1 Team Name, 4 Time Remainings, 39.7ms\n",
            "video 1/1 (161/402) /content/play.mp4: 384x640 1 Hoop, 8 Players, 3 Refs, 1 Team Name, 4 Time Remainings, 39.7ms\n",
            "video 1/1 (162/402) /content/play.mp4: 384x640 1 Hoop, 9 Players, 3 Refs, 1 Team Name, 5 Time Remainings, 39.7ms\n",
            "video 1/1 (163/402) /content/play.mp4: 384x640 1 Hoop, 9 Players, 3 Refs, 1 Team Name, 5 Time Remainings, 39.7ms\n",
            "video 1/1 (164/402) /content/play.mp4: 384x640 1 Hoop, 8 Players, 3 Refs, 1 Team Name, 5 Time Remainings, 39.8ms\n",
            "video 1/1 (165/402) /content/play.mp4: 384x640 1 Hoop, 8 Players, 3 Refs, 1 Team Name, 5 Time Remainings, 39.8ms\n",
            "video 1/1 (166/402) /content/play.mp4: 384x640 1 Hoop, 8 Players, 3 Refs, 1 Team Name, 5 Time Remainings, 39.7ms\n",
            "video 1/1 (167/402) /content/play.mp4: 384x640 1 Hoop, 8 Players, 3 Refs, 1 Team Name, 5 Time Remainings, 39.7ms\n",
            "video 1/1 (168/402) /content/play.mp4: 384x640 1 Hoop, 8 Players, 3 Refs, 1 Team Name, 5 Time Remainings, 39.9ms\n",
            "video 1/1 (169/402) /content/play.mp4: 384x640 1 Hoop, 8 Players, 3 Refs, 1 Team Name, 5 Time Remainings, 39.7ms\n",
            "video 1/1 (170/402) /content/play.mp4: 384x640 1 Hoop, 8 Players, 3 Refs, 1 Team Name, 5 Time Remainings, 39.7ms\n",
            "video 1/1 (171/402) /content/play.mp4: 384x640 1 Hoop, 8 Players, 3 Refs, 1 Team Name, 5 Time Remainings, 40.3ms\n",
            "video 1/1 (172/402) /content/play.mp4: 384x640 1 Hoop, 9 Players, 3 Refs, 1 Team Name, 5 Time Remainings, 39.9ms\n",
            "video 1/1 (173/402) /content/play.mp4: 384x640 1 Hoop, 9 Players, 3 Refs, 1 Team Name, 5 Time Remainings, 39.7ms\n",
            "video 1/1 (174/402) /content/play.mp4: 384x640 1 Hoop, 9 Players, 3 Refs, 1 Team Name, 5 Time Remainings, 39.7ms\n",
            "video 1/1 (175/402) /content/play.mp4: 384x640 1 Hoop, 9 Players, 3 Refs, 1 Team Name, 5 Time Remainings, 38.7ms\n",
            "video 1/1 (176/402) /content/play.mp4: 384x640 1 Hoop, 11 Players, 3 Refs, 1 Team Name, 5 Time Remainings, 37.6ms\n",
            "video 1/1 (177/402) /content/play.mp4: 384x640 1 Hoop, 10 Players, 3 Refs, 1 Team Name, 5 Time Remainings, 37.9ms\n",
            "video 1/1 (178/402) /content/play.mp4: 384x640 1 Hoop, 10 Players, 3 Refs, 1 Team Name, 5 Time Remainings, 37.4ms\n",
            "video 1/1 (179/402) /content/play.mp4: 384x640 1 Hoop, 9 Players, 3 Refs, 1 Team Name, 5 Time Remainings, 37.2ms\n",
            "video 1/1 (180/402) /content/play.mp4: 384x640 1 Hoop, 10 Players, 3 Refs, 1 Team Name, 5 Time Remainings, 38.8ms\n",
            "video 1/1 (181/402) /content/play.mp4: 384x640 1 Hoop, 10 Players, 3 Refs, 1 Team Name, 4 Time Remainings, 38.6ms\n",
            "video 1/1 (182/402) /content/play.mp4: 384x640 1 Hoop, 10 Players, 3 Refs, 1 Team Name, 4 Time Remainings, 37.4ms\n",
            "video 1/1 (183/402) /content/play.mp4: 384x640 1 Hoop, 10 Players, 3 Refs, 1 Team Name, 4 Time Remainings, 38.9ms\n",
            "video 1/1 (184/402) /content/play.mp4: 384x640 1 Hoop, 10 Players, 3 Refs, 1 Team Name, 4 Time Remainings, 37.4ms\n",
            "video 1/1 (185/402) /content/play.mp4: 384x640 1 Hoop, 10 Players, 3 Refs, 1 Team Name, 4 Time Remainings, 37.3ms\n",
            "video 1/1 (186/402) /content/play.mp4: 384x640 1 Hoop, 10 Players, 3 Refs, 1 Team Name, 4 Time Remainings, 38.2ms\n",
            "video 1/1 (187/402) /content/play.mp4: 384x640 1 Hoop, 11 Players, 3 Refs, 1 Team Name, 4 Time Remainings, 37.2ms\n",
            "video 1/1 (188/402) /content/play.mp4: 384x640 1 Hoop, 11 Players, 3 Refs, 1 Team Name, 4 Time Remainings, 37.7ms\n",
            "video 1/1 (189/402) /content/play.mp4: 384x640 1 Hoop, 10 Players, 3 Refs, 1 Team Name, 4 Time Remainings, 37.6ms\n",
            "video 1/1 (190/402) /content/play.mp4: 384x640 1 Ball, 1 Hoop, 11 Players, 3 Refs, 1 Team Name, 4 Time Remainings, 38.4ms\n",
            "video 1/1 (191/402) /content/play.mp4: 384x640 1 Ball, 1 Hoop, 11 Players, 3 Refs, 1 Team Name, 4 Time Remainings, 37.3ms\n",
            "video 1/1 (192/402) /content/play.mp4: 384x640 1 Ball, 1 Hoop, 10 Players, 3 Refs, 1 Team Name, 4 Time Remainings, 44.4ms\n",
            "video 1/1 (193/402) /content/play.mp4: 384x640 1 Ball, 1 Hoop, 10 Players, 3 Refs, 1 Team Name, 4 Time Remainings, 40.9ms\n",
            "video 1/1 (194/402) /content/play.mp4: 384x640 1 Ball, 1 Hoop, 10 Players, 3 Refs, 1 Team Name, 4 Time Remainings, 40.5ms\n",
            "video 1/1 (195/402) /content/play.mp4: 384x640 1 Hoop, 9 Players, 3 Refs, 1 Team Name, 5 Time Remainings, 45.2ms\n",
            "video 1/1 (196/402) /content/play.mp4: 384x640 1 Hoop, 10 Players, 3 Refs, 1 Team Name, 5 Time Remainings, 46.8ms\n",
            "video 1/1 (197/402) /content/play.mp4: 384x640 1 Ball, 1 Hoop, 10 Players, 3 Refs, 1 Team Name, 5 Time Remainings, 46.6ms\n",
            "video 1/1 (198/402) /content/play.mp4: 384x640 1 Ball, 1 Hoop, 10 Players, 3 Refs, 1 Team Name, 5 Time Remainings, 45.5ms\n",
            "video 1/1 (199/402) /content/play.mp4: 384x640 1 Ball, 1 Hoop, 10 Players, 3 Refs, 1 Team Name, 5 Time Remainings, 46.0ms\n",
            "video 1/1 (200/402) /content/play.mp4: 384x640 1 Ball, 1 Hoop, 10 Players, 3 Refs, 1 Team Name, 5 Time Remainings, 47.9ms\n",
            "video 1/1 (201/402) /content/play.mp4: 384x640 1 Ball, 1 Hoop, 10 Players, 3 Refs, 1 Team Name, 5 Time Remainings, 48.5ms\n",
            "video 1/1 (202/402) /content/play.mp4: 384x640 1 Ball, 1 Hoop, 10 Players, 3 Refs, 1 Team Name, 5 Time Remainings, 49.1ms\n",
            "video 1/1 (203/402) /content/play.mp4: 384x640 1 Ball, 1 Hoop, 10 Players, 3 Refs, 1 Team Name, 5 Time Remainings, 47.9ms\n",
            "video 1/1 (204/402) /content/play.mp4: 384x640 1 Hoop, 10 Players, 3 Refs, 1 Team Name, 5 Time Remainings, 47.8ms\n",
            "video 1/1 (205/402) /content/play.mp4: 384x640 1 Hoop, 10 Players, 3 Refs, 1 Team Name, 5 Time Remainings, 49.5ms\n",
            "video 1/1 (206/402) /content/play.mp4: 384x640 1 Hoop, 10 Players, 3 Refs, 1 Team Name, 5 Time Remainings, 51.2ms\n",
            "video 1/1 (207/402) /content/play.mp4: 384x640 1 Hoop, 10 Players, 3 Refs, 1 Team Name, 5 Time Remainings, 52.0ms\n",
            "video 1/1 (208/402) /content/play.mp4: 384x640 1 Hoop, 10 Players, 3 Refs, 1 Team Name, 5 Time Remainings, 52.0ms\n",
            "video 1/1 (209/402) /content/play.mp4: 384x640 1 Hoop, 10 Players, 3 Refs, 1 Team Name, 5 Time Remainings, 45.3ms\n",
            "video 1/1 (210/402) /content/play.mp4: 384x640 1 Ball, 1 Hoop, 10 Players, 3 Refs, 1 Team Name, 5 Time Remainings, 45.1ms\n",
            "video 1/1 (211/402) /content/play.mp4: 384x640 1 Ball, 1 Hoop, 10 Players, 3 Refs, 1 Team Name, 5 Time Remainings, 45.3ms\n",
            "video 1/1 (212/402) /content/play.mp4: 384x640 1 Ball, 1 Hoop, 10 Players, 3 Refs, 1 Team Name, 5 Time Remainings, 45.3ms\n",
            "video 1/1 (213/402) /content/play.mp4: 384x640 1 Ball, 1 Hoop, 10 Players, 3 Refs, 1 Team Name, 5 Time Remainings, 40.8ms\n",
            "video 1/1 (214/402) /content/play.mp4: 384x640 1 Ball, 1 Hoop, 10 Players, 3 Refs, 1 Team Name, 5 Time Remainings, 40.6ms\n",
            "video 1/1 (215/402) /content/play.mp4: 384x640 1 Ball, 1 Hoop, 10 Players, 3 Refs, 1 Team Name, 5 Time Remainings, 40.6ms\n",
            "video 1/1 (216/402) /content/play.mp4: 384x640 1 Ball, 1 Hoop, 10 Players, 3 Refs, 1 Team Name, 5 Time Remainings, 40.5ms\n",
            "video 1/1 (217/402) /content/play.mp4: 384x640 1 Ball, 1 Hoop, 10 Players, 3 Refs, 1 Team Name, 5 Time Remainings, 41.0ms\n",
            "video 1/1 (218/402) /content/play.mp4: 384x640 1 Ball, 1 Hoop, 10 Players, 3 Refs, 1 Team Name, 5 Time Remainings, 40.8ms\n",
            "video 1/1 (219/402) /content/play.mp4: 384x640 1 Ball, 1 Hoop, 10 Players, 3 Refs, 1 Team Name, 5 Time Remainings, 41.0ms\n",
            "video 1/1 (220/402) /content/play.mp4: 384x640 1 Ball, 1 Hoop, 10 Players, 3 Refs, 1 Team Name, 5 Time Remainings, 40.0ms\n",
            "video 1/1 (221/402) /content/play.mp4: 384x640 1 Ball, 1 Hoop, 10 Players, 3 Refs, 1 Team Name, 5 Time Remainings, 39.9ms\n",
            "video 1/1 (222/402) /content/play.mp4: 384x640 1 Ball, 1 Hoop, 10 Players, 3 Refs, 1 Team Name, 5 Time Remainings, 39.7ms\n",
            "video 1/1 (223/402) /content/play.mp4: 384x640 1 Ball, 1 Hoop, 10 Players, 3 Refs, 1 Team Name, 5 Time Remainings, 39.7ms\n",
            "video 1/1 (224/402) /content/play.mp4: 384x640 1 Ball, 1 Hoop, 10 Players, 3 Refs, 1 Team Name, 5 Time Remainings, 39.7ms\n",
            "video 1/1 (225/402) /content/play.mp4: 384x640 1 Ball, 1 Hoop, 10 Players, 3 Refs, 1 Team Name, 5 Time Remainings, 39.7ms\n",
            "video 1/1 (226/402) /content/play.mp4: 384x640 1 Ball, 1 Hoop, 10 Players, 3 Refs, 1 Team Name, 5 Time Remainings, 40.1ms\n",
            "video 1/1 (227/402) /content/play.mp4: 384x640 1 Hoop, 10 Players, 3 Refs, 1 Team Name, 5 Time Remainings, 40.0ms\n",
            "video 1/1 (228/402) /content/play.mp4: 384x640 1 Hoop, 10 Players, 3 Refs, 1 Team Name, 5 Time Remainings, 39.8ms\n",
            "video 1/1 (229/402) /content/play.mp4: 384x640 1 Hoop, 10 Players, 3 Refs, 1 Team Name, 5 Time Remainings, 39.9ms\n",
            "video 1/1 (230/402) /content/play.mp4: 384x640 1 Hoop, 10 Players, 3 Refs, 1 Team Name, 5 Time Remainings, 40.0ms\n",
            "video 1/1 (231/402) /content/play.mp4: 384x640 1 Hoop, 10 Players, 3 Refs, 1 Team Name, 5 Time Remainings, 39.7ms\n",
            "video 1/1 (232/402) /content/play.mp4: 384x640 1 Hoop, 11 Players, 3 Refs, 1 Team Name, 5 Time Remainings, 39.7ms\n",
            "video 1/1 (233/402) /content/play.mp4: 384x640 1 Hoop, 11 Players, 3 Refs, 1 Team Name, 5 Time Remainings, 39.7ms\n",
            "video 1/1 (234/402) /content/play.mp4: 384x640 1 Hoop, 11 Players, 3 Refs, 1 Team Name, 5 Time Remainings, 39.7ms\n",
            "video 1/1 (235/402) /content/play.mp4: 384x640 1 Hoop, 11 Players, 3 Refs, 1 Team Name, 5 Time Remainings, 39.7ms\n",
            "video 1/1 (236/402) /content/play.mp4: 384x640 1 Hoop, 11 Players, 3 Refs, 1 Team Name, 5 Time Remainings, 39.7ms\n",
            "video 1/1 (237/402) /content/play.mp4: 384x640 1 Hoop, 11 Players, 3 Refs, 1 Team Name, 5 Time Remainings, 39.7ms\n",
            "video 1/1 (238/402) /content/play.mp4: 384x640 1 Hoop, 12 Players, 3 Refs, 1 Team Name, 5 Time Remainings, 40.2ms\n",
            "video 1/1 (239/402) /content/play.mp4: 384x640 1 Hoop, 12 Players, 3 Refs, 1 Team Name, 5 Time Remainings, 39.0ms\n",
            "video 1/1 (240/402) /content/play.mp4: 384x640 1 Hoop, 12 Players, 3 Refs, 1 Team Name, 5 Time Remainings, 39.6ms\n",
            "video 1/1 (241/402) /content/play.mp4: 384x640 1 Hoop, 12 Players, 3 Refs, 1 Team Name, 5 Time Remainings, 39.4ms\n",
            "video 1/1 (242/402) /content/play.mp4: 384x640 1 Hoop, 11 Players, 3 Refs, 1 Team Name, 6 Time Remainings, 40.5ms\n",
            "video 1/1 (243/402) /content/play.mp4: 384x640 1 Hoop, 11 Players, 3 Refs, 1 Team Name, 6 Time Remainings, 42.0ms\n",
            "video 1/1 (244/402) /content/play.mp4: 384x640 1 Hoop, 11 Players, 3 Refs, 1 Team Name, 6 Time Remainings, 40.7ms\n",
            "video 1/1 (245/402) /content/play.mp4: 384x640 1 Hoop, 11 Players, 3 Refs, 1 Team Name, 6 Time Remainings, 40.6ms\n",
            "video 1/1 (246/402) /content/play.mp4: 384x640 1 Ball, 1 Hoop, 12 Players, 3 Refs, 1 Team Name, 6 Time Remainings, 40.6ms\n",
            "video 1/1 (247/402) /content/play.mp4: 384x640 1 Ball, 1 Hoop, 11 Players, 4 Refs, 1 Team Name, 6 Time Remainings, 41.0ms\n",
            "video 1/1 (248/402) /content/play.mp4: 384x640 1 Ball, 1 Hoop, 11 Players, 4 Refs, 1 Team Name, 6 Time Remainings, 39.8ms\n",
            "video 1/1 (249/402) /content/play.mp4: 384x640 1 Ball, 1 Hoop, 11 Players, 4 Refs, 1 Team Name, 6 Time Remainings, 40.8ms\n",
            "video 1/1 (250/402) /content/play.mp4: 384x640 1 Hoop, 11 Players, 4 Refs, 1 Team Name, 6 Time Remainings, 39.1ms\n",
            "video 1/1 (251/402) /content/play.mp4: 384x640 1 Hoop, 11 Players, 4 Refs, 1 Team Name, 6 Time Remainings, 39.0ms\n",
            "video 1/1 (252/402) /content/play.mp4: 384x640 1 Ball, 1 Hoop, 11 Players, 4 Refs, 1 Team Name, 6 Time Remainings, 39.1ms\n",
            "video 1/1 (253/402) /content/play.mp4: 384x640 1 Ball, 1 Hoop, 11 Players, 4 Refs, 1 Team Name, 6 Time Remainings, 39.1ms\n",
            "video 1/1 (254/402) /content/play.mp4: 384x640 1 Hoop, 11 Players, 4 Refs, 1 Team Name, 6 Time Remainings, 39.5ms\n",
            "video 1/1 (255/402) /content/play.mp4: 384x640 1 Hoop, 11 Players, 4 Refs, 1 Team Name, 6 Time Remainings, 39.3ms\n",
            "video 1/1 (256/402) /content/play.mp4: 384x640 1 Hoop, 11 Players, 4 Refs, 1 Team Name, 6 Time Remainings, 39.1ms\n",
            "video 1/1 (257/402) /content/play.mp4: 384x640 1 Hoop, 11 Players, 4 Refs, 2 Team Names, 5 Time Remainings, 39.3ms\n",
            "video 1/1 (258/402) /content/play.mp4: 384x640 1 Hoop, 11 Players, 4 Refs, 2 Team Names, 5 Time Remainings, 39.1ms\n",
            "video 1/1 (259/402) /content/play.mp4: 384x640 1 Hoop, 10 Players, 3 Refs, 1 Team Name, 5 Time Remainings, 39.0ms\n",
            "video 1/1 (260/402) /content/play.mp4: 384x640 1 Hoop, 10 Players, 3 Refs, 1 Team Name, 5 Time Remainings, 39.2ms\n",
            "video 1/1 (261/402) /content/play.mp4: 384x640 1 Hoop, 10 Players, 3 Refs, 1 Team Name, 5 Time Remainings, 39.2ms\n",
            "video 1/1 (262/402) /content/play.mp4: 384x640 1 Hoop, 11 Players, 3 Refs, 1 Team Name, 5 Time Remainings, 39.1ms\n",
            "video 1/1 (263/402) /content/play.mp4: 384x640 1 Hoop, 11 Players, 3 Refs, 1 Team Name, 5 Time Remainings, 39.5ms\n",
            "video 1/1 (264/402) /content/play.mp4: 384x640 1 Hoop, 12 Players, 4 Refs, 1 Team Name, 5 Time Remainings, 39.2ms\n",
            "video 1/1 (265/402) /content/play.mp4: 384x640 1 Hoop, 12 Players, 4 Refs, 1 Team Name, 5 Time Remainings, 40.5ms\n",
            "video 1/1 (266/402) /content/play.mp4: 384x640 1 Hoop, 12 Players, 4 Refs, 1 Team Name, 5 Time Remainings, 40.4ms\n",
            "video 1/1 (267/402) /content/play.mp4: 384x640 1 Hoop, 12 Players, 4 Refs, 1 Team Name, 5 Time Remainings, 41.9ms\n",
            "video 1/1 (268/402) /content/play.mp4: 384x640 1 Hoop, 11 Players, 4 Refs, 1 Team Name, 5 Time Remainings, 40.5ms\n",
            "video 1/1 (269/402) /content/play.mp4: 384x640 1 Hoop, 11 Players, 4 Refs, 1 Team Name, 5 Time Remainings, 40.8ms\n",
            "video 1/1 (270/402) /content/play.mp4: 384x640 1 Hoop, 12 Players, 3 Refs, 1 Team Name, 5 Time Remainings, 39.8ms\n",
            "video 1/1 (271/402) /content/play.mp4: 384x640 1 Hoop, 12 Players, 4 Refs, 1 Team Name, 5 Time Remainings, 39.7ms\n",
            "video 1/1 (272/402) /content/play.mp4: 384x640 1 Hoop, 12 Players, 4 Refs, 1 Team Name, 5 Time Remainings, 40.0ms\n",
            "video 1/1 (273/402) /content/play.mp4: 384x640 1 Hoop, 12 Players, 4 Refs, 1 Team Name, 5 Time Remainings, 39.6ms\n",
            "video 1/1 (274/402) /content/play.mp4: 384x640 1 Hoop, 12 Players, 4 Refs, 1 Team Name, 5 Time Remainings, 39.8ms\n",
            "video 1/1 (275/402) /content/play.mp4: 384x640 1 Hoop, 12 Players, 4 Refs, 1 Team Name, 5 Time Remainings, 39.8ms\n",
            "video 1/1 (276/402) /content/play.mp4: 384x640 1 Hoop, 12 Players, 4 Refs, 1 Team Name, 5 Time Remainings, 39.8ms\n",
            "video 1/1 (277/402) /content/play.mp4: 384x640 1 Hoop, 13 Players, 4 Refs, 1 Team Name, 5 Time Remainings, 39.9ms\n",
            "video 1/1 (278/402) /content/play.mp4: 384x640 1 Hoop, 12 Players, 3 Refs, 1 Team Name, 5 Time Remainings, 39.9ms\n",
            "video 1/1 (279/402) /content/play.mp4: 384x640 1 Hoop, 9 Players, 3 Refs, 1 Team Name, 5 Time Remainings, 39.7ms\n",
            "video 1/1 (280/402) /content/play.mp4: 384x640 1 Ball, 1 Hoop, 9 Players, 3 Refs, 1 Team Name, 5 Time Remainings, 39.8ms\n",
            "video 1/1 (281/402) /content/play.mp4: 384x640 1 Ball, 1 Hoop, 9 Players, 3 Refs, 1 Team Name, 5 Time Remainings, 39.9ms\n",
            "video 1/1 (282/402) /content/play.mp4: 384x640 1 Ball, 1 Hoop, 9 Players, 4 Refs, 1 Team Name, 5 Time Remainings, 39.8ms\n",
            "video 1/1 (283/402) /content/play.mp4: 384x640 1 Ball, 1 Hoop, 10 Players, 4 Refs, 1 Team Name, 5 Time Remainings, 40.2ms\n",
            "video 1/1 (284/402) /content/play.mp4: 384x640 1 Ball, 1 Hoop, 10 Players, 3 Refs, 1 Team Name, 5 Time Remainings, 40.0ms\n",
            "video 1/1 (285/402) /content/play.mp4: 384x640 1 Ball, 1 Hoop, 11 Players, 2 Refs, 1 Team Name, 5 Time Remainings, 39.7ms\n",
            "video 1/1 (286/402) /content/play.mp4: 384x640 1 Ball, 1 Hoop, 11 Players, 2 Refs, 1 Team Name, 5 Time Remainings, 40.0ms\n",
            "video 1/1 (287/402) /content/play.mp4: 384x640 1 Ball, 1 Hoop, 11 Players, 3 Refs, 1 Team Name, 5 Time Remainings, 39.8ms\n",
            "video 1/1 (288/402) /content/play.mp4: 384x640 1 Ball, 1 Hoop, 12 Players, 2 Refs, 1 Team Name, 5 Time Remainings, 40.3ms\n",
            "video 1/1 (289/402) /content/play.mp4: 384x640 1 Ball, 1 Hoop, 11 Players, 3 Refs, 1 Team Name, 5 Time Remainings, 39.2ms\n",
            "video 1/1 (290/402) /content/play.mp4: 384x640 1 Hoop, 11 Players, 3 Refs, 1 Team Name, 5 Time Remainings, 39.7ms\n",
            "video 1/1 (291/402) /content/play.mp4: 384x640 1 Hoop, 10 Players, 3 Refs, 1 Team Name, 5 Time Remainings, 39.1ms\n",
            "video 1/1 (292/402) /content/play.mp4: 384x640 1 Hoop, 10 Players, 3 Refs, 1 Team Name, 5 Time Remainings, 39.5ms\n",
            "video 1/1 (293/402) /content/play.mp4: 384x640 1 Hoop, 10 Players, 3 Refs, 1 Team Name, 5 Time Remainings, 39.2ms\n",
            "video 1/1 (294/402) /content/play.mp4: 384x640 1 Hoop, 10 Players, 3 Refs, 1 Team Name, 5 Time Remainings, 39.1ms\n",
            "video 1/1 (295/402) /content/play.mp4: 384x640 1 Ball, 1 Hoop, 10 Players, 3 Refs, 1 Team Name, 5 Time Remainings, 39.2ms\n",
            "video 1/1 (296/402) /content/play.mp4: 384x640 1 Ball, 1 Hoop, 10 Players, 2 Refs, 1 Team Name, 5 Time Remainings, 39.0ms\n",
            "video 1/1 (297/402) /content/play.mp4: 384x640 1 Ball, 1 Hoop, 10 Players, 2 Refs, 1 Team Name, 5 Time Remainings, 39.1ms\n",
            "video 1/1 (298/402) /content/play.mp4: 384x640 1 Ball, 1 Hoop, 9 Players, 2 Refs, 1 Team Name, 5 Time Remainings, 40.7ms\n",
            "video 1/1 (299/402) /content/play.mp4: 384x640 1 Ball, 1 Hoop, 10 Players, 3 Refs, 1 Team Name, 5 Time Remainings, 40.8ms\n",
            "video 1/1 (300/402) /content/play.mp4: 384x640 1 Hoop, 10 Players, 3 Refs, 1 Team Name, 5 Time Remainings, 41.0ms\n",
            "video 1/1 (301/402) /content/play.mp4: 384x640 1 Ball, 1 Hoop, 9 Players, 3 Refs, 1 Team Name, 5 Time Remainings, 41.9ms\n",
            "video 1/1 (302/402) /content/play.mp4: 384x640 1 Ball, 1 Hoop, 9 Players, 3 Refs, 1 Team Name, 5 Time Remainings, 40.4ms\n",
            "video 1/1 (303/402) /content/play.mp4: 384x640 1 Ball, 1 Hoop, 9 Players, 3 Refs, 1 Team Name, 5 Time Remainings, 41.2ms\n",
            "video 1/1 (304/402) /content/play.mp4: 384x640 1 Ball, 1 Hoop, 9 Players, 3 Refs, 1 Team Name, 5 Time Remainings, 39.8ms\n",
            "video 1/1 (305/402) /content/play.mp4: 384x640 1 Ball, 1 Hoop, 9 Players, 3 Refs, 1 Team Name, 5 Time Remainings, 39.7ms\n",
            "video 1/1 (306/402) /content/play.mp4: 384x640 1 Ball, 1 Hoop, 9 Players, 3 Refs, 1 Team Name, 5 Time Remainings, 40.8ms\n",
            "video 1/1 (307/402) /content/play.mp4: 384x640 1 Ball, 1 Hoop, 10 Players, 3 Refs, 1 Team Name, 5 Time Remainings, 39.9ms\n",
            "video 1/1 (308/402) /content/play.mp4: 384x640 1 Ball, 1 Hoop, 10 Players, 3 Refs, 1 Team Name, 5 Time Remainings, 39.7ms\n",
            "video 1/1 (309/402) /content/play.mp4: 384x640 1 Ball, 1 Hoop, 10 Players, 3 Refs, 1 Team Name, 5 Time Remainings, 39.8ms\n",
            "video 1/1 (310/402) /content/play.mp4: 384x640 1 Ball, 1 Hoop, 10 Players, 3 Refs, 1 Team Name, 5 Time Remainings, 39.9ms\n",
            "video 1/1 (311/402) /content/play.mp4: 384x640 2 Balls, 1 Hoop, 10 Players, 3 Refs, 1 Team Name, 5 Time Remainings, 39.7ms\n",
            "video 1/1 (312/402) /content/play.mp4: 384x640 2 Balls, 1 Hoop, 10 Players, 3 Refs, 1 Team Name, 5 Time Remainings, 39.8ms\n",
            "video 1/1 (313/402) /content/play.mp4: 384x640 1 Ball, 1 Hoop, 11 Players, 3 Refs, 1 Team Name, 5 Time Remainings, 39.9ms\n",
            "video 1/1 (314/402) /content/play.mp4: 384x640 1 Ball, 1 Hoop, 11 Players, 3 Refs, 1 Team Name, 5 Time Remainings, 39.8ms\n",
            "video 1/1 (315/402) /content/play.mp4: 384x640 2 Balls, 1 Hoop, 10 Players, 2 Refs, 1 Team Name, 5 Time Remainings, 39.8ms\n",
            "video 1/1 (316/402) /content/play.mp4: 384x640 2 Balls, 1 Hoop, 10 Players, 2 Refs, 1 Team Name, 5 Time Remainings, 39.7ms\n",
            "video 1/1 (317/402) /content/play.mp4: 384x640 2 Balls, 1 Hoop, 10 Players, 2 Refs, 1 Team Name, 5 Time Remainings, 41.3ms\n",
            "video 1/1 (318/402) /content/play.mp4: 384x640 1 Ball, 1 Hoop, 10 Players, 2 Refs, 1 Team Name, 5 Time Remainings, 43.1ms\n",
            "video 1/1 (319/402) /content/play.mp4: 384x640 1 Ball, 1 Hoop, 10 Players, 2 Refs, 1 Team Name, 5 Time Remainings, 42.2ms\n",
            "video 1/1 (320/402) /content/play.mp4: 384x640 1 Ball, 1 Hoop, 10 Players, 2 Refs, 1 Team Name, 5 Time Remainings, 42.7ms\n",
            "video 1/1 (321/402) /content/play.mp4: 384x640 1 Ball, 1 Hoop, 10 Players, 2 Refs, 1 Team Name, 5 Time Remainings, 44.3ms\n",
            "video 1/1 (322/402) /content/play.mp4: 384x640 1 Ball, 1 Hoop, 10 Players, 2 Refs, 1 Team Name, 5 Time Remainings, 47.1ms\n",
            "video 1/1 (323/402) /content/play.mp4: 384x640 2 Balls, 1 Hoop, 10 Players, 2 Refs, 1 Team Name, 5 Time Remainings, 47.0ms\n",
            "video 1/1 (324/402) /content/play.mp4: 384x640 2 Balls, 1 Hoop, 12 Players, 2 Refs, 1 Team Name, 5 Time Remainings, 41.4ms\n",
            "video 1/1 (325/402) /content/play.mp4: 384x640 2 Balls, 1 Hoop, 12 Players, 2 Refs, 1 Team Name, 5 Time Remainings, 41.4ms\n",
            "video 1/1 (326/402) /content/play.mp4: 384x640 2 Balls, 1 Hoop, 11 Players, 2 Refs, 1 Team Name, 5 Time Remainings, 41.3ms\n",
            "video 1/1 (327/402) /content/play.mp4: 384x640 2 Balls, 1 Hoop, 11 Players, 1 Ref, 1 Team Name, 5 Time Remainings, 41.3ms\n",
            "video 1/1 (328/402) /content/play.mp4: 384x640 2 Balls, 1 Hoop, 10 Players, 1 Ref, 1 Team Name, 5 Time Remainings, 41.4ms\n",
            "video 1/1 (329/402) /content/play.mp4: 384x640 2 Balls, 1 Hoop, 10 Players, 1 Ref, 1 Team Name, 5 Time Remainings, 41.3ms\n",
            "video 1/1 (330/402) /content/play.mp4: 384x640 2 Balls, 1 Hoop, 10 Players, 1 Ref, 1 Team Name, 5 Time Remainings, 41.3ms\n",
            "video 1/1 (331/402) /content/play.mp4: 384x640 2 Balls, 1 Hoop, 10 Players, 1 Ref, 1 Team Name, 5 Time Remainings, 41.4ms\n",
            "video 1/1 (332/402) /content/play.mp4: 384x640 2 Balls, 1 Hoop, 9 Players, 1 Ref, 1 Team Name, 5 Time Remainings, 41.4ms\n",
            "video 1/1 (333/402) /content/play.mp4: 384x640 2 Balls, 1 Hoop, 9 Players, 1 Ref, 1 Team Name, 5 Time Remainings, 41.3ms\n",
            "video 1/1 (334/402) /content/play.mp4: 384x640 2 Balls, 1 Hoop, 9 Players, 1 Ref, 1 Team Name, 5 Time Remainings, 41.3ms\n",
            "video 1/1 (335/402) /content/play.mp4: 384x640 2 Balls, 1 Hoop, 9 Players, 1 Ref, 1 Team Name, 5 Time Remainings, 39.7ms\n",
            "video 1/1 (336/402) /content/play.mp4: 384x640 2 Balls, 1 Hoop, 11 Players, 1 Ref, 1 Team Name, 5 Time Remainings, 39.7ms\n",
            "video 1/1 (337/402) /content/play.mp4: 384x640 3 Balls, 1 Hoop, 11 Players, 2 Refs, 1 Team Name, 5 Time Remainings, 39.7ms\n",
            "video 1/1 (338/402) /content/play.mp4: 384x640 3 Balls, 1 Hoop, 11 Players, 2 Refs, 1 Team Name, 5 Time Remainings, 40.4ms\n",
            "video 1/1 (339/402) /content/play.mp4: 384x640 2 Balls, 1 Hoop, 11 Players, 2 Refs, 1 Team Name, 5 Time Remainings, 39.8ms\n",
            "video 1/1 (340/402) /content/play.mp4: 384x640 2 Balls, 1 Hoop, 11 Players, 2 Refs, 1 Team Name, 5 Time Remainings, 39.7ms\n",
            "video 1/1 (341/402) /content/play.mp4: 384x640 2 Balls, 1 Hoop, 11 Players, 2 Refs, 1 Team Name, 5 Time Remainings, 39.7ms\n",
            "video 1/1 (342/402) /content/play.mp4: 384x640 2 Balls, 1 Hoop, 12 Players, 2 Refs, 1 Team Name, 5 Time Remainings, 39.7ms\n",
            "video 1/1 (343/402) /content/play.mp4: 384x640 2 Balls, 1 Hoop, 11 Players, 2 Refs, 1 Team Name, 5 Time Remainings, 39.7ms\n",
            "video 1/1 (344/402) /content/play.mp4: 384x640 2 Balls, 1 Hoop, 11 Players, 2 Refs, 1 Team Name, 5 Time Remainings, 40.2ms\n",
            "video 1/1 (345/402) /content/play.mp4: 384x640 2 Balls, 1 Hoop, 11 Players, 2 Refs, 1 Team Name, 5 Time Remainings, 39.7ms\n",
            "video 1/1 (346/402) /content/play.mp4: 384x640 2 Balls, 1 Hoop, 10 Players, 2 Refs, 1 Team Name, 5 Time Remainings, 39.7ms\n",
            "video 1/1 (347/402) /content/play.mp4: 384x640 2 Balls, 1 Hoop, 10 Players, 2 Refs, 1 Team Name, 5 Time Remainings, 40.2ms\n",
            "video 1/1 (348/402) /content/play.mp4: 384x640 2 Balls, 1 Hoop, 11 Players, 2 Refs, 1 Team Name, 5 Time Remainings, 39.7ms\n",
            "video 1/1 (349/402) /content/play.mp4: 384x640 3 Balls, 1 Hoop, 10 Players, 2 Refs, 1 Team Name, 5 Time Remainings, 39.8ms\n",
            "video 1/1 (350/402) /content/play.mp4: 384x640 2 Balls, 1 Hoop, 9 Players, 2 Refs, 1 Team Name, 5 Time Remainings, 41.6ms\n",
            "video 1/1 (351/402) /content/play.mp4: 384x640 2 Balls, 1 Hoop, 9 Players, 2 Refs, 1 Team Name, 5 Time Remainings, 40.7ms\n",
            "video 1/1 (352/402) /content/play.mp4: 384x640 2 Balls, 1 Hoop, 8 Players, 2 Refs, 1 Team Name, 5 Time Remainings, 39.3ms\n",
            "video 1/1 (353/402) /content/play.mp4: 384x640 2 Balls, 1 Hoop, 9 Players, 2 Refs, 1 Team Name, 5 Time Remainings, 39.3ms\n",
            "video 1/1 (354/402) /content/play.mp4: 384x640 2 Balls, 1 Hoop, 9 Players, 2 Refs, 1 Team Name, 5 Time Remainings, 39.0ms\n",
            "video 1/1 (355/402) /content/play.mp4: 384x640 1 Ball, 1 Hoop, 9 Players, 2 Refs, 1 Team Name, 5 Time Remainings, 39.1ms\n",
            "video 1/1 (356/402) /content/play.mp4: 384x640 1 Ball, 1 Hoop, 8 Players, 2 Refs, 1 Team Name, 5 Time Remainings, 39.7ms\n",
            "video 1/1 (357/402) /content/play.mp4: 384x640 1 Ball, 1 Hoop, 8 Players, 2 Refs, 1 Team Name, 5 Time Remainings, 39.1ms\n",
            "video 1/1 (358/402) /content/play.mp4: 384x640 1 Ball, 1 Hoop, 8 Players, 2 Refs, 1 Team Name, 5 Time Remainings, 39.1ms\n",
            "video 1/1 (359/402) /content/play.mp4: 384x640 1 Ball, 1 Hoop, 8 Players, 2 Refs, 1 Team Name, 5 Time Remainings, 39.4ms\n",
            "video 1/1 (360/402) /content/play.mp4: 384x640 1 Hoop, 8 Players, 2 Refs, 1 Team Name, 5 Time Remainings, 39.1ms\n",
            "video 1/1 (361/402) /content/play.mp4: 384x640 1 Hoop, 8 Players, 2 Refs, 1 Team Name, 5 Time Remainings, 39.0ms\n",
            "video 1/1 (362/402) /content/play.mp4: 384x640 1 Hoop, 8 Players, 2 Refs, 1 Team Name, 5 Time Remainings, 39.4ms\n",
            "video 1/1 (363/402) /content/play.mp4: 384x640 1 Hoop, 8 Players, 2 Refs, 1 Team Name, 5 Time Remainings, 39.0ms\n",
            "video 1/1 (364/402) /content/play.mp4: 384x640 1 Hoop, 8 Players, 2 Refs, 1 Team Name, 5 Time Remainings, 39.0ms\n",
            "video 1/1 (365/402) /content/play.mp4: 384x640 1 Hoop, 8 Players, 2 Refs, 1 Team Name, 5 Time Remainings, 39.3ms\n",
            "video 1/1 (366/402) /content/play.mp4: 384x640 1 Hoop, 8 Players, 2 Refs, 1 Team Name, 5 Time Remainings, 39.1ms\n",
            "video 1/1 (367/402) /content/play.mp4: 384x640 1 Hoop, 9 Players, 2 Refs, 1 Team Name, 5 Time Remainings, 39.2ms\n",
            "video 1/1 (368/402) /content/play.mp4: 384x640 1 Hoop, 9 Players, 2 Refs, 1 Team Name, 5 Time Remainings, 39.0ms\n",
            "video 1/1 (369/402) /content/play.mp4: 384x640 1 Hoop, 9 Players, 2 Refs, 1 Team Name, 5 Time Remainings, 39.0ms\n",
            "video 1/1 (370/402) /content/play.mp4: 384x640 1 Hoop, 9 Players, 2 Refs, 1 Team Name, 5 Time Remainings, 39.0ms\n",
            "video 1/1 (371/402) /content/play.mp4: 384x640 1 Hoop, 10 Players, 2 Refs, 1 Team Name, 5 Time Remainings, 39.0ms\n",
            "video 1/1 (372/402) /content/play.mp4: 384x640 1 Hoop, 10 Players, 2 Refs, 1 Team Name, 5 Time Remainings, 39.1ms\n",
            "video 1/1 (373/402) /content/play.mp4: 384x640 1 Hoop, 10 Players, 2 Refs, 1 Team Name, 4 Time Remainings, 39.0ms\n",
            "video 1/1 (374/402) /content/play.mp4: 384x640 1 Hoop, 11 Players, 2 Refs, 1 Team Name, 4 Time Remainings, 40.2ms\n",
            "video 1/1 (375/402) /content/play.mp4: 384x640 1 Ball, 1 Hoop, 10 Players, 2 Refs, 1 Team Name, 4 Time Remainings, 39.9ms\n",
            "video 1/1 (376/402) /content/play.mp4: 384x640 1 Ball, 1 Hoop, 10 Players, 2 Refs, 1 Team Name, 4 Time Remainings, 41.8ms\n",
            "video 1/1 (377/402) /content/play.mp4: 384x640 1 Hoop, 10 Players, 2 Refs, 1 Team Name, 4 Time Remainings, 41.0ms\n",
            "video 1/1 (378/402) /content/play.mp4: 384x640 1 Hoop, 10 Players, 2 Refs, 1 Team Name, 4 Time Remainings, 41.8ms\n",
            "video 1/1 (379/402) /content/play.mp4: 384x640 1 Hoop, 10 Players, 2 Refs, 1 Team Name, 4 Time Remainings, 39.9ms\n",
            "video 1/1 (380/402) /content/play.mp4: 384x640 1 Hoop, 10 Players, 2 Refs, 1 Team Name, 4 Time Remainings, 41.4ms\n",
            "video 1/1 (381/402) /content/play.mp4: 384x640 1 Hoop, 10 Players, 2 Refs, 1 Team Name, 4 Time Remainings, 39.6ms\n",
            "video 1/1 (382/402) /content/play.mp4: 384x640 1 Hoop, 10 Players, 2 Refs, 1 Team Name, 4 Time Remainings, 39.7ms\n",
            "video 1/1 (383/402) /content/play.mp4: 384x640 1 Hoop, 10 Players, 2 Refs, 1 Team Name, 4 Time Remainings, 40.0ms\n",
            "video 1/1 (384/402) /content/play.mp4: 384x640 1 Hoop, 10 Players, 2 Refs, 1 Team Name, 4 Time Remainings, 39.7ms\n",
            "video 1/1 (385/402) /content/play.mp4: 384x640 1 Hoop, 10 Players, 2 Refs, 1 Team Name, 4 Time Remainings, 39.7ms\n",
            "video 1/1 (386/402) /content/play.mp4: 384x640 1 Hoop, 10 Players, 2 Refs, 1 Team Name, 4 Time Remainings, 40.4ms\n",
            "video 1/1 (387/402) /content/play.mp4: 384x640 1 Hoop, 10 Players, 2 Refs, 1 Team Name, 4 Time Remainings, 39.8ms\n",
            "video 1/1 (388/402) /content/play.mp4: 384x640 1 Hoop, 9 Players, 2 Refs, 1 Team Name, 4 Time Remainings, 39.9ms\n",
            "video 1/1 (389/402) /content/play.mp4: 384x640 1 Hoop, 9 Players, 2 Refs, 1 Team Name, 4 Time Remainings, 40.0ms\n",
            "video 1/1 (390/402) /content/play.mp4: 384x640 1 Hoop, 8 Players, 2 Refs, 1 Team Name, 4 Time Remainings, 39.8ms\n",
            "video 1/1 (391/402) /content/play.mp4: 384x640 1 Hoop, 8 Players, 2 Refs, 1 Team Name, 4 Time Remainings, 39.7ms\n",
            "video 1/1 (392/402) /content/play.mp4: 384x640 1 Hoop, 10 Players, 2 Refs, 1 Team Name, 4 Time Remainings, 40.0ms\n",
            "video 1/1 (393/402) /content/play.mp4: 384x640 1 Hoop, 10 Players, 2 Refs, 1 Team Name, 4 Time Remainings, 39.6ms\n",
            "video 1/1 (394/402) /content/play.mp4: 384x640 1 Hoop, 10 Players, 2 Refs, 1 Team Name, 4 Time Remainings, 39.7ms\n",
            "video 1/1 (395/402) /content/play.mp4: 384x640 1 Hoop, 10 Players, 2 Refs, 1 Team Name, 4 Time Remainings, 40.0ms\n",
            "video 1/1 (396/402) /content/play.mp4: 384x640 1 Hoop, 10 Players, 2 Refs, 1 Team Name, 4 Time Remainings, 39.8ms\n",
            "video 1/1 (397/402) /content/play.mp4: 384x640 1 Hoop, 11 Players, 2 Refs, 1 Team Name, 4 Time Remainings, 39.6ms\n",
            "video 1/1 (398/402) /content/play.mp4: 384x640 1 Hoop, 10 Players, 2 Refs, 1 Team Name, 4 Time Remainings, 40.0ms\n",
            "video 1/1 (399/402) /content/play.mp4: 384x640 1 Hoop, 10 Players, 2 Refs, 1 Team Name, 4 Time Remainings, 41.6ms\n",
            "video 1/1 (400/402) /content/play.mp4: 384x640 1 Hoop, 10 Players, 2 Refs, 1 Team Name, 4 Time Remainings, 40.6ms\n",
            "video 1/1 (401/402) /content/play.mp4: 384x640 1 Hoop, 10 Players, 2 Refs, 1 Team Name, 4 Time Remainings, 40.5ms\n",
            "Speed: 2.2ms preprocess, 40.7ms inference, 2.6ms postprocess per image at shape (1, 3, 384, 640)\n",
            "Results saved to \u001b[1mruns/detect/predict2\u001b[0m\n"
          ]
        }
      ]
    }
  ]
}