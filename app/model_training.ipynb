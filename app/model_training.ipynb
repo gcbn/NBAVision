{
 "nbformat": 4,
 "nbformat_minor": 0,
 "metadata": {
  "colab": {
   "provenance": [],
   "gpuType": "T4"
  },
  "kernelspec": {
   "name": "python3",
   "display_name": "Python 3"
  },
  "language_info": {
   "name": "python"
  },
  "accelerator": "GPU"
 },
 "cells": [
  {
   "cell_type": "markdown",
   "source": [
    "# Runtime Setup"
   ],
   "metadata": {
    "id": "gzTLxLOqbg88"
   }
  },
  {
   "cell_type": "code",
   "execution_count": 6,
   "metadata": {
    "id": "5AB2QaxIbCJ9"
   },
   "outputs": [
    {
     "name": "stdout",
     "output_type": "stream",
     "text": [
      "Collecting torch\r\n",
      "  Downloading torch-2.1.2-cp310-none-macosx_11_0_arm64.whl.metadata (25 kB)\r\n",
      "Collecting torchvision\r\n",
      "  Downloading torchvision-0.16.2-cp310-cp310-macosx_11_0_arm64.whl.metadata (6.6 kB)\r\n",
      "Collecting filelock (from torch)\r\n",
      "  Downloading filelock-3.13.1-py3-none-any.whl.metadata (2.8 kB)\r\n",
      "Requirement already satisfied: typing-extensions in /Users/guney/mambaforge/envs/visualball/lib/python3.10/site-packages (from torch) (4.8.0)\r\n",
      "Collecting sympy (from torch)\r\n",
      "  Downloading sympy-1.12-py3-none-any.whl (5.7 MB)\r\n",
      "\u001B[2K     \u001B[90m━━━━━━━━━━━━━━━━━━━━━━━━━━━━━━━━━━━━━━━━\u001B[0m \u001B[32m5.7/5.7 MB\u001B[0m \u001B[31m26.2 MB/s\u001B[0m eta \u001B[36m0:00:00\u001B[0ma \u001B[36m0:00:01\u001B[0m\r\n",
      "\u001B[?25hRequirement already satisfied: networkx in /Users/guney/mambaforge/envs/visualball/lib/python3.10/site-packages (from torch) (3.2.1)\r\n",
      "Requirement already satisfied: jinja2 in /Users/guney/mambaforge/envs/visualball/lib/python3.10/site-packages (from torch) (3.1.2)\r\n",
      "Requirement already satisfied: fsspec in /Users/guney/mambaforge/envs/visualball/lib/python3.10/site-packages (from torch) (2023.10.0)\r\n",
      "Requirement already satisfied: numpy in /Users/guney/mambaforge/envs/visualball/lib/python3.10/site-packages (from torchvision) (1.24.4)\r\n",
      "Requirement already satisfied: requests in /Users/guney/mambaforge/envs/visualball/lib/python3.10/site-packages (from torchvision) (2.31.0)\r\n",
      "Requirement already satisfied: pillow!=8.3.*,>=5.3.0 in /Users/guney/mambaforge/envs/visualball/lib/python3.10/site-packages (from torchvision) (10.0.1)\r\n",
      "Requirement already satisfied: MarkupSafe>=2.0 in /Users/guney/mambaforge/envs/visualball/lib/python3.10/site-packages (from jinja2->torch) (2.1.3)\r\n",
      "Requirement already satisfied: charset-normalizer<4,>=2 in /Users/guney/mambaforge/envs/visualball/lib/python3.10/site-packages (from requests->torchvision) (3.3.2)\r\n",
      "Requirement already satisfied: idna<4,>=2.5 in /Users/guney/mambaforge/envs/visualball/lib/python3.10/site-packages (from requests->torchvision) (3.4)\r\n",
      "Requirement already satisfied: urllib3<3,>=1.21.1 in /Users/guney/mambaforge/envs/visualball/lib/python3.10/site-packages (from requests->torchvision) (2.0.7)\r\n",
      "Requirement already satisfied: certifi>=2017.4.17 in /Users/guney/mambaforge/envs/visualball/lib/python3.10/site-packages (from requests->torchvision) (2023.7.22)\r\n",
      "Collecting mpmath>=0.19 (from sympy->torch)\r\n",
      "  Downloading mpmath-1.3.0-py3-none-any.whl (536 kB)\r\n",
      "\u001B[2K     \u001B[90m━━━━━━━━━━━━━━━━━━━━━━━━━━━━━━━━━━━━━━\u001B[0m \u001B[32m536.2/536.2 kB\u001B[0m \u001B[31m24.4 MB/s\u001B[0m eta \u001B[36m0:00:00\u001B[0m\r\n",
      "\u001B[?25hDownloading torch-2.1.2-cp310-none-macosx_11_0_arm64.whl (59.6 MB)\r\n",
      "\u001B[2K   \u001B[90m━━━━━━━━━━━━━━━━━━━━━━━━━━━━━━━━━━━━━━━━\u001B[0m \u001B[32m59.6/59.6 MB\u001B[0m \u001B[31m25.2 MB/s\u001B[0m eta \u001B[36m0:00:00\u001B[0m00:01\u001B[0m00:01\u001B[0m\r\n",
      "\u001B[?25hDownloading torchvision-0.16.2-cp310-cp310-macosx_11_0_arm64.whl (1.5 MB)\r\n",
      "\u001B[2K   \u001B[90m━━━━━━━━━━━━━━━━━━━━━━━━━━━━━━━━━━━━━━━━\u001B[0m \u001B[32m1.5/1.5 MB\u001B[0m \u001B[31m26.4 MB/s\u001B[0m eta \u001B[36m0:00:00\u001B[0ma \u001B[36m0:00:01\u001B[0m\r\n",
      "\u001B[?25hDownloading filelock-3.13.1-py3-none-any.whl (11 kB)\r\n",
      "Installing collected packages: mpmath, sympy, filelock, torch, torchvision\r\n",
      "Successfully installed filelock-3.13.1 mpmath-1.3.0 sympy-1.12 torch-2.1.2 torchvision-0.16.2\r\n",
      "Collecting opencv-contrib-python\r\n",
      "  Downloading opencv_contrib_python-4.8.1.78-cp37-abi3-macosx_11_0_arm64.whl.metadata (19 kB)\r\n",
      "Requirement already satisfied: numpy>=1.21.2 in /Users/guney/mambaforge/envs/visualball/lib/python3.10/site-packages (from opencv-contrib-python) (1.24.4)\r\n",
      "Downloading opencv_contrib_python-4.8.1.78-cp37-abi3-macosx_11_0_arm64.whl (41.4 MB)\r\n",
      "\u001B[2K   \u001B[90m━━━━━━━━━━━━━━━━━━━━━━━━━━━━━━━━━━━━━━━━\u001B[0m \u001B[32m41.4/41.4 MB\u001B[0m \u001B[31m28.6 MB/s\u001B[0m eta \u001B[36m0:00:00\u001B[0m00:01\u001B[0m00:01\u001B[0m\r\n",
      "\u001B[?25hInstalling collected packages: opencv-contrib-python\r\n",
      "Successfully installed opencv-contrib-python-4.8.1.78\r\n"
     ]
    }
   ],
   "source": [
    "!pip install torch torchvision\n",
    "!pip install opencv-contrib-python"
   ]
  },
  {
   "cell_type": "code",
   "source": [
    "!pip install numpy==1.23.1\n",
    "!pip install ultralytics\n",
    "!pip install roboflow"
   ],
   "metadata": {
    "id": "kAUVPljE1Kh4"
   },
   "execution_count": 9,
   "outputs": [
    {
     "name": "stdout",
     "output_type": "stream",
     "text": [
      "Collecting numpy==1.23.1\r\n",
      "  Downloading numpy-1.23.1-cp310-cp310-macosx_11_0_arm64.whl (13.3 MB)\r\n",
      "\u001B[2K     \u001B[90m━━━━━━━━━━━━━━━━━━━━━━━━━━━━━━━━━━━━━━━━\u001B[0m \u001B[32m13.3/13.3 MB\u001B[0m \u001B[31m9.6 MB/s\u001B[0m eta \u001B[36m0:00:00\u001B[0ma \u001B[36m0:00:01\u001B[0mm\r\n",
      "\u001B[?25hInstalling collected packages: numpy\r\n",
      "  Attempting uninstall: numpy\r\n",
      "    Found existing installation: numpy 1.24.4\r\n",
      "    Uninstalling numpy-1.24.4:\r\n",
      "      Successfully uninstalled numpy-1.24.4\r\n",
      "\u001B[31mERROR: pip's dependency resolver does not currently take into account all the packages that are installed. This behaviour is the source of the following dependency conflicts.\r\n",
      "tensorflow-macos 2.15.0 requires numpy<2.0.0,>=1.23.5, but you have numpy 1.23.1 which is incompatible.\u001B[0m\u001B[31m\r\n",
      "\u001B[0mSuccessfully installed numpy-1.23.1\r\n",
      "Requirement already satisfied: ultralytics in /Users/guney/mambaforge/envs/visualball/lib/python3.10/site-packages (8.0.229)\r\n",
      "Requirement already satisfied: matplotlib>=3.3.0 in /Users/guney/mambaforge/envs/visualball/lib/python3.10/site-packages (from ultralytics) (3.8.1)\r\n",
      "Requirement already satisfied: numpy>=1.22.2 in /Users/guney/mambaforge/envs/visualball/lib/python3.10/site-packages (from ultralytics) (1.23.1)\r\n",
      "Requirement already satisfied: opencv-python>=4.6.0 in /Users/guney/mambaforge/envs/visualball/lib/python3.10/site-packages (from ultralytics) (4.8.1.78)\r\n",
      "Requirement already satisfied: pillow>=7.1.2 in /Users/guney/mambaforge/envs/visualball/lib/python3.10/site-packages (from ultralytics) (10.0.1)\r\n",
      "Requirement already satisfied: pyyaml>=5.3.1 in /Users/guney/mambaforge/envs/visualball/lib/python3.10/site-packages (from ultralytics) (6.0.1)\r\n",
      "Requirement already satisfied: requests>=2.23.0 in /Users/guney/mambaforge/envs/visualball/lib/python3.10/site-packages (from ultralytics) (2.31.0)\r\n",
      "Requirement already satisfied: scipy>=1.4.1 in /Users/guney/mambaforge/envs/visualball/lib/python3.10/site-packages (from ultralytics) (1.11.3)\r\n",
      "Requirement already satisfied: torch>=1.8.0 in /Users/guney/mambaforge/envs/visualball/lib/python3.10/site-packages (from ultralytics) (2.1.2)\r\n",
      "Requirement already satisfied: torchvision>=0.9.0 in /Users/guney/mambaforge/envs/visualball/lib/python3.10/site-packages (from ultralytics) (0.16.2)\r\n",
      "Requirement already satisfied: tqdm>=4.64.0 in /Users/guney/mambaforge/envs/visualball/lib/python3.10/site-packages (from ultralytics) (4.66.1)\r\n",
      "Requirement already satisfied: pandas>=1.1.4 in /Users/guney/mambaforge/envs/visualball/lib/python3.10/site-packages (from ultralytics) (2.1.2)\r\n",
      "Requirement already satisfied: seaborn>=0.11.0 in /Users/guney/mambaforge/envs/visualball/lib/python3.10/site-packages (from ultralytics) (0.13.0)\r\n",
      "Requirement already satisfied: psutil in /Users/guney/mambaforge/envs/visualball/lib/python3.10/site-packages (from ultralytics) (5.9.5)\r\n",
      "Requirement already satisfied: py-cpuinfo in /Users/guney/mambaforge/envs/visualball/lib/python3.10/site-packages (from ultralytics) (9.0.0)\r\n",
      "Requirement already satisfied: thop>=0.1.1 in /Users/guney/mambaforge/envs/visualball/lib/python3.10/site-packages (from ultralytics) (0.1.1.post2209072238)\r\n",
      "Requirement already satisfied: contourpy>=1.0.1 in /Users/guney/mambaforge/envs/visualball/lib/python3.10/site-packages (from matplotlib>=3.3.0->ultralytics) (1.2.0)\r\n",
      "Requirement already satisfied: cycler>=0.10 in /Users/guney/mambaforge/envs/visualball/lib/python3.10/site-packages (from matplotlib>=3.3.0->ultralytics) (0.10.0)\r\n",
      "Requirement already satisfied: fonttools>=4.22.0 in /Users/guney/mambaforge/envs/visualball/lib/python3.10/site-packages (from matplotlib>=3.3.0->ultralytics) (4.44.0)\r\n",
      "Requirement already satisfied: kiwisolver>=1.3.1 in /Users/guney/mambaforge/envs/visualball/lib/python3.10/site-packages (from matplotlib>=3.3.0->ultralytics) (1.4.5)\r\n",
      "Requirement already satisfied: packaging>=20.0 in /Users/guney/mambaforge/envs/visualball/lib/python3.10/site-packages (from matplotlib>=3.3.0->ultralytics) (23.2)\r\n",
      "Requirement already satisfied: pyparsing>=2.3.1 in /Users/guney/mambaforge/envs/visualball/lib/python3.10/site-packages (from matplotlib>=3.3.0->ultralytics) (2.4.7)\r\n",
      "Requirement already satisfied: python-dateutil>=2.7 in /Users/guney/mambaforge/envs/visualball/lib/python3.10/site-packages (from matplotlib>=3.3.0->ultralytics) (2.8.2)\r\n",
      "Requirement already satisfied: pytz>=2020.1 in /Users/guney/mambaforge/envs/visualball/lib/python3.10/site-packages (from pandas>=1.1.4->ultralytics) (2023.3.post1)\r\n",
      "Requirement already satisfied: tzdata>=2022.1 in /Users/guney/mambaforge/envs/visualball/lib/python3.10/site-packages (from pandas>=1.1.4->ultralytics) (2023.3)\r\n",
      "Requirement already satisfied: charset-normalizer<4,>=2 in /Users/guney/mambaforge/envs/visualball/lib/python3.10/site-packages (from requests>=2.23.0->ultralytics) (3.3.2)\r\n",
      "Requirement already satisfied: idna<4,>=2.5 in /Users/guney/mambaforge/envs/visualball/lib/python3.10/site-packages (from requests>=2.23.0->ultralytics) (2.10)\r\n",
      "Requirement already satisfied: urllib3<3,>=1.21.1 in /Users/guney/mambaforge/envs/visualball/lib/python3.10/site-packages (from requests>=2.23.0->ultralytics) (2.0.7)\r\n",
      "Requirement already satisfied: certifi>=2017.4.17 in /Users/guney/mambaforge/envs/visualball/lib/python3.10/site-packages (from requests>=2.23.0->ultralytics) (2023.7.22)\r\n",
      "Requirement already satisfied: filelock in /Users/guney/mambaforge/envs/visualball/lib/python3.10/site-packages (from torch>=1.8.0->ultralytics) (3.13.1)\r\n",
      "Requirement already satisfied: typing-extensions in /Users/guney/mambaforge/envs/visualball/lib/python3.10/site-packages (from torch>=1.8.0->ultralytics) (4.8.0)\r\n",
      "Requirement already satisfied: sympy in /Users/guney/mambaforge/envs/visualball/lib/python3.10/site-packages (from torch>=1.8.0->ultralytics) (1.12)\r\n",
      "Requirement already satisfied: networkx in /Users/guney/mambaforge/envs/visualball/lib/python3.10/site-packages (from torch>=1.8.0->ultralytics) (3.2.1)\r\n",
      "Requirement already satisfied: jinja2 in /Users/guney/mambaforge/envs/visualball/lib/python3.10/site-packages (from torch>=1.8.0->ultralytics) (3.1.2)\r\n",
      "Requirement already satisfied: fsspec in /Users/guney/mambaforge/envs/visualball/lib/python3.10/site-packages (from torch>=1.8.0->ultralytics) (2023.10.0)\r\n",
      "Requirement already satisfied: six in /Users/guney/mambaforge/envs/visualball/lib/python3.10/site-packages (from cycler>=0.10->matplotlib>=3.3.0->ultralytics) (1.16.0)\r\n",
      "Requirement already satisfied: MarkupSafe>=2.0 in /Users/guney/mambaforge/envs/visualball/lib/python3.10/site-packages (from jinja2->torch>=1.8.0->ultralytics) (2.1.3)\r\n",
      "Requirement already satisfied: mpmath>=0.19 in /Users/guney/mambaforge/envs/visualball/lib/python3.10/site-packages (from sympy->torch>=1.8.0->ultralytics) (1.3.0)\r\n",
      "Requirement already satisfied: roboflow in /Users/guney/mambaforge/envs/visualball/lib/python3.10/site-packages (1.1.14)\r\n",
      "Requirement already satisfied: certifi==2023.7.22 in /Users/guney/mambaforge/envs/visualball/lib/python3.10/site-packages (from roboflow) (2023.7.22)\r\n",
      "Requirement already satisfied: chardet==4.0.0 in /Users/guney/mambaforge/envs/visualball/lib/python3.10/site-packages (from roboflow) (4.0.0)\r\n",
      "Requirement already satisfied: cycler==0.10.0 in /Users/guney/mambaforge/envs/visualball/lib/python3.10/site-packages (from roboflow) (0.10.0)\r\n",
      "Requirement already satisfied: idna==2.10 in /Users/guney/mambaforge/envs/visualball/lib/python3.10/site-packages (from roboflow) (2.10)\r\n",
      "Requirement already satisfied: kiwisolver>=1.3.1 in /Users/guney/mambaforge/envs/visualball/lib/python3.10/site-packages (from roboflow) (1.4.5)\r\n",
      "Requirement already satisfied: matplotlib in /Users/guney/mambaforge/envs/visualball/lib/python3.10/site-packages (from roboflow) (3.8.1)\r\n",
      "Requirement already satisfied: numpy>=1.18.5 in /Users/guney/mambaforge/envs/visualball/lib/python3.10/site-packages (from roboflow) (1.23.1)\r\n",
      "Requirement already satisfied: opencv-python-headless==4.8.0.74 in /Users/guney/mambaforge/envs/visualball/lib/python3.10/site-packages (from roboflow) (4.8.0.74)\r\n",
      "Requirement already satisfied: Pillow>=7.1.2 in /Users/guney/mambaforge/envs/visualball/lib/python3.10/site-packages (from roboflow) (10.0.1)\r\n",
      "Requirement already satisfied: pyparsing==2.4.7 in /Users/guney/mambaforge/envs/visualball/lib/python3.10/site-packages (from roboflow) (2.4.7)\r\n",
      "Requirement already satisfied: python-dateutil in /Users/guney/mambaforge/envs/visualball/lib/python3.10/site-packages (from roboflow) (2.8.2)\r\n",
      "Requirement already satisfied: python-dotenv in /Users/guney/mambaforge/envs/visualball/lib/python3.10/site-packages (from roboflow) (1.0.0)\r\n",
      "Requirement already satisfied: requests in /Users/guney/mambaforge/envs/visualball/lib/python3.10/site-packages (from roboflow) (2.31.0)\r\n",
      "Requirement already satisfied: six in /Users/guney/mambaforge/envs/visualball/lib/python3.10/site-packages (from roboflow) (1.16.0)\r\n",
      "Requirement already satisfied: supervision in /Users/guney/mambaforge/envs/visualball/lib/python3.10/site-packages (from roboflow) (0.17.1)\r\n",
      "Requirement already satisfied: urllib3>=1.26.6 in /Users/guney/mambaforge/envs/visualball/lib/python3.10/site-packages (from roboflow) (2.0.7)\r\n",
      "Requirement already satisfied: tqdm>=4.41.0 in /Users/guney/mambaforge/envs/visualball/lib/python3.10/site-packages (from roboflow) (4.66.1)\r\n",
      "Requirement already satisfied: PyYAML>=5.3.1 in /Users/guney/mambaforge/envs/visualball/lib/python3.10/site-packages (from roboflow) (6.0.1)\r\n",
      "Requirement already satisfied: requests-toolbelt in /Users/guney/mambaforge/envs/visualball/lib/python3.10/site-packages (from roboflow) (1.0.0)\r\n",
      "Requirement already satisfied: python-magic in /Users/guney/mambaforge/envs/visualball/lib/python3.10/site-packages (from roboflow) (0.4.27)\r\n",
      "Requirement already satisfied: contourpy>=1.0.1 in /Users/guney/mambaforge/envs/visualball/lib/python3.10/site-packages (from matplotlib->roboflow) (1.2.0)\r\n",
      "Requirement already satisfied: fonttools>=4.22.0 in /Users/guney/mambaforge/envs/visualball/lib/python3.10/site-packages (from matplotlib->roboflow) (4.44.0)\r\n",
      "Requirement already satisfied: packaging>=20.0 in /Users/guney/mambaforge/envs/visualball/lib/python3.10/site-packages (from matplotlib->roboflow) (23.2)\r\n",
      "Requirement already satisfied: charset-normalizer<4,>=2 in /Users/guney/mambaforge/envs/visualball/lib/python3.10/site-packages (from requests->roboflow) (3.3.2)\r\n",
      "Requirement already satisfied: scipy>=1.9.0 in /Users/guney/mambaforge/envs/visualball/lib/python3.10/site-packages (from supervision->roboflow) (1.11.3)\r\n"
     ]
    }
   ]
  },
  {
   "cell_type": "markdown",
   "source": [
    "# File Organisation (Google Colab)"
   ],
   "metadata": {
    "id": "JHd156ZLD8Uo"
   }
  },
  {
   "cell_type": "code",
   "source": [
    "# from pathlib import Path\n",
    "# datadir = Path(\"\"\"drive/MyDrive/VisualBall/\"\"\")"
   ],
   "metadata": {
    "id": "kU0_kTkxD_Ry"
   },
   "execution_count": null,
   "outputs": []
  },
  {
   "cell_type": "code",
   "source": [
    "# !cp -r /content/drive/MyDrive/VisualBall/YOLOv8/train /content/datasets\n",
    "# !cp -r /content/drive/MyDrive/VisualBall/YOLOv8/test /content/datasets\n",
    "# !cp -r /content/drive/MyDrive/VisualBall/YOLOv8/valid /content/datasets\n",
    "# !cp -r /content/drive/MyDrive/VisualBall/YOLOv8/data.yaml /content"
   ],
   "metadata": {
    "id": "6yRzT64fcwis"
   },
   "execution_count": null,
   "outputs": []
  },
  {
   "cell_type": "code",
   "source": [
    "# !cp -r /content/runs/detect/predict2/nba.avi /content/drive/MyDrive/"
   ],
   "metadata": {
    "id": "9oseqac9ICZn"
   },
   "execution_count": null,
   "outputs": []
  },
  {
   "cell_type": "markdown",
   "source": [
    "# Train"
   ],
   "metadata": {
    "id": "D_uXB9LUMVCj"
   }
  },
  {
   "cell_type": "markdown",
   "source": [],
   "metadata": {
    "collapsed": false
   }
  },
  {
   "cell_type": "code",
   "source": [
    "from roboflow import Roboflow\n",
    "rf = Roboflow(api_key=\"eK6t7ZUXNjLQBiKVTyvG\")\n",
    "project = rf.workspace(\"nbavision\").project(\"nba-objects-detection\")\n",
    "dataset = project.version(1).download(\"yolov8\")"
   ],
   "metadata": {
    "id": "mZdUXUZO3Skb"
   },
   "execution_count": 15,
   "outputs": [
    {
     "name": "stdout",
     "output_type": "stream",
     "text": [
      "loading Roboflow workspace...\n",
      "loading Roboflow project...\n",
      "Dependency ultralytics==8.0.196 is required but found version=8.0.229, to fix: `pip install ultralytics==8.0.196`\n"
     ]
    },
    {
     "name": "stderr",
     "output_type": "stream",
     "text": [
      "Downloading Dataset Version Zip in NBA-Objects-Detection-1 to yolov8:: 100%|██████████| 2930/2930 [00:00<00:00, 4601.70it/s]"
     ]
    },
    {
     "name": "stdout",
     "output_type": "stream",
     "text": [
      "\n"
     ]
    },
    {
     "name": "stderr",
     "output_type": "stream",
     "text": [
      "\n",
      "Extracting Dataset Version Zip to NBA-Objects-Detection-1 in yolov8:: 100%|██████████| 48/48 [00:00<00:00, 6851.34it/s]\n"
     ]
    },
    {
     "data": {
      "text/plain": "<roboflow.core.project.Project at 0x287e7acb0>"
     },
     "execution_count": 15,
     "metadata": {},
     "output_type": "execute_result"
    }
   ]
  },
  {
   "cell_type": "code",
   "source": [
    "from ultralytics import YOLO\n",
    "\n",
    "# Load a model\n",
    "model = YOLO(\"yolov8x.pt\")  # load a pretrained model (recommended for training)\n",
    "\n",
    "# Use the model\n",
    "model.train(data=\"data.yaml\", epochs=10)  # train the model\n",
    "metrics = model.val()  # evaluate model performance on the validation set\n",
    "path = model.export(format=\"onnx\")  # export the model to ONNX format"
   ],
   "metadata": {
    "id": "L8frYCEfMWgc"
   },
   "execution_count": 6,
   "outputs": [
    {
     "name": "stdout",
     "output_type": "stream",
     "text": [
      "Ultralytics YOLOv8.0.229 🚀 Python-3.10.13 torch-2.1.2 CPU (Apple M1 Pro)\n",
      "\u001B[34m\u001B[1mengine/trainer: \u001B[0mtask=detect, mode=train, model=yolov8x.pt, data=data.yaml, epochs=10, time=None, patience=50, batch=16, imgsz=640, save=True, save_period=-1, cache=False, device=None, workers=8, project=None, name=train7, exist_ok=False, pretrained=True, optimizer=auto, verbose=True, seed=0, deterministic=True, single_cls=False, rect=False, cos_lr=False, close_mosaic=10, resume=False, amp=True, fraction=1.0, profile=False, freeze=None, overlap_mask=True, mask_ratio=4, dropout=0.0, val=True, split=val, save_json=False, save_hybrid=False, conf=None, iou=0.7, max_det=300, half=False, dnn=False, plots=True, source=None, vid_stride=1, stream_buffer=False, visualize=False, augment=False, agnostic_nms=False, classes=None, retina_masks=False, embed=None, show=False, save_frames=False, save_txt=False, save_conf=False, save_crop=False, show_labels=True, show_conf=True, show_boxes=True, line_width=None, format=torchscript, keras=False, optimize=False, int8=False, dynamic=False, simplify=False, opset=None, workspace=4, nms=False, lr0=0.01, lrf=0.01, momentum=0.937, weight_decay=0.0005, warmup_epochs=3.0, warmup_momentum=0.8, warmup_bias_lr=0.1, box=7.5, cls=0.5, dfl=1.5, pose=12.0, kobj=1.0, label_smoothing=0.0, nbs=64, hsv_h=0.015, hsv_s=0.7, hsv_v=0.4, degrees=0.0, translate=0.1, scale=0.5, shear=0.0, perspective=0.0, flipud=0.0, fliplr=0.5, mosaic=1.0, mixup=0.0, copy_paste=0.0, cfg=None, tracker=botsort.yaml, save_dir=runs/detect/train7\n",
      "Overriding model.yaml nc=80 with nc=3\n",
      "\n",
      "                   from  n    params  module                                       arguments                     \n",
      "  0                  -1  1      2320  ultralytics.nn.modules.conv.Conv             [3, 80, 3, 2]                 \n",
      "  1                  -1  1    115520  ultralytics.nn.modules.conv.Conv             [80, 160, 3, 2]               \n",
      "  2                  -1  3    436800  ultralytics.nn.modules.block.C2f             [160, 160, 3, True]           \n",
      "  3                  -1  1    461440  ultralytics.nn.modules.conv.Conv             [160, 320, 3, 2]              \n",
      "  4                  -1  6   3281920  ultralytics.nn.modules.block.C2f             [320, 320, 6, True]           \n",
      "  5                  -1  1   1844480  ultralytics.nn.modules.conv.Conv             [320, 640, 3, 2]              \n",
      "  6                  -1  6  13117440  ultralytics.nn.modules.block.C2f             [640, 640, 6, True]           \n",
      "  7                  -1  1   3687680  ultralytics.nn.modules.conv.Conv             [640, 640, 3, 2]              \n",
      "  8                  -1  3   6969600  ultralytics.nn.modules.block.C2f             [640, 640, 3, True]           \n",
      "  9                  -1  1   1025920  ultralytics.nn.modules.block.SPPF            [640, 640, 5]                 \n",
      " 10                  -1  1         0  torch.nn.modules.upsampling.Upsample         [None, 2, 'nearest']          \n",
      " 11             [-1, 6]  1         0  ultralytics.nn.modules.conv.Concat           [1]                           \n",
      " 12                  -1  3   7379200  ultralytics.nn.modules.block.C2f             [1280, 640, 3]                \n",
      " 13                  -1  1         0  torch.nn.modules.upsampling.Upsample         [None, 2, 'nearest']          \n",
      " 14             [-1, 4]  1         0  ultralytics.nn.modules.conv.Concat           [1]                           \n",
      " 15                  -1  3   1948800  ultralytics.nn.modules.block.C2f             [960, 320, 3]                 \n",
      " 16                  -1  1    922240  ultralytics.nn.modules.conv.Conv             [320, 320, 3, 2]              \n",
      " 17            [-1, 12]  1         0  ultralytics.nn.modules.conv.Concat           [1]                           \n",
      " 18                  -1  3   7174400  ultralytics.nn.modules.block.C2f             [960, 640, 3]                 \n",
      " 19                  -1  1   3687680  ultralytics.nn.modules.conv.Conv             [640, 640, 3, 2]              \n",
      " 20             [-1, 9]  1         0  ultralytics.nn.modules.conv.Concat           [1]                           \n",
      " 21                  -1  3   7379200  ultralytics.nn.modules.block.C2f             [1280, 640, 3]                \n",
      " 22        [15, 18, 21]  1   8720857  ultralytics.nn.modules.head.Detect           [3, [320, 640, 640]]          \n",
      "Model summary: 365 layers, 68155497 parameters, 68155481 gradients, 258.1 GFLOPs\n",
      "\n",
      "Transferred 589/595 items from pretrained weights\n",
      "\u001B[34m\u001B[1mTensorBoard: \u001B[0mStart with 'tensorboard --logdir runs/detect/train7', view at http://localhost:6006/\n",
      "Freezing layer 'model.22.dfl.conv.weight'\n"
     ]
    },
    {
     "name": "stderr",
     "output_type": "stream",
     "text": [
      "\u001B[34m\u001B[1mtrain: \u001B[0mScanning /Users/guney/Desktop/NBAVision/app/datasets/NBA-Objects-Detection-1/train/labels... 14 images, 0 backgrounds, 0 corrupt: 100%|██████████| 14/14 [00:00<00:00, 1435.91it/s]"
     ]
    },
    {
     "name": "stdout",
     "output_type": "stream",
     "text": [
      "\u001B[34m\u001B[1mtrain: \u001B[0mNew cache created: /Users/guney/Desktop/NBAVision/app/datasets/NBA-Objects-Detection-1/train/labels.cache\n"
     ]
    },
    {
     "name": "stderr",
     "output_type": "stream",
     "text": [
      "\n",
      "\u001B[34m\u001B[1mval: \u001B[0mScanning /Users/guney/Desktop/NBAVision/app/datasets/NBA-Objects-Detection-1/valid/labels... 3 images, 0 backgrounds, 0 corrupt: 100%|██████████| 3/3 [00:00<00:00, 1721.09it/s]"
     ]
    },
    {
     "name": "stdout",
     "output_type": "stream",
     "text": [
      "\u001B[34m\u001B[1mval: \u001B[0mNew cache created: /Users/guney/Desktop/NBAVision/app/datasets/NBA-Objects-Detection-1/valid/labels.cache\n"
     ]
    },
    {
     "name": "stderr",
     "output_type": "stream",
     "text": [
      "\n"
     ]
    },
    {
     "name": "stdout",
     "output_type": "stream",
     "text": [
      "Plotting labels to runs/detect/train7/labels.jpg... \n",
      "\u001B[34m\u001B[1moptimizer:\u001B[0m 'optimizer=auto' found, ignoring 'lr0=0.01' and 'momentum=0.937' and determining best 'optimizer', 'lr0' and 'momentum' automatically... \n",
      "\u001B[34m\u001B[1moptimizer:\u001B[0m AdamW(lr=0.001429, momentum=0.9) with parameter groups 97 weight(decay=0.0), 104 weight(decay=0.0005), 103 bias(decay=0.0)\n",
      "10 epochs...\n",
      "Closing dataloader mosaic\n",
      "\n",
      "      Epoch    GPU_mem   box_loss   cls_loss   dfl_loss  Instances       Size\n"
     ]
    },
    {
     "name": "stderr",
     "output_type": "stream",
     "text": [
      "       1/10         0G      1.579      4.016      1.377        150        640: 100%|██████████| 1/1 [00:44<00:00, 44.15s/it]\n",
      "                 Class     Images  Instances      Box(P          R      mAP50  mAP50-95): 100%|██████████| 1/1 [00:01<00:00,  1.30s/it]"
     ]
    },
    {
     "name": "stdout",
     "output_type": "stream",
     "text": [
      "                   all          3         30     0.0217        0.1     0.0152    0.00964\n"
     ]
    },
    {
     "name": "stderr",
     "output_type": "stream",
     "text": [
      "\n"
     ]
    },
    {
     "name": "stdout",
     "output_type": "stream",
     "text": [
      "\n",
      "      Epoch    GPU_mem   box_loss   cls_loss   dfl_loss  Instances       Size\n"
     ]
    },
    {
     "name": "stderr",
     "output_type": "stream",
     "text": [
      "       2/10         0G      1.513      4.043      1.356        148        640: 100%|██████████| 1/1 [00:41<00:00, 41.83s/it]\n",
      "                 Class     Images  Instances      Box(P          R      mAP50  mAP50-95): 100%|██████████| 1/1 [00:01<00:00,  1.39s/it]"
     ]
    },
    {
     "name": "stdout",
     "output_type": "stream",
     "text": [
      "                   all          3         30     0.0439      0.333      0.127     0.0782\n"
     ]
    },
    {
     "name": "stderr",
     "output_type": "stream",
     "text": [
      "\n"
     ]
    },
    {
     "name": "stdout",
     "output_type": "stream",
     "text": [
      "\n",
      "      Epoch    GPU_mem   box_loss   cls_loss   dfl_loss  Instances       Size\n"
     ]
    },
    {
     "name": "stderr",
     "output_type": "stream",
     "text": [
      "       3/10         0G      1.516      3.363      1.418        148        640: 100%|██████████| 1/1 [00:40<00:00, 40.96s/it]\n",
      "                 Class     Images  Instances      Box(P          R      mAP50  mAP50-95): 100%|██████████| 1/1 [00:01<00:00,  1.28s/it]"
     ]
    },
    {
     "name": "stdout",
     "output_type": "stream",
     "text": [
      "                   all          3         30      0.795      0.267      0.335        0.2\n"
     ]
    },
    {
     "name": "stderr",
     "output_type": "stream",
     "text": [
      "\n"
     ]
    },
    {
     "name": "stdout",
     "output_type": "stream",
     "text": [
      "\n",
      "      Epoch    GPU_mem   box_loss   cls_loss   dfl_loss  Instances       Size\n"
     ]
    },
    {
     "name": "stderr",
     "output_type": "stream",
     "text": [
      "       4/10         0G      1.384      2.457      1.281        148        640: 100%|██████████| 1/1 [00:41<00:00, 41.79s/it]\n",
      "                 Class     Images  Instances      Box(P          R      mAP50  mAP50-95): 100%|██████████| 1/1 [00:01<00:00,  1.21s/it]"
     ]
    },
    {
     "name": "stdout",
     "output_type": "stream",
     "text": [
      "                   all          3         30      0.385        0.6      0.498      0.288\n"
     ]
    },
    {
     "name": "stderr",
     "output_type": "stream",
     "text": [
      "\n"
     ]
    },
    {
     "name": "stdout",
     "output_type": "stream",
     "text": [
      "\n",
      "      Epoch    GPU_mem   box_loss   cls_loss   dfl_loss  Instances       Size\n"
     ]
    },
    {
     "name": "stderr",
     "output_type": "stream",
     "text": [
      "       5/10         0G      1.266      1.638      1.228        147        640: 100%|██████████| 1/1 [00:40<00:00, 40.07s/it]\n",
      "                 Class     Images  Instances      Box(P          R      mAP50  mAP50-95): 100%|██████████| 1/1 [00:01<00:00,  1.21s/it]"
     ]
    },
    {
     "name": "stdout",
     "output_type": "stream",
     "text": [
      "                   all          3         30      0.471      0.651      0.554      0.333\n"
     ]
    },
    {
     "name": "stderr",
     "output_type": "stream",
     "text": [
      "\n"
     ]
    },
    {
     "name": "stdout",
     "output_type": "stream",
     "text": [
      "\n",
      "      Epoch    GPU_mem   box_loss   cls_loss   dfl_loss  Instances       Size\n"
     ]
    },
    {
     "name": "stderr",
     "output_type": "stream",
     "text": [
      "       6/10         0G      1.247      1.774      1.225        150        640: 100%|██████████| 1/1 [00:39<00:00, 39.78s/it]\n",
      "                 Class     Images  Instances      Box(P          R      mAP50  mAP50-95): 100%|██████████| 1/1 [00:01<00:00,  1.30s/it]"
     ]
    },
    {
     "name": "stdout",
     "output_type": "stream",
     "text": [
      "                   all          3         30       0.45      0.753      0.557      0.333\n"
     ]
    },
    {
     "name": "stderr",
     "output_type": "stream",
     "text": [
      "\n"
     ]
    },
    {
     "name": "stdout",
     "output_type": "stream",
     "text": [
      "\n",
      "      Epoch    GPU_mem   box_loss   cls_loss   dfl_loss  Instances       Size\n"
     ]
    },
    {
     "name": "stderr",
     "output_type": "stream",
     "text": [
      "       7/10         0G      1.255      1.591      1.188        150        640: 100%|██████████| 1/1 [00:38<00:00, 38.42s/it]\n",
      "                 Class     Images  Instances      Box(P          R      mAP50  mAP50-95): 100%|██████████| 1/1 [00:01<00:00,  1.31s/it]"
     ]
    },
    {
     "name": "stdout",
     "output_type": "stream",
     "text": [
      "                   all          3         30      0.472      0.735      0.582      0.348\n"
     ]
    },
    {
     "name": "stderr",
     "output_type": "stream",
     "text": [
      "\n"
     ]
    },
    {
     "name": "stdout",
     "output_type": "stream",
     "text": [
      "\n",
      "      Epoch    GPU_mem   box_loss   cls_loss   dfl_loss  Instances       Size\n"
     ]
    },
    {
     "name": "stderr",
     "output_type": "stream",
     "text": [
      "       8/10         0G      1.181      1.234      1.136        149        640: 100%|██████████| 1/1 [00:38<00:00, 38.98s/it]\n",
      "                 Class     Images  Instances      Box(P          R      mAP50  mAP50-95): 100%|██████████| 1/1 [00:01<00:00,  1.31s/it]"
     ]
    },
    {
     "name": "stdout",
     "output_type": "stream",
     "text": [
      "                   all          3         30      0.394      0.533      0.609      0.371\n"
     ]
    },
    {
     "name": "stderr",
     "output_type": "stream",
     "text": [
      "\n"
     ]
    },
    {
     "name": "stdout",
     "output_type": "stream",
     "text": [
      "\n",
      "      Epoch    GPU_mem   box_loss   cls_loss   dfl_loss  Instances       Size\n"
     ]
    },
    {
     "name": "stderr",
     "output_type": "stream",
     "text": [
      "       9/10         0G      1.111      1.195      1.119        150        640: 100%|██████████| 1/1 [00:36<00:00, 36.27s/it]\n",
      "                 Class     Images  Instances      Box(P          R      mAP50  mAP50-95): 100%|██████████| 1/1 [00:01<00:00,  1.20s/it]"
     ]
    },
    {
     "name": "stdout",
     "output_type": "stream",
     "text": [
      "                   all          3         30      0.492      0.678      0.648      0.403\n"
     ]
    },
    {
     "name": "stderr",
     "output_type": "stream",
     "text": [
      "\n"
     ]
    },
    {
     "name": "stdout",
     "output_type": "stream",
     "text": [
      "\n",
      "      Epoch    GPU_mem   box_loss   cls_loss   dfl_loss  Instances       Size\n"
     ]
    },
    {
     "name": "stderr",
     "output_type": "stream",
     "text": [
      "      10/10         0G      1.158      1.184       1.11        148        640: 100%|██████████| 1/1 [00:35<00:00, 35.95s/it]\n",
      "                 Class     Images  Instances      Box(P          R      mAP50  mAP50-95): 100%|██████████| 1/1 [00:01<00:00,  1.22s/it]"
     ]
    },
    {
     "name": "stdout",
     "output_type": "stream",
     "text": [
      "                   all          3         30      0.547      0.767      0.731      0.448\n"
     ]
    },
    {
     "name": "stderr",
     "output_type": "stream",
     "text": [
      "\n"
     ]
    },
    {
     "name": "stdout",
     "output_type": "stream",
     "text": [
      "\n",
      "10 epochs completed in 0.123 hours.\n",
      "Optimizer stripped from runs/detect/train7/weights/last.pt, 136.7MB\n",
      "Optimizer stripped from runs/detect/train7/weights/best.pt, 136.7MB\n",
      "\n",
      "Validating runs/detect/train7/weights/best.pt...\n",
      "Ultralytics YOLOv8.0.229 🚀 Python-3.10.13 torch-2.1.2 CPU (Apple M1 Pro)\n",
      "Model summary (fused): 268 layers, 68126457 parameters, 0 gradients, 257.4 GFLOPs\n"
     ]
    },
    {
     "name": "stderr",
     "output_type": "stream",
     "text": [
      "                 Class     Images  Instances      Box(P          R      mAP50  mAP50-95): 100%|██████████| 1/1 [00:01<00:00,  1.19s/it]\n"
     ]
    },
    {
     "name": "stdout",
     "output_type": "stream",
     "text": [
      "                   all          3         30      0.533      0.767      0.731      0.449\n",
      "                  Heat          3         15      0.615        0.6      0.671      0.396\n",
      "               Nuggets          3         15      0.452      0.933      0.791      0.502\n",
      "Speed: 0.5ms preprocess, 385.0ms inference, 0.0ms loss, 2.0ms postprocess per image\n",
      "Results saved to \u001B[1mruns/detect/train7\u001B[0m\n",
      "Ultralytics YOLOv8.0.229 🚀 Python-3.10.13 torch-2.1.2 CPU (Apple M1 Pro)\n",
      "Model summary (fused): 268 layers, 68126457 parameters, 0 gradients, 257.4 GFLOPs\n"
     ]
    },
    {
     "name": "stderr",
     "output_type": "stream",
     "text": [
      "\u001B[34m\u001B[1mval: \u001B[0mScanning /Users/guney/Desktop/NBAVision/app/datasets/NBA-Objects-Detection-1/valid/labels.cache... 3 images, 0 backgrounds, 0 corrupt: 100%|██████████| 3/3 [00:00<?, ?it/s]\n",
      "                 Class     Images  Instances      Box(P          R      mAP50  mAP50-95): 100%|██████████| 1/1 [00:01<00:00,  1.16s/it]\n"
     ]
    },
    {
     "name": "stdout",
     "output_type": "stream",
     "text": [
      "                   all          3         30      0.533      0.767      0.731      0.449\n",
      "                  Heat          3         15      0.615        0.6      0.671      0.396\n",
      "               Nuggets          3         15      0.452      0.933      0.791      0.502\n",
      "Speed: 0.6ms preprocess, 375.4ms inference, 0.0ms loss, 2.2ms postprocess per image\n",
      "Results saved to \u001B[1mruns/detect/train72\u001B[0m\n",
      "Ultralytics YOLOv8.0.229 🚀 Python-3.10.13 torch-2.1.2 CPU (Apple M1 Pro)\n",
      "\n",
      "\u001B[34m\u001B[1mPyTorch:\u001B[0m starting from 'runs/detect/train7/weights/best.pt' with input shape (1, 3, 640, 640) BCHW and output shape(s) (1, 7, 8400) (130.4 MB)\n",
      "\u001B[31m\u001B[1mrequirements:\u001B[0m Ultralytics requirement ['onnx>=1.12.0'] not found, attempting AutoUpdate...\n",
      "Collecting onnx>=1.12.0\n",
      "  Downloading onnx-1.15.0-cp310-cp310-macosx_10_12_universal2.whl.metadata (15 kB)\n",
      "Requirement already satisfied: numpy in /Users/guney/mambaforge/envs/visualball/lib/python3.10/site-packages (from onnx>=1.12.0) (1.23.1)\n",
      "Requirement already satisfied: protobuf>=3.20.2 in /Users/guney/mambaforge/envs/visualball/lib/python3.10/site-packages (from onnx>=1.12.0) (3.20.3)\n",
      "Downloading onnx-1.15.0-cp310-cp310-macosx_10_12_universal2.whl (16.3 MB)\n",
      "\u001B[2K   \u001B[90m━━━━━━━━━━━━━━━━━━━━━━━━━━━━━━━━━━━━━━━━\u001B[0m \u001B[32m16.3/16.3 MB\u001B[0m \u001B[31m29.3 MB/s\u001B[0m eta \u001B[36m0:00:00\u001B[0m00:01\u001B[0m00:01\u001B[0m\n",
      "\u001B[?25hInstalling collected packages: onnx\n",
      "Successfully installed onnx-1.15.0\n",
      "\n",
      "\u001B[31m\u001B[1mrequirements:\u001B[0m AutoUpdate success ✅ 4.5s, installed 1 package: ['onnx>=1.12.0']\n",
      "\u001B[31m\u001B[1mrequirements:\u001B[0m ⚠️ \u001B[1mRestart runtime or rerun command for updates to take effect\u001B[0m\n",
      "\n",
      "\n",
      "\u001B[34m\u001B[1mONNX:\u001B[0m starting export with onnx 1.15.0 opset 17...\n",
      "\u001B[34m\u001B[1mONNX:\u001B[0m export success ✅ 7.2s, saved as 'runs/detect/train7/weights/best.onnx' (260.1 MB)\n",
      "\n",
      "Export complete (8.4s)\n",
      "Results saved to \u001B[1m/Users/guney/Desktop/NBAVision/app/runs/detect/train7/weights\u001B[0m\n",
      "Predict:         yolo predict task=detect model=runs/detect/train7/weights/best.onnx imgsz=640  \n",
      "Validate:        yolo val task=detect model=runs/detect/train7/weights/best.onnx imgsz=640 data=data.yaml  \n",
      "Visualize:       https://netron.app\n"
     ]
    }
   ]
  },
  {
   "cell_type": "markdown",
   "source": [
    "# Custom Data Testing"
   ],
   "metadata": {
    "id": "I5bZOBcPbm4d"
   }
  },
  {
   "cell_type": "code",
   "source": [
    "from matplotlib import pyplot as plt\n",
    "from pathlib import Path\n",
    "%matplotlib inline\n",
    "# If you want to test the code with your images, just add path to the images to the TEST_IMAGE_PATHS.\n",
    "PATH_TO_TEST_IMAGES_DIR = Path('../Data')\n",
    "TEST_IMAGE_PATHS = sorted(list(PATH_TO_TEST_IMAGES_DIR.glob(\"*.jpg\")))\n",
    "image = plt.imread(str(TEST_IMAGE_PATHS[0]))"
   ],
   "metadata": {
    "id": "XWwHGJoBbpCo"
   },
   "execution_count": 7,
   "outputs": []
  },
  {
   "cell_type": "code",
   "source": [
    "from ultralytics import YOLO\n",
    "# from google.colab.patches import cv2_imshow\n",
    "import locale\n",
    "locale.getpreferredencoding = lambda: \"UTF-8\"\n",
    "\n",
    "# model = YOLO('/content/runs/detect/train2/weights/best.pt')\n",
    "# results = model.track(source=\"2023finalclip.mp4\", save=True)\n",
    "!yolo task=detect mode=predict model='runs/detect/train7/weights/best.pt' conf=0.5 source='../Data/stop.jpg' save=True"
   ],
   "metadata": {
    "id": "5CYhRm6h-YSv"
   },
   "execution_count": 13,
   "outputs": [
    {
     "name": "stdout",
     "output_type": "stream",
     "text": [
      "Ultralytics YOLOv8.0.229 🚀 Python-3.10.13 torch-2.1.2 CPU (Apple M1 Pro)\r\n",
      "Model summary (fused): 268 layers, 68126457 parameters, 0 gradients, 257.4 GFLOPs\r\n",
      "\r\n",
      "image 1/1 /Users/guney/Desktop/NBAVision/app/../Data/stop.jpg: 384x640 1 Hoop, 7 Nuggetss, 331.2ms\r\n",
      "Speed: 2.1ms preprocess, 331.2ms inference, 2.3ms postprocess per image at shape (1, 3, 384, 640)\r\n",
      "Results saved to \u001B[1mruns/detect/predict\u001B[0m\r\n",
      "💡 Learn more at https://docs.ultralytics.com/modes/predict\r\n"
     ]
    }
   ]
  },
  {
   "cell_type": "markdown",
   "source": [
    "# Love"
   ],
   "metadata": {
    "id": "vaAKI8Gg6y3H"
   }
  },
  {
   "cell_type": "code",
   "source": [
    "from roboflow import Roboflow\n",
    "rf = Roboflow(api_key=\"eK6t7ZUXNjLQBiKVTyvG\")\n",
    "project = rf.workspace(\"roboflow-universe-projects\").project(\"basketball-players-fy4c2\")\n",
    "dataset = project.version(16).download(\"yolov8\")\n",
    "\n",
    "# !yolo task=detect mode=predict model=yolov8x.pt conf=0.25 source='https://media.roboflow.com/notebooks/examples/dog.jpeg' save=True"
   ],
   "metadata": {
    "colab": {
     "base_uri": "https://localhost:8080/"
    },
    "id": "5EHrGB6I42WL",
    "outputId": "766603c8-ffde-45e2-dc05-ec49897f44e6"
   },
   "execution_count": null,
   "outputs": [
    {
     "output_type": "stream",
     "name": "stdout",
     "text": [
      "loading Roboflow workspace...\n",
      "loading Roboflow project...\n",
      "Dependency ultralytics==8.0.196 is required but found version=8.0.221, to fix: `pip install ultralytics==8.0.196`\n"
     ]
    },
    {
     "output_type": "stream",
     "name": "stderr",
     "text": [
      "Downloading Dataset Version Zip in Basketball-Players-16 to yolov8:: 100%|██████████| 57458/57458 [00:01<00:00, 33094.57it/s]"
     ]
    },
    {
     "output_type": "stream",
     "name": "stdout",
     "text": [
      "\n"
     ]
    },
    {
     "output_type": "stream",
     "name": "stderr",
     "text": [
      "\n",
      "Extracting Dataset Version Zip to Basketball-Players-16 in yolov8:: 100%|██████████| 2070/2070 [00:00<00:00, 3308.54it/s]\n"
     ]
    }
   ]
  },
  {
   "cell_type": "code",
   "source": [
    "!yolo task=detect mode=train model=yolov8x.pt data=data.yaml epochs=10 imgsz=640"
   ],
   "metadata": {
    "colab": {
     "base_uri": "https://localhost:8080/"
    },
    "id": "9W2JKR1j8OAT",
    "outputId": "84c0915d-d14b-473d-f7fa-e29da478851a"
   },
   "execution_count": null,
   "outputs": [
    {
     "output_type": "stream",
     "name": "stdout",
     "text": [
      "Downloading https://github.com/ultralytics/assets/releases/download/v0.0.0/yolov8x.pt to 'yolov8x.pt'...\n",
      "100% 131M/131M [00:00<00:00, 369MB/s]\n",
      "Ultralytics YOLOv8.0.221 🚀 Python-3.10.12 torch-2.1.0+cu118 CUDA:0 (Tesla T4, 15102MiB)\n",
      "\u001B[34m\u001B[1mengine/trainer: \u001B[0mtask=detect, mode=train, model=yolov8x.pt, data=data.yaml, epochs=10, patience=50, batch=16, imgsz=640, save=True, save_period=-1, cache=False, device=None, workers=8, project=None, name=train, exist_ok=False, pretrained=True, optimizer=auto, verbose=True, seed=0, deterministic=True, single_cls=False, rect=False, cos_lr=False, close_mosaic=10, resume=False, amp=True, fraction=1.0, profile=False, freeze=None, overlap_mask=True, mask_ratio=4, dropout=0.0, val=True, split=val, save_json=False, save_hybrid=False, conf=None, iou=0.7, max_det=300, half=False, dnn=False, plots=True, source=None, vid_stride=1, stream_buffer=False, visualize=False, augment=False, agnostic_nms=False, classes=None, retina_masks=False, show=False, save_frames=False, save_txt=False, save_conf=False, save_crop=False, show_labels=True, show_conf=True, show_boxes=True, line_width=None, format=torchscript, keras=False, optimize=False, int8=False, dynamic=False, simplify=False, opset=None, workspace=4, nms=False, lr0=0.01, lrf=0.01, momentum=0.937, weight_decay=0.0005, warmup_epochs=3.0, warmup_momentum=0.8, warmup_bias_lr=0.1, box=7.5, cls=0.5, dfl=1.5, pose=12.0, kobj=1.0, label_smoothing=0.0, nbs=64, hsv_h=0.015, hsv_s=0.7, hsv_v=0.4, degrees=0.0, translate=0.1, scale=0.5, shear=0.0, perspective=0.0, flipud=0.0, fliplr=0.5, mosaic=1.0, mixup=0.0, copy_paste=0.0, cfg=None, tracker=botsort.yaml, save_dir=runs/detect/train\n",
      "Downloading https://ultralytics.com/assets/Arial.ttf to '/root/.config/Ultralytics/Arial.ttf'...\n",
      "100% 755k/755k [00:00<00:00, 23.4MB/s]\n",
      "2023-12-01 22:06:26.635577: E tensorflow/compiler/xla/stream_executor/cuda/cuda_dnn.cc:9342] Unable to register cuDNN factory: Attempting to register factory for plugin cuDNN when one has already been registered\n",
      "2023-12-01 22:06:26.635644: E tensorflow/compiler/xla/stream_executor/cuda/cuda_fft.cc:609] Unable to register cuFFT factory: Attempting to register factory for plugin cuFFT when one has already been registered\n",
      "2023-12-01 22:06:26.635684: E tensorflow/compiler/xla/stream_executor/cuda/cuda_blas.cc:1518] Unable to register cuBLAS factory: Attempting to register factory for plugin cuBLAS when one has already been registered\n",
      "Overriding model.yaml nc=80 with nc=9\n",
      "\n",
      "                   from  n    params  module                                       arguments                     \n",
      "  0                  -1  1      2320  ultralytics.nn.modules.conv.Conv             [3, 80, 3, 2]                 \n",
      "  1                  -1  1    115520  ultralytics.nn.modules.conv.Conv             [80, 160, 3, 2]               \n",
      "  2                  -1  3    436800  ultralytics.nn.modules.block.C2f             [160, 160, 3, True]           \n",
      "  3                  -1  1    461440  ultralytics.nn.modules.conv.Conv             [160, 320, 3, 2]              \n",
      "  4                  -1  6   3281920  ultralytics.nn.modules.block.C2f             [320, 320, 6, True]           \n",
      "  5                  -1  1   1844480  ultralytics.nn.modules.conv.Conv             [320, 640, 3, 2]              \n",
      "  6                  -1  6  13117440  ultralytics.nn.modules.block.C2f             [640, 640, 6, True]           \n",
      "  7                  -1  1   3687680  ultralytics.nn.modules.conv.Conv             [640, 640, 3, 2]              \n",
      "  8                  -1  3   6969600  ultralytics.nn.modules.block.C2f             [640, 640, 3, True]           \n",
      "  9                  -1  1   1025920  ultralytics.nn.modules.block.SPPF            [640, 640, 5]                 \n",
      " 10                  -1  1         0  torch.nn.modules.upsampling.Upsample         [None, 2, 'nearest']          \n",
      " 11             [-1, 6]  1         0  ultralytics.nn.modules.conv.Concat           [1]                           \n",
      " 12                  -1  3   7379200  ultralytics.nn.modules.block.C2f             [1280, 640, 3]                \n",
      " 13                  -1  1         0  torch.nn.modules.upsampling.Upsample         [None, 2, 'nearest']          \n",
      " 14             [-1, 4]  1         0  ultralytics.nn.modules.conv.Concat           [1]                           \n",
      " 15                  -1  3   1948800  ultralytics.nn.modules.block.C2f             [960, 320, 3]                 \n",
      " 16                  -1  1    922240  ultralytics.nn.modules.conv.Conv             [320, 320, 3, 2]              \n",
      " 17            [-1, 12]  1         0  ultralytics.nn.modules.conv.Concat           [1]                           \n",
      " 18                  -1  3   7174400  ultralytics.nn.modules.block.C2f             [960, 640, 3]                 \n",
      " 19                  -1  1   3687680  ultralytics.nn.modules.conv.Conv             [640, 640, 3, 2]              \n",
      " 20             [-1, 9]  1         0  ultralytics.nn.modules.conv.Concat           [1]                           \n",
      " 21                  -1  3   7379200  ultralytics.nn.modules.block.C2f             [1280, 640, 3]                \n",
      " 22        [15, 18, 21]  1   8726635  ultralytics.nn.modules.head.Detect           [9, [320, 640, 640]]          \n",
      "Model summary: 365 layers, 68161275 parameters, 68161259 gradients, 258.2 GFLOPs\n",
      "\n",
      "Transferred 589/595 items from pretrained weights\n",
      "\u001B[34m\u001B[1mTensorBoard: \u001B[0mStart with 'tensorboard --logdir runs/detect/train', view at http://localhost:6006/\n",
      "Freezing layer 'model.22.dfl.conv.weight'\n",
      "\u001B[34m\u001B[1mAMP: \u001B[0mrunning Automatic Mixed Precision (AMP) checks with YOLOv8n...\n",
      "Downloading https://github.com/ultralytics/assets/releases/download/v0.0.0/yolov8n.pt to 'yolov8n.pt'...\n",
      "100% 6.23M/6.23M [00:00<00:00, 98.0MB/s]\n",
      "\u001B[34m\u001B[1mAMP: \u001B[0mchecks passed ✅\n",
      "\u001B[34m\u001B[1mtrain: \u001B[0mScanning /content/datasets/Basketball-Players-16/train/labels... 980 images, 1 backgrounds, 0 corrupt: 100% 980/980 [00:00<00:00, 2024.50it/s]\n",
      "\u001B[34m\u001B[1mtrain: \u001B[0mNew cache created: /content/datasets/Basketball-Players-16/train/labels.cache\n",
      "\u001B[34m\u001B[1malbumentations: \u001B[0mBlur(p=0.01, blur_limit=(3, 7)), MedianBlur(p=0.01, blur_limit=(3, 7)), ToGray(p=0.01), CLAHE(p=0.01, clip_limit=(1, 4.0), tile_grid_size=(8, 8))\n",
      "\u001B[34m\u001B[1mval: \u001B[0mScanning /content/datasets/Basketball-Players-16/valid/labels... 28 images, 0 backgrounds, 0 corrupt: 100% 28/28 [00:00<00:00, 775.34it/s]\n",
      "\u001B[34m\u001B[1mval: \u001B[0mNew cache created: /content/datasets/Basketball-Players-16/valid/labels.cache\n",
      "Plotting labels to runs/detect/train/labels.jpg... \n",
      "\u001B[34m\u001B[1moptimizer:\u001B[0m 'optimizer=auto' found, ignoring 'lr0=0.01' and 'momentum=0.937' and determining best 'optimizer', 'lr0' and 'momentum' automatically... \n",
      "\u001B[34m\u001B[1moptimizer:\u001B[0m AdamW(lr=0.000769, momentum=0.9) with parameter groups 97 weight(decay=0.0), 104 weight(decay=0.0005), 103 bias(decay=0.0)\n",
      "Image sizes 640 train, 640 val\n",
      "Using 2 dataloader workers\n",
      "Logging results to \u001B[1mruns/detect/train\u001B[0m\n",
      "Starting training for 10 epochs...\n",
      "Closing dataloader mosaic\n",
      "\u001B[34m\u001B[1malbumentations: \u001B[0mBlur(p=0.01, blur_limit=(3, 7)), MedianBlur(p=0.01, blur_limit=(3, 7)), ToGray(p=0.01), CLAHE(p=0.01, clip_limit=(1, 4.0), tile_grid_size=(8, 8))\n",
      "\n",
      "      Epoch    GPU_mem   box_loss   cls_loss   dfl_loss  Instances       Size\n",
      "       1/10      13.6G      1.541      1.615       1.41         41        640: 100% 62/62 [01:22<00:00,  1.33s/it]\n",
      "                 Class     Images  Instances      Box(P          R      mAP50  mAP50-95): 100% 1/1 [00:02<00:00,  2.25s/it]\n",
      "                   all         28        432      0.529      0.664      0.636      0.367\n",
      "\n",
      "      Epoch    GPU_mem   box_loss   cls_loss   dfl_loss  Instances       Size\n",
      "       2/10      14.1G      1.372     0.9676      1.268         35        640: 100% 62/62 [01:18<00:00,  1.27s/it]\n",
      "                 Class     Images  Instances      Box(P          R      mAP50  mAP50-95): 100% 1/1 [00:01<00:00,  1.11s/it]\n",
      "                   all         28        432      0.781      0.677      0.775      0.422\n",
      "\n",
      "      Epoch    GPU_mem   box_loss   cls_loss   dfl_loss  Instances       Size\n",
      "       3/10      14.1G      1.328     0.8785      1.244         46        640: 100% 62/62 [01:18<00:00,  1.26s/it]\n",
      "                 Class     Images  Instances      Box(P          R      mAP50  mAP50-95): 100% 1/1 [00:01<00:00,  1.18s/it]\n",
      "                   all         28        432      0.691      0.719      0.763      0.466\n",
      "\n",
      "      Epoch    GPU_mem   box_loss   cls_loss   dfl_loss  Instances       Size\n",
      "       4/10      14.2G      1.298     0.8144      1.232         50        640: 100% 62/62 [01:18<00:00,  1.26s/it]\n",
      "                 Class     Images  Instances      Box(P          R      mAP50  mAP50-95): 100% 1/1 [00:01<00:00,  1.18s/it]\n",
      "                   all         28        432      0.696      0.752      0.776      0.453\n",
      "\n",
      "      Epoch    GPU_mem   box_loss   cls_loss   dfl_loss  Instances       Size\n",
      "       5/10      14.2G      1.247     0.7572      1.198         42        640: 100% 62/62 [01:18<00:00,  1.26s/it]\n",
      "                 Class     Images  Instances      Box(P          R      mAP50  mAP50-95): 100% 1/1 [00:01<00:00,  1.09s/it]\n",
      "                   all         28        432      0.735       0.77      0.794      0.493\n",
      "\n",
      "      Epoch    GPU_mem   box_loss   cls_loss   dfl_loss  Instances       Size\n",
      "       6/10      14.1G      1.174     0.6842      1.149         56        640: 100% 62/62 [01:17<00:00,  1.26s/it]\n",
      "                 Class     Images  Instances      Box(P          R      mAP50  mAP50-95): 100% 1/1 [00:01<00:00,  1.13s/it]\n",
      "                   all         28        432      0.785      0.765      0.828      0.528\n",
      "\n",
      "      Epoch    GPU_mem   box_loss   cls_loss   dfl_loss  Instances       Size\n",
      "       7/10      14.2G      1.129     0.6287      1.127         39        640: 100% 62/62 [01:18<00:00,  1.26s/it]\n",
      "                 Class     Images  Instances      Box(P          R      mAP50  mAP50-95): 100% 1/1 [00:01<00:00,  1.27s/it]\n",
      "                   all         28        432       0.79      0.811      0.817      0.522\n",
      "\n",
      "      Epoch    GPU_mem   box_loss   cls_loss   dfl_loss  Instances       Size\n",
      "       8/10      14.2G      1.062     0.5746      1.096         56        640: 100% 62/62 [01:17<00:00,  1.25s/it]\n",
      "                 Class     Images  Instances      Box(P          R      mAP50  mAP50-95): 100% 1/1 [00:01<00:00,  1.18s/it]\n",
      "                   all         28        432       0.84       0.85      0.851      0.529\n",
      "\n",
      "      Epoch    GPU_mem   box_loss   cls_loss   dfl_loss  Instances       Size\n",
      "       9/10      14.2G       1.02     0.5331      1.071         72        640: 100% 62/62 [01:18<00:00,  1.26s/it]\n",
      "                 Class     Images  Instances      Box(P          R      mAP50  mAP50-95): 100% 1/1 [00:01<00:00,  1.11s/it]\n",
      "                   all         28        432      0.822       0.83      0.869      0.562\n",
      "\n",
      "      Epoch    GPU_mem   box_loss   cls_loss   dfl_loss  Instances       Size\n",
      "      10/10      14.2G     0.9676     0.4835       1.04         47        640: 100% 62/62 [01:18<00:00,  1.26s/it]\n",
      "                 Class     Images  Instances      Box(P          R      mAP50  mAP50-95): 100% 1/1 [00:01<00:00,  1.13s/it]\n",
      "                   all         28        432      0.838      0.867      0.869      0.555\n",
      "\n",
      "10 epochs completed in 0.251 hours.\n",
      "Optimizer stripped from runs/detect/train/weights/last.pt, 136.7MB\n",
      "Optimizer stripped from runs/detect/train/weights/best.pt, 136.7MB\n",
      "\n",
      "Validating runs/detect/train/weights/best.pt...\n",
      "Ultralytics YOLOv8.0.221 🚀 Python-3.10.12 torch-2.1.0+cu118 CUDA:0 (Tesla T4, 15102MiB)\n",
      "Model summary (fused): 268 layers, 68132235 parameters, 0 gradients, 257.4 GFLOPs\n",
      "                 Class     Images  Instances      Box(P          R      mAP50  mAP50-95): 100% 1/1 [00:01<00:00,  1.00s/it]\n",
      "                   all         28        432      0.822       0.83      0.869       0.56\n",
      "                  Ball         28         17      0.664      0.647      0.578      0.382\n",
      "                  Hoop         28         18      0.843      0.897      0.903       0.62\n",
      "                Period         28         23      0.836      0.739      0.866      0.504\n",
      "                Player         28        219      0.906      0.835        0.9      0.577\n",
      "                   Ref         28         49      0.827       0.78      0.841      0.492\n",
      "            Shot Clock         28         19      0.939      0.815      0.985      0.583\n",
      "             Team Name         28         20      0.774        0.8       0.89      0.573\n",
      "           Team Points         28         45      0.858          1       0.93      0.673\n",
      "        Time Remaining         28         22      0.753      0.955      0.928       0.64\n",
      "Speed: 0.2ms preprocess, 27.8ms inference, 0.0ms loss, 1.3ms postprocess per image\n",
      "Results saved to \u001B[1mruns/detect/train\u001B[0m\n",
      "💡 Learn more at https://docs.ultralytics.com/modes/train\n"
     ]
    }
   ]
  },
  {
   "cell_type": "code",
   "source": [
    "import locale\n",
    "locale.getpreferredencoding = lambda: \"UTF-8\"\n",
    "!yolo task=detect mode=predict model=runs/detect/train/weights/best.pt conf=0.5 source='wemby.png' save=True"
   ],
   "metadata": {
    "colab": {
     "base_uri": "https://localhost:8080/"
    },
    "id": "khc8JtCS-8Mp",
    "outputId": "45de9e7a-fb1a-4e08-f58d-712bd0063469"
   },
   "execution_count": null,
   "outputs": [
    {
     "output_type": "stream",
     "name": "stdout",
     "text": [
      "Ultralytics YOLOv8.0.221 🚀 Python-3.10.12 torch-2.1.0+cu118 CUDA:0 (Tesla T4, 15102MiB)\n",
      "Model summary (fused): 268 layers, 68132235 parameters, 0 gradients, 257.4 GFLOPs\n",
      "\n",
      "image 1/1 /content/wemby.png: 352x640 1 Hoop, 9 Players, 2 Refs, 129.0ms\n",
      "Speed: 3.1ms preprocess, 129.0ms inference, 2.4ms postprocess per image at shape (1, 3, 352, 640)\n",
      "Results saved to \u001B[1mruns/detect/predict\u001B[0m\n",
      "💡 Learn more at https://docs.ultralytics.com/modes/predict\n"
     ]
    }
   ]
  },
  {
   "cell_type": "code",
   "source": [
    "from ultralytics import YOLO\n",
    "model = YOLO('runs/detect/train/weights/best.pt')\n",
    "results = model.track(source='nba.mp4', save=True)  # Tracking with default tracker"
   ],
   "metadata": {
    "colab": {
     "base_uri": "https://localhost:8080/"
    },
    "id": "fdujC0f5CSQ6",
    "outputId": "ffb3ad63-3352-4363-dc65-b1a2cda348b6"
   },
   "execution_count": null,
   "outputs": [
    {
     "output_type": "stream",
     "name": "stdout",
     "text": [
      "\u001B[31m\u001B[1mrequirements:\u001B[0m Ultralytics requirement ['lapx>=0.5.2'] not found, attempting AutoUpdate...\n",
      "Collecting lapx>=0.5.2\n",
      "  Downloading lapx-0.5.5-cp310-cp310-manylinux_2_5_x86_64.manylinux1_x86_64.manylinux_2_17_x86_64.manylinux2014_x86_64.whl (1.7 MB)\n",
      "     ━━━━━━━━━━━━━━━━━━━━━━━━━━━━━━━━━━━━━━━━ 1.7/1.7 MB 16.1 MB/s eta 0:00:00\n",
      "Requirement already satisfied: Cython>=0.29.32 in /usr/local/lib/python3.10/dist-packages (from lapx>=0.5.2) (3.0.5)\n",
      "Requirement already satisfied: numpy>=1.21.6 in /usr/local/lib/python3.10/dist-packages (from lapx>=0.5.2) (1.23.5)\n",
      "Installing collected packages: lapx\n",
      "Successfully installed lapx-0.5.5\n",
      "\n",
      "\u001B[31m\u001B[1mrequirements:\u001B[0m AutoUpdate success ✅ 8.2s, installed 1 package: ['lapx>=0.5.2']\n",
      "\u001B[31m\u001B[1mrequirements:\u001B[0m ⚠️ \u001B[1mRestart runtime or rerun command for updates to take effect\u001B[0m\n",
      "\n",
      "\n",
      "\n",
      "WARNING ⚠️ inference results will accumulate in RAM unless `stream=True` is passed, causing potential out-of-memory\n",
      "errors for large sources or long-running streams and videos. See https://docs.ultralytics.com/modes/predict/ for help.\n",
      "\n",
      "Example:\n",
      "    results = model(source=..., stream=True)  # generator of Results objects\n",
      "    for r in results:\n",
      "        boxes = r.boxes  # Boxes object for bbox outputs\n",
      "        masks = r.masks  # Masks object for segment masks outputs\n",
      "        probs = r.probs  # Class probabilities for classification outputs\n",
      "\n",
      "video 1/1 (1/235) /content/nba.mp4: 384x640 1 Hoop, 8 Players, 4 Refs, 3 Team Pointss, 70.2ms\n",
      "video 1/1 (2/235) /content/nba.mp4: 384x640 1 Hoop, 8 Players, 4 Refs, 3 Team Pointss, 63.1ms\n",
      "video 1/1 (3/235) /content/nba.mp4: 384x640 1 Hoop, 8 Players, 4 Refs, 3 Team Pointss, 63.0ms\n",
      "video 1/1 (4/235) /content/nba.mp4: 384x640 1 Hoop, 8 Players, 4 Refs, 3 Team Pointss, 63.2ms\n",
      "video 1/1 (5/235) /content/nba.mp4: 384x640 1 Hoop, 8 Players, 4 Refs, 3 Team Pointss, 63.1ms\n",
      "video 1/1 (6/235) /content/nba.mp4: 384x640 1 Hoop, 8 Players, 4 Refs, 3 Team Pointss, 59.6ms\n",
      "video 1/1 (7/235) /content/nba.mp4: 384x640 1 Hoop, 8 Players, 4 Refs, 3 Team Pointss, 51.8ms\n",
      "video 1/1 (8/235) /content/nba.mp4: 384x640 1 Hoop, 7 Players, 5 Refs, 3 Team Pointss, 51.7ms\n",
      "video 1/1 (9/235) /content/nba.mp4: 384x640 1 Hoop, 7 Players, 6 Refs, 3 Team Pointss, 51.5ms\n",
      "video 1/1 (10/235) /content/nba.mp4: 384x640 1 Hoop, 8 Players, 5 Refs, 3 Team Pointss, 51.0ms\n",
      "video 1/1 (11/235) /content/nba.mp4: 384x640 1 Hoop, 8 Players, 5 Refs, 3 Team Pointss, 50.9ms\n",
      "video 1/1 (12/235) /content/nba.mp4: 384x640 1 Ball, 1 Hoop, 8 Players, 5 Refs, 3 Team Pointss, 51.0ms\n",
      "video 1/1 (13/235) /content/nba.mp4: 384x640 1 Ball, 1 Hoop, 8 Players, 5 Refs, 3 Team Pointss, 50.8ms\n",
      "video 1/1 (14/235) /content/nba.mp4: 384x640 1 Ball, 1 Hoop, 8 Players, 4 Refs, 3 Team Pointss, 47.0ms\n",
      "video 1/1 (15/235) /content/nba.mp4: 384x640 1 Ball, 1 Hoop, 9 Players, 4 Refs, 3 Team Pointss, 47.3ms\n",
      "video 1/1 (16/235) /content/nba.mp4: 384x640 1 Ball, 1 Hoop, 8 Players, 4 Refs, 3 Team Pointss, 47.1ms\n",
      "video 1/1 (17/235) /content/nba.mp4: 384x640 1 Ball, 1 Hoop, 7 Players, 5 Refs, 3 Team Pointss, 47.0ms\n",
      "video 1/1 (18/235) /content/nba.mp4: 384x640 1 Ball, 1 Hoop, 8 Players, 5 Refs, 3 Team Pointss, 47.1ms\n",
      "video 1/1 (19/235) /content/nba.mp4: 384x640 1 Ball, 1 Hoop, 8 Players, 5 Refs, 3 Team Pointss, 47.0ms\n",
      "video 1/1 (20/235) /content/nba.mp4: 384x640 1 Ball, 1 Hoop, 8 Players, 5 Refs, 3 Team Pointss, 47.1ms\n",
      "video 1/1 (21/235) /content/nba.mp4: 384x640 1 Ball, 1 Hoop, 8 Players, 5 Refs, 3 Team Pointss, 47.3ms\n",
      "video 1/1 (22/235) /content/nba.mp4: 384x640 1 Ball, 1 Hoop, 8 Players, 4 Refs, 3 Team Pointss, 47.0ms\n",
      "video 1/1 (23/235) /content/nba.mp4: 384x640 1 Ball, 1 Hoop, 8 Players, 4 Refs, 3 Team Pointss, 48.0ms\n",
      "video 1/1 (24/235) /content/nba.mp4: 384x640 1 Ball, 1 Hoop, 8 Players, 4 Refs, 3 Team Pointss, 59.0ms\n",
      "video 1/1 (25/235) /content/nba.mp4: 384x640 1 Ball, 1 Hoop, 8 Players, 4 Refs, 3 Team Pointss, 60.3ms\n",
      "video 1/1 (26/235) /content/nba.mp4: 384x640 1 Ball, 1 Hoop, 7 Players, 5 Refs, 3 Team Pointss, 61.5ms\n",
      "video 1/1 (27/235) /content/nba.mp4: 384x640 1 Ball, 1 Hoop, 7 Players, 5 Refs, 3 Team Pointss, 62.9ms\n",
      "video 1/1 (28/235) /content/nba.mp4: 384x640 1 Ball, 1 Hoop, 7 Players, 5 Refs, 3 Team Pointss, 63.1ms\n",
      "video 1/1 (29/235) /content/nba.mp4: 384x640 1 Ball, 1 Hoop, 7 Players, 5 Refs, 3 Team Pointss, 63.1ms\n",
      "video 1/1 (30/235) /content/nba.mp4: 384x640 1 Ball, 1 Hoop, 8 Players, 5 Refs, 3 Team Pointss, 62.9ms\n",
      "video 1/1 (31/235) /content/nba.mp4: 384x640 1 Hoop, 9 Players, 4 Refs, 3 Team Pointss, 63.7ms\n",
      "video 1/1 (32/235) /content/nba.mp4: 384x640 1 Hoop, 8 Players, 3 Refs, 3 Team Pointss, 62.9ms\n",
      "video 1/1 (33/235) /content/nba.mp4: 384x640 1 Hoop, 9 Players, 3 Refs, 3 Team Pointss, 62.9ms\n",
      "video 1/1 (34/235) /content/nba.mp4: 384x640 1 Hoop, 9 Players, 3 Refs, 3 Team Pointss, 62.9ms\n",
      "video 1/1 (35/235) /content/nba.mp4: 384x640 1 Hoop, 9 Players, 3 Refs, 3 Team Pointss, 62.9ms\n",
      "video 1/1 (36/235) /content/nba.mp4: 384x640 1 Hoop, 9 Players, 3 Refs, 3 Team Pointss, 62.9ms\n",
      "video 1/1 (37/235) /content/nba.mp4: 384x640 1 Hoop, 8 Players, 3 Refs, 3 Team Pointss, 62.9ms\n",
      "video 1/1 (38/235) /content/nba.mp4: 384x640 1 Hoop, 7 Players, 4 Refs, 3 Team Pointss, 62.9ms\n",
      "video 1/1 (39/235) /content/nba.mp4: 384x640 1 Hoop, 6 Players, 5 Refs, 3 Team Pointss, 62.9ms\n",
      "video 1/1 (40/235) /content/nba.mp4: 384x640 1 Hoop, 8 Players, 3 Refs, 3 Team Pointss, 63.0ms\n",
      "video 1/1 (41/235) /content/nba.mp4: 384x640 1 Ball, 1 Hoop, 8 Players, 3 Refs, 3 Team Pointss, 62.9ms\n",
      "video 1/1 (42/235) /content/nba.mp4: 384x640 1 Ball, 1 Hoop, 8 Players, 3 Refs, 3 Team Pointss, 62.9ms\n",
      "video 1/1 (43/235) /content/nba.mp4: 384x640 2 Balls, 1 Hoop, 8 Players, 3 Refs, 3 Team Pointss, 62.9ms\n",
      "video 1/1 (44/235) /content/nba.mp4: 384x640 2 Balls, 1 Hoop, 10 Players, 3 Refs, 3 Team Pointss, 62.9ms\n",
      "video 1/1 (45/235) /content/nba.mp4: 384x640 2 Balls, 1 Hoop, 8 Players, 3 Refs, 3 Team Pointss, 63.0ms\n",
      "video 1/1 (46/235) /content/nba.mp4: 384x640 2 Balls, 1 Hoop, 9 Players, 3 Refs, 3 Team Pointss, 62.9ms\n",
      "video 1/1 (47/235) /content/nba.mp4: 384x640 2 Balls, 1 Hoop, 9 Players, 3 Refs, 3 Team Pointss, 63.0ms\n",
      "video 1/1 (48/235) /content/nba.mp4: 384x640 2 Balls, 1 Hoop, 9 Players, 3 Refs, 3 Team Pointss, 62.9ms\n",
      "video 1/1 (49/235) /content/nba.mp4: 384x640 2 Balls, 1 Hoop, 9 Players, 3 Refs, 3 Team Pointss, 62.9ms\n",
      "video 1/1 (50/235) /content/nba.mp4: 384x640 2 Balls, 1 Hoop, 9 Players, 3 Refs, 4 Team Pointss, 65.1ms\n",
      "video 1/1 (51/235) /content/nba.mp4: 384x640 2 Balls, 1 Hoop, 9 Players, 3 Refs, 4 Team Pointss, 50.2ms\n",
      "video 1/1 (52/235) /content/nba.mp4: 384x640 2 Balls, 1 Hoop, 8 Players, 4 Refs, 4 Team Pointss, 50.0ms\n",
      "video 1/1 (53/235) /content/nba.mp4: 384x640 2 Balls, 1 Hoop, 9 Players, 3 Refs, 4 Team Pointss, 50.1ms\n",
      "video 1/1 (54/235) /content/nba.mp4: 384x640 2 Balls, 1 Hoop, 8 Players, 4 Refs, 4 Team Pointss, 41.5ms\n",
      "video 1/1 (55/235) /content/nba.mp4: 384x640 2 Balls, 1 Hoop, 8 Players, 4 Refs, 4 Team Pointss, 41.5ms\n",
      "video 1/1 (56/235) /content/nba.mp4: 384x640 2 Balls, 1 Hoop, 8 Players, 4 Refs, 4 Team Pointss, 41.7ms\n",
      "video 1/1 (57/235) /content/nba.mp4: 384x640 1 Ball, 1 Hoop, 8 Players, 4 Refs, 4 Team Pointss, 40.7ms\n",
      "video 1/1 (58/235) /content/nba.mp4: 384x640 1 Ball, 1 Hoop, 8 Players, 4 Refs, 4 Team Pointss, 40.5ms\n",
      "video 1/1 (59/235) /content/nba.mp4: 384x640 1 Ball, 1 Hoop, 8 Players, 4 Refs, 4 Team Pointss, 39.6ms\n",
      "video 1/1 (60/235) /content/nba.mp4: 384x640 1 Ball, 1 Hoop, 8 Players, 3 Refs, 4 Team Pointss, 39.4ms\n",
      "video 1/1 (61/235) /content/nba.mp4: 384x640 1 Ball, 1 Hoop, 9 Players, 3 Refs, 4 Team Pointss, 39.6ms\n",
      "video 1/1 (62/235) /content/nba.mp4: 384x640 1 Ball, 1 Hoop, 8 Players, 2 Refs, 4 Team Pointss, 39.4ms\n",
      "video 1/1 (63/235) /content/nba.mp4: 384x640 1 Ball, 1 Hoop, 8 Players, 2 Refs, 4 Team Pointss, 39.6ms\n",
      "video 1/1 (64/235) /content/nba.mp4: 384x640 1 Ball, 1 Hoop, 8 Players, 2 Refs, 4 Team Pointss, 39.4ms\n",
      "video 1/1 (65/235) /content/nba.mp4: 384x640 1 Ball, 1 Hoop, 7 Players, 2 Refs, 4 Team Pointss, 39.5ms\n",
      "video 1/1 (66/235) /content/nba.mp4: 384x640 1 Ball, 1 Hoop, 7 Players, 2 Refs, 4 Team Pointss, 39.5ms\n",
      "video 1/1 (67/235) /content/nba.mp4: 384x640 1 Ball, 1 Hoop, 8 Players, 2 Refs, 4 Team Pointss, 39.6ms\n",
      "video 1/1 (68/235) /content/nba.mp4: 384x640 1 Ball, 1 Hoop, 8 Players, 2 Refs, 4 Team Pointss, 39.6ms\n",
      "video 1/1 (69/235) /content/nba.mp4: 384x640 1 Ball, 1 Hoop, 9 Players, 2 Refs, 4 Team Pointss, 39.4ms\n",
      "video 1/1 (70/235) /content/nba.mp4: 384x640 1 Ball, 1 Hoop, 9 Players, 2 Refs, 4 Team Pointss, 39.5ms\n",
      "video 1/1 (71/235) /content/nba.mp4: 384x640 1 Ball, 1 Hoop, 9 Players, 2 Refs, 4 Team Pointss, 39.9ms\n",
      "video 1/1 (72/235) /content/nba.mp4: 384x640 1 Ball, 1 Hoop, 9 Players, 2 Refs, 4 Team Pointss, 39.6ms\n",
      "video 1/1 (73/235) /content/nba.mp4: 384x640 1 Ball, 1 Hoop, 9 Players, 2 Refs, 3 Team Pointss, 41.6ms\n",
      "video 1/1 (74/235) /content/nba.mp4: 384x640 1 Ball, 1 Hoop, 9 Players, 3 Refs, 3 Team Pointss, 41.5ms\n",
      "video 1/1 (75/235) /content/nba.mp4: 384x640 1 Ball, 1 Hoop, 9 Players, 3 Refs, 3 Team Pointss, 40.8ms\n",
      "video 1/1 (76/235) /content/nba.mp4: 384x640 1 Ball, 1 Hoop, 9 Players, 2 Refs, 3 Team Pointss, 39.6ms\n",
      "video 1/1 (77/235) /content/nba.mp4: 384x640 1 Ball, 1 Hoop, 8 Players, 3 Refs, 3 Team Pointss, 39.4ms\n",
      "video 1/1 (78/235) /content/nba.mp4: 384x640 1 Ball, 1 Hoop, 8 Players, 3 Refs, 3 Team Pointss, 39.4ms\n",
      "video 1/1 (79/235) /content/nba.mp4: 384x640 2 Balls, 1 Hoop, 9 Players, 3 Refs, 3 Team Pointss, 39.5ms\n",
      "video 1/1 (80/235) /content/nba.mp4: 384x640 2 Balls, 1 Hoop, 9 Players, 3 Refs, 3 Team Pointss, 39.6ms\n",
      "video 1/1 (81/235) /content/nba.mp4: 384x640 2 Balls, 1 Hoop, 9 Players, 3 Refs, 3 Team Pointss, 39.5ms\n",
      "video 1/1 (82/235) /content/nba.mp4: 384x640 3 Balls, 1 Hoop, 8 Players, 2 Refs, 3 Team Pointss, 39.9ms\n",
      "video 1/1 (83/235) /content/nba.mp4: 384x640 2 Balls, 1 Hoop, 8 Players, 2 Refs, 3 Team Pointss, 39.5ms\n",
      "video 1/1 (84/235) /content/nba.mp4: 384x640 2 Balls, 1 Hoop, 8 Players, 2 Refs, 3 Team Pointss, 39.6ms\n",
      "video 1/1 (85/235) /content/nba.mp4: 384x640 2 Balls, 1 Hoop, 7 Players, 3 Refs, 3 Team Pointss, 39.7ms\n",
      "video 1/1 (86/235) /content/nba.mp4: 384x640 2 Balls, 1 Hoop, 8 Players, 2 Refs, 3 Team Pointss, 39.5ms\n",
      "video 1/1 (87/235) /content/nba.mp4: 384x640 2 Balls, 1 Hoop, 8 Players, 2 Refs, 3 Team Pointss, 39.5ms\n",
      "video 1/1 (88/235) /content/nba.mp4: 384x640 2 Balls, 1 Hoop, 8 Players, 2 Refs, 3 Team Pointss, 39.5ms\n",
      "video 1/1 (89/235) /content/nba.mp4: 384x640 2 Balls, 1 Hoop, 7 Players, 2 Refs, 3 Team Pointss, 39.5ms\n",
      "video 1/1 (90/235) /content/nba.mp4: 384x640 2 Balls, 1 Hoop, 7 Players, 2 Refs, 3 Team Pointss, 39.5ms\n",
      "video 1/1 (91/235) /content/nba.mp4: 384x640 3 Balls, 1 Hoop, 7 Players, 3 Refs, 3 Team Pointss, 41.0ms\n",
      "video 1/1 (92/235) /content/nba.mp4: 384x640 3 Balls, 1 Hoop, 7 Players, 3 Refs, 3 Team Pointss, 41.2ms\n",
      "video 1/1 (93/235) /content/nba.mp4: 384x640 3 Balls, 1 Hoop, 8 Players, 3 Refs, 3 Team Pointss, 40.9ms\n",
      "video 1/1 (94/235) /content/nba.mp4: 384x640 3 Balls, 1 Hoop, 8 Players, 3 Refs, 2 Team Pointss, 1 Time Remaining, 39.6ms\n",
      "video 1/1 (95/235) /content/nba.mp4: 384x640 2 Balls, 1 Hoop, 8 Players, 3 Refs, 3 Team Pointss, 1 Time Remaining, 39.6ms\n",
      "video 1/1 (96/235) /content/nba.mp4: 384x640 2 Balls, 1 Hoop, 8 Players, 3 Refs, 3 Team Pointss, 1 Time Remaining, 39.5ms\n",
      "video 1/1 (97/235) /content/nba.mp4: 384x640 2 Balls, 1 Hoop, 8 Players, 2 Refs, 3 Team Pointss, 1 Time Remaining, 39.6ms\n",
      "video 1/1 (98/235) /content/nba.mp4: 384x640 2 Balls, 1 Hoop, 8 Players, 2 Refs, 3 Team Pointss, 1 Time Remaining, 39.9ms\n",
      "video 1/1 (99/235) /content/nba.mp4: 384x640 2 Balls, 1 Hoop, 8 Players, 3 Refs, 3 Team Pointss, 39.5ms\n",
      "video 1/1 (100/235) /content/nba.mp4: 384x640 1 Ball, 1 Hoop, 9 Players, 3 Refs, 2 Team Pointss, 39.8ms\n",
      "video 1/1 (101/235) /content/nba.mp4: 384x640 1 Ball, 1 Hoop, 8 Players, 2 Refs, 2 Team Pointss, 39.5ms\n",
      "video 1/1 (102/235) /content/nba.mp4: 384x640 1 Ball, 1 Hoop, 8 Players, 2 Refs, 2 Team Pointss, 39.5ms\n",
      "video 1/1 (103/235) /content/nba.mp4: 384x640 1 Ball, 1 Hoop, 10 Players, 2 Refs, 2 Team Pointss, 39.5ms\n",
      "video 1/1 (104/235) /content/nba.mp4: 384x640 1 Ball, 1 Hoop, 8 Players, 4 Refs, 2 Team Pointss, 39.5ms\n",
      "video 1/1 (105/235) /content/nba.mp4: 384x640 1 Ball, 1 Hoop, 8 Players, 2 Refs, 1 Team Points, 1 Time Remaining, 39.7ms\n",
      "video 1/1 (106/235) /content/nba.mp4: 384x640 1 Ball, 1 Hoop, 8 Players, 2 Refs, 1 Team Points, 1 Time Remaining, 40.5ms\n",
      "video 1/1 (107/235) /content/nba.mp4: 384x640 1 Ball, 1 Hoop, 9 Players, 2 Refs, 2 Team Pointss, 41.3ms\n",
      "video 1/1 (108/235) /content/nba.mp4: 384x640 1 Ball, 1 Hoop, 10 Players, 2 Refs, 2 Team Pointss, 41.2ms\n",
      "video 1/1 (109/235) /content/nba.mp4: 384x640 1 Ball, 1 Hoop, 8 Players, 3 Refs, 2 Team Pointss, 40.7ms\n",
      "video 1/1 (110/235) /content/nba.mp4: 384x640 1 Ball, 1 Hoop, 9 Players, 2 Refs, 2 Team Pointss, 40.0ms\n",
      "video 1/1 (111/235) /content/nba.mp4: 384x640 1 Ball, 1 Hoop, 10 Players, 2 Refs, 2 Team Pointss, 39.6ms\n",
      "video 1/1 (112/235) /content/nba.mp4: 384x640 1 Ball, 1 Hoop, 9 Players, 2 Refs, 2 Team Pointss, 39.5ms\n",
      "video 1/1 (113/235) /content/nba.mp4: 384x640 1 Ball, 1 Hoop, 9 Players, 2 Refs, 2 Team Pointss, 39.4ms\n",
      "video 1/1 (114/235) /content/nba.mp4: 384x640 1 Ball, 1 Hoop, 8 Players, 2 Refs, 2 Team Pointss, 39.5ms\n",
      "video 1/1 (115/235) /content/nba.mp4: 384x640 1 Ball, 1 Hoop, 8 Players, 2 Refs, 2 Team Pointss, 39.8ms\n",
      "video 1/1 (116/235) /content/nba.mp4: 384x640 1 Ball, 1 Hoop, 8 Players, 2 Refs, 3 Team Pointss, 39.6ms\n",
      "video 1/1 (117/235) /content/nba.mp4: 384x640 1 Ball, 1 Hoop, 8 Players, 2 Refs, 3 Team Pointss, 39.6ms\n",
      "video 1/1 (118/235) /content/nba.mp4: 384x640 1 Ball, 1 Hoop, 8 Players, 2 Refs, 3 Team Pointss, 39.4ms\n",
      "video 1/1 (119/235) /content/nba.mp4: 384x640 1 Ball, 1 Hoop, 7 Players, 2 Refs, 3 Team Pointss, 39.4ms\n",
      "video 1/1 (120/235) /content/nba.mp4: 384x640 1 Ball, 1 Hoop, 7 Players, 2 Refs, 2 Team Pointss, 1 Time Remaining, 39.5ms\n",
      "video 1/1 (121/235) /content/nba.mp4: 384x640 1 Ball, 1 Hoop, 7 Players, 2 Refs, 2 Team Pointss, 1 Time Remaining, 39.5ms\n",
      "video 1/1 (122/235) /content/nba.mp4: 384x640 1 Ball, 1 Hoop, 8 Players, 2 Refs, 2 Team Pointss, 1 Time Remaining, 39.4ms\n",
      "video 1/1 (123/235) /content/nba.mp4: 384x640 1 Ball, 1 Hoop, 9 Players, 2 Refs, 2 Team Pointss, 1 Time Remaining, 39.9ms\n",
      "video 1/1 (124/235) /content/nba.mp4: 384x640 1 Ball, 1 Hoop, 9 Players, 2 Refs, 2 Team Pointss, 1 Time Remaining, 41.1ms\n",
      "video 1/1 (125/235) /content/nba.mp4: 384x640 1 Ball, 1 Hoop, 8 Players, 3 Refs, 2 Team Pointss, 1 Time Remaining, 41.1ms\n",
      "video 1/1 (126/235) /content/nba.mp4: 384x640 1 Ball, 1 Hoop, 9 Players, 2 Refs, 2 Team Pointss, 1 Time Remaining, 41.2ms\n",
      "video 1/1 (127/235) /content/nba.mp4: 384x640 1 Ball, 1 Hoop, 8 Players, 2 Refs, 2 Team Pointss, 1 Time Remaining, 40.7ms\n",
      "video 1/1 (128/235) /content/nba.mp4: 384x640 1 Ball, 1 Hoop, 8 Players, 2 Refs, 2 Team Pointss, 1 Time Remaining, 39.8ms\n",
      "video 1/1 (129/235) /content/nba.mp4: 384x640 1 Ball, 1 Hoop, 7 Players, 2 Refs, 1 Team Points, 1 Time Remaining, 39.5ms\n",
      "video 1/1 (130/235) /content/nba.mp4: 384x640 1 Ball, 1 Hoop, 7 Players, 3 Refs, 1 Team Points, 1 Time Remaining, 39.4ms\n",
      "video 1/1 (131/235) /content/nba.mp4: 384x640 1 Ball, 1 Hoop, 8 Players, 1 Ref, 2 Team Pointss, 39.6ms\n",
      "video 1/1 (132/235) /content/nba.mp4: 384x640 1 Ball, 1 Hoop, 7 Players, 2 Refs, 1 Team Points, 1 Time Remaining, 39.5ms\n",
      "video 1/1 (133/235) /content/nba.mp4: 384x640 1 Ball, 1 Hoop, 8 Players, 1 Ref, 1 Team Points, 1 Time Remaining, 39.5ms\n",
      "video 1/1 (134/235) /content/nba.mp4: 384x640 2 Balls, 1 Hoop, 8 Players, 1 Ref, 2 Team Pointss, 39.6ms\n",
      "video 1/1 (135/235) /content/nba.mp4: 384x640 2 Balls, 1 Hoop, 7 Players, 2 Refs, 1 Team Points, 1 Time Remaining, 39.5ms\n",
      "video 1/1 (136/235) /content/nba.mp4: 384x640 2 Balls, 1 Hoop, 7 Players, 2 Refs, 1 Team Points, 1 Time Remaining, 39.6ms\n",
      "video 1/1 (137/235) /content/nba.mp4: 384x640 2 Balls, 1 Hoop, 8 Players, 1 Ref, 1 Team Points, 1 Time Remaining, 39.6ms\n",
      "video 1/1 (138/235) /content/nba.mp4: 384x640 2 Balls, 1 Hoop, 7 Players, 2 Refs, 1 Team Points, 1 Time Remaining, 53.7ms\n",
      "video 1/1 (139/235) /content/nba.mp4: 384x640 2 Balls, 1 Hoop, 8 Players, 1 Ref, 1 Team Points, 1 Time Remaining, 55.6ms\n",
      "video 1/1 (140/235) /content/nba.mp4: 384x640 2 Balls, 1 Hoop, 10 Players, 1 Ref, 1 Team Points, 1 Time Remaining, 56.7ms\n",
      "video 1/1 (141/235) /content/nba.mp4: 384x640 1 Ball, 1 Hoop, 10 Players, 1 Ref, 2 Team Pointss, 57.9ms\n",
      "video 1/1 (142/235) /content/nba.mp4: 384x640 1 Ball, 1 Hoop, 8 Players, 1 Ref, 2 Team Pointss, 59.0ms\n",
      "video 1/1 (143/235) /content/nba.mp4: 384x640 1 Ball, 1 Hoop, 8 Players, 1 Ref, 1 Team Points, 1 Time Remaining, 60.5ms\n",
      "video 1/1 (144/235) /content/nba.mp4: 384x640 1 Ball, 1 Hoop, 9 Players, 1 Ref, 1 Team Points, 1 Time Remaining, 61.6ms\n",
      "video 1/1 (145/235) /content/nba.mp4: 384x640 1 Ball, 1 Hoop, 9 Players, 1 Ref, 1 Team Points, 1 Time Remaining, 62.9ms\n",
      "video 1/1 (146/235) /content/nba.mp4: 384x640 1 Ball, 1 Hoop, 9 Players, 1 Ref, 1 Team Points, 1 Time Remaining, 64.6ms\n",
      "video 1/1 (147/235) /content/nba.mp4: 384x640 1 Ball, 2 Hoops, 9 Players, 1 Ref, 1 Team Points, 1 Time Remaining, 64.3ms\n",
      "video 1/1 (148/235) /content/nba.mp4: 384x640 1 Ball, 2 Hoops, 9 Players, 1 Ref, 1 Team Points, 1 Time Remaining, 62.9ms\n",
      "video 1/1 (149/235) /content/nba.mp4: 384x640 1 Ball, 2 Hoops, 9 Players, 1 Ref, 2 Team Pointss, 62.9ms\n",
      "video 1/1 (150/235) /content/nba.mp4: 384x640 1 Ball, 2 Hoops, 9 Players, 1 Ref, 2 Team Pointss, 62.9ms\n",
      "video 1/1 (151/235) /content/nba.mp4: 384x640 1 Ball, 1 Hoop, 8 Players, 1 Ref, 2 Team Pointss, 62.9ms\n",
      "video 1/1 (152/235) /content/nba.mp4: 384x640 1 Ball, 1 Hoop, 8 Players, 1 Ref, 2 Team Pointss, 63.0ms\n",
      "video 1/1 (153/235) /content/nba.mp4: 384x640 1 Ball, 1 Hoop, 8 Players, 1 Ref, 2 Team Pointss, 64.1ms\n",
      "video 1/1 (154/235) /content/nba.mp4: 384x640 1 Ball, 1 Hoop, 8 Players, 1 Ref, 2 Team Pointss, 62.9ms\n",
      "video 1/1 (155/235) /content/nba.mp4: 384x640 1 Ball, 1 Hoop, 8 Players, 1 Ref, 2 Team Pointss, 1 Time Remaining, 63.8ms\n",
      "video 1/1 (156/235) /content/nba.mp4: 384x640 2 Balls, 1 Hoop, 8 Players, 1 Ref, 2 Team Pointss, 1 Time Remaining, 62.9ms\n",
      "video 1/1 (157/235) /content/nba.mp4: 384x640 2 Balls, 1 Hoop, 8 Players, 1 Ref, 2 Team Pointss, 1 Time Remaining, 62.9ms\n",
      "video 1/1 (158/235) /content/nba.mp4: 384x640 1 Ball, 1 Hoop, 8 Players, 1 Ref, 2 Team Pointss, 1 Time Remaining, 63.0ms\n",
      "video 1/1 (159/235) /content/nba.mp4: 384x640 1 Ball, 1 Hoop, 8 Players, 1 Ref, 2 Team Pointss, 1 Time Remaining, 62.9ms\n",
      "video 1/1 (160/235) /content/nba.mp4: 384x640 1 Ball, 1 Hoop, 8 Players, 1 Ref, 2 Team Pointss, 1 Time Remaining, 63.6ms\n",
      "video 1/1 (161/235) /content/nba.mp4: 384x640 1 Ball, 1 Hoop, 8 Players, 1 Ref, 2 Team Pointss, 1 Time Remaining, 64.8ms\n",
      "video 1/1 (162/235) /content/nba.mp4: 384x640 2 Balls, 1 Hoop, 8 Players, 1 Ref, 2 Team Pointss, 1 Time Remaining, 63.0ms\n",
      "video 1/1 (163/235) /content/nba.mp4: 384x640 1 Hoop, 8 Players, 1 Ref, 2 Team Pointss, 1 Time Remaining, 63.0ms\n",
      "video 1/1 (164/235) /content/nba.mp4: 384x640 1 Hoop, 9 Players, 1 Ref, 2 Team Pointss, 1 Time Remaining, 63.8ms\n",
      "video 1/1 (165/235) /content/nba.mp4: 384x640 1 Hoop, 9 Players, 1 Ref, 1 Team Points, 2 Time Remainings, 62.9ms\n",
      "video 1/1 (166/235) /content/nba.mp4: 384x640 1 Hoop, 9 Players, 1 Ref, 2 Team Pointss, 1 Time Remaining, 63.0ms\n",
      "video 1/1 (167/235) /content/nba.mp4: 384x640 1 Hoop, 9 Players, 1 Ref, 1 Team Points, 2 Time Remainings, 61.4ms\n",
      "video 1/1 (168/235) /content/nba.mp4: 384x640 1 Hoop, 9 Players, 1 Ref, 2 Team Pointss, 1 Time Remaining, 60.4ms\n",
      "video 1/1 (169/235) /content/nba.mp4: 384x640 1 Hoop, 9 Players, 1 Ref, 1 Team Points, 2 Time Remainings, 56.1ms\n",
      "video 1/1 (170/235) /content/nba.mp4: 384x640 1 Hoop, 9 Players, 1 Ref, 1 Team Points, 2 Time Remainings, 52.8ms\n",
      "video 1/1 (171/235) /content/nba.mp4: 384x640 1 Hoop, 9 Players, 1 Ref, 1 Team Points, 2 Time Remainings, 52.7ms\n",
      "video 1/1 (172/235) /content/nba.mp4: 384x640 1 Hoop, 8 Players, 2 Refs, 1 Team Points, 3 Time Remainings, 51.9ms\n",
      "video 1/1 (173/235) /content/nba.mp4: 384x640 1 Hoop, 9 Players, 1 Ref, 1 Team Points, 3 Time Remainings, 51.8ms\n",
      "video 1/1 (174/235) /content/nba.mp4: 384x640 1 Hoop, 9 Players, 1 Ref, 2 Team Pointss, 2 Time Remainings, 51.8ms\n",
      "video 1/1 (175/235) /content/nba.mp4: 384x640 1 Hoop, 8 Players, 2 Refs, 2 Team Pointss, 2 Time Remainings, 53.0ms\n",
      "Speed: 2.0ms preprocess, 49.7ms inference, 1.9ms postprocess per image at shape (1, 3, 384, 640)\n",
      "Results saved to \u001B[1mruns/detect/predict2\u001B[0m\n"
     ]
    }
   ]
  }
 ]
}
